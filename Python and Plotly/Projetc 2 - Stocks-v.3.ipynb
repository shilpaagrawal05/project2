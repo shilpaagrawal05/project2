{
 "cells": [
  {
   "cell_type": "markdown",
   "metadata": {},
   "source": [
    "# Stocks Visualization - Python / Plotly / D3 / Babel / .JS / Node / Heroku"
   ]
  },
  {
   "cell_type": "markdown",
   "metadata": {},
   "source": [
    "### Stocks Visualization and Analysis - Scraping / Fetching data Yahoo Finance & Quandly & Alpha_vantage using APIs and libs."
   ]
  },
  {
   "cell_type": "markdown",
   "metadata": {},
   "source": [
    "#### Fetching data using Yahoo Finance"
   ]
  },
  {
   "cell_type": "code",
   "execution_count": 1,
   "metadata": {},
   "outputs": [],
   "source": [
    "#!pip install pandas-datareader\n",
    "#!pip install fix-yahoo-finance\n",
    "#!pip install yfinance --upgrade --no-cache-dir"
   ]
  },
  {
   "cell_type": "code",
   "execution_count": 2,
   "metadata": {},
   "outputs": [],
   "source": [
    "from pandas_datareader import data\n",
    "import matplotlib.pyplot as plt\n",
    "import pandas as pd\n",
    "pd.core.common.is_list_like = pd.api.types.is_list_like\n",
    "import pandas_datareader as pdr\n",
    "from datetime import datetime"
   ]
  },
  {
   "cell_type": "code",
   "execution_count": 3,
   "metadata": {},
   "outputs": [],
   "source": [
    "tickers = ['AAPL', 'MSFT', '^GSPC']"
   ]
  },
  {
   "cell_type": "code",
   "execution_count": 4,
   "metadata": {},
   "outputs": [],
   "source": [
    "start_date = datetime(200,1,1)\n",
    "end_date = datetime(2020,1,1)"
   ]
  },
  {
   "cell_type": "code",
   "execution_count": 5,
   "metadata": {},
   "outputs": [],
   "source": [
    "import yfinance as yf"
   ]
  },
  {
   "cell_type": "code",
   "execution_count": 6,
   "metadata": {},
   "outputs": [],
   "source": [
    "msft = yf.Ticker(\"MSFT\")"
   ]
  },
  {
   "cell_type": "code",
   "execution_count": 7,
   "metadata": {},
   "outputs": [
    {
     "data": {
      "text/plain": [
       "{'zip': '98052',\n",
       " 'sector': 'Technology',\n",
       " 'fullTimeEmployees': 144000,\n",
       " 'longBusinessSummary': \"Microsoft Corporation develops, licenses, and supports software, services, devices, and solutions worldwide. The company's Productivity and Business Processes segment offers Office, Exchange, SharePoint, Microsoft Teams, Office 365 Security and Compliance, and Skype for Business, as well as related Client Access Licenses (CAL); and Skype, Outlook.com, and OneDrive. It also provides LinkedIn that includes Talent and marketing solutions, and subscriptions; and Dynamics 365, a set of cloud-based and on-premises business solutions for small and medium businesses, large organizations, and divisions of enterprises. The company's Intelligent Cloud segment licenses SQL and Windows Servers, Visual Studio, System Center, and related CALs; GitHub that provides a collaboration platform and code hosting service for developers; and Azure, a cloud platform. It also provides support services and Microsoft consulting services to assist customers in developing, deploying, and managing Microsoft server and desktop solutions; and training and certification to developers and IT professionals on various Microsoft products. The company's More Personal Computing segment offers Windows OEM licensing and other non-volume licensing of the Windows operating system; Windows Commercial comprising volume licensing of the Windows operating system, Windows cloud services, and other Windows commercial offerings; patent licensing; Windows Internet of Things; and MSN advertising. It also provides Microsoft Surface, PC accessories, and other intelligent devices; Gaming, including Xbox hardware, and Xbox software and services; video games and third-party video game royalties; and Search, including Bing and Microsoft advertising. The company sells its products through distributors and resellers; and directly through digital marketplaces, online stores, and retail stores. It has strategic partnerships with Humana Inc. and Nokia. The company was founded in 1975 and is headquartered in Redmond, Washington.\",\n",
       " 'city': 'Redmond',\n",
       " 'phone': '425-882-8080',\n",
       " 'state': 'WA',\n",
       " 'country': 'United States',\n",
       " 'companyOfficers': [],\n",
       " 'website': 'http://www.microsoft.com',\n",
       " 'maxAge': 1,\n",
       " 'address1': 'One Microsoft Way',\n",
       " 'fax': '425-706-7329',\n",
       " 'industry': 'Software—Infrastructure',\n",
       " 'previousClose': 152.32,\n",
       " 'regularMarketOpen': 152.1,\n",
       " 'twoHundredDayAverage': 137.56583,\n",
       " 'trailingAnnualDividendYield': 0.012408088,\n",
       " 'payoutRatio': 0.3472,\n",
       " 'volume24Hr': None,\n",
       " 'regularMarketDayHigh': 152.29,\n",
       " 'navPrice': None,\n",
       " 'averageDailyVolume10Day': 18113433,\n",
       " 'totalAssets': None,\n",
       " 'regularMarketPreviousClose': 152.32,\n",
       " 'fiftyDayAverage': 144.94853,\n",
       " 'trailingAnnualDividendRate': 1.89,\n",
       " 'open': 152.1,\n",
       " 'averageVolume10days': 18113433,\n",
       " 'expireDate': None,\n",
       " 'yield': None,\n",
       " 'algorithm': None,\n",
       " 'dividendRate': 2.04,\n",
       " 'exDividendDate': 1574208000,\n",
       " 'beta': 1.229776,\n",
       " 'circulatingSupply': None,\n",
       " 'startDate': None,\n",
       " 'regularMarketDayLow': 151.285,\n",
       " 'priceHint': 2,\n",
       " 'currency': 'USD',\n",
       " 'trailingPE': 28.562263,\n",
       " 'regularMarketVolume': 11270352,\n",
       " 'lastMarket': None,\n",
       " 'maxSupply': None,\n",
       " 'openInterest': None,\n",
       " 'marketCap': 1154849308672,\n",
       " 'volumeAllCurrencies': None,\n",
       " 'strikePrice': None,\n",
       " 'averageVolume': 22451428,\n",
       " 'priceToSalesTrailing12Months': None,\n",
       " 'dayLow': 151.285,\n",
       " 'ask': 0,\n",
       " 'ytdReturn': None,\n",
       " 'askSize': 1800,\n",
       " 'volume': 11270352,\n",
       " 'fiftyTwoWeekHigh': 152.5,\n",
       " 'forwardPE': 24.9802,\n",
       " 'fromCurrency': None,\n",
       " 'fiveYearAvgDividendYield': 2.09,\n",
       " 'fiftyTwoWeekLow': 93.96,\n",
       " 'bid': 0,\n",
       " 'tradeable': True,\n",
       " 'dividendYield': 0.0134000005,\n",
       " 'bidSize': 800,\n",
       " 'dayHigh': 152.29,\n",
       " 'exchange': 'NMS',\n",
       " 'shortName': 'Microsoft Corporation',\n",
       " 'longName': 'Microsoft Corporation',\n",
       " 'exchangeTimezoneName': 'America/New_York',\n",
       " 'exchangeTimezoneShortName': 'EST',\n",
       " 'isEsgPopulated': True,\n",
       " 'gmtOffSetMilliseconds': '-18000000',\n",
       " 'underlyingSymbol': None,\n",
       " 'quoteType': 'EQUITY',\n",
       " 'symbol': 'MSFT',\n",
       " 'underlyingExchangeSymbol': None,\n",
       " 'headSymbol': None,\n",
       " 'messageBoardId': 'finmb_21835',\n",
       " 'uuid': 'b004b3ec-de24-385e-b2c1-923f10d3fb62',\n",
       " 'market': 'us_market',\n",
       " 'annualHoldingsTurnover': None,\n",
       " 'enterpriseToRevenue': 8.503,\n",
       " 'beta3Year': None,\n",
       " 'profitMargins': 0.31656,\n",
       " 'enterpriseToEbitda': 19.222,\n",
       " '52WeekChange': 0.35890818,\n",
       " 'morningStarRiskRating': None,\n",
       " 'forwardEps': 6.06,\n",
       " 'revenueQuarterlyGrowth': None,\n",
       " 'sharesOutstanding': 7695349760,\n",
       " 'fundInceptionDate': None,\n",
       " 'annualReportExpenseRatio': None,\n",
       " 'bookValue': 13.893,\n",
       " 'sharesShort': 62707579,\n",
       " 'sharesPercentSharesOut': 0.0082,\n",
       " 'fundFamily': None,\n",
       " 'lastFiscalYearEnd': 1561852800,\n",
       " 'heldPercentInstitutions': 0.74697995,\n",
       " 'netIncomeToCommon': 41094000640,\n",
       " 'trailingEps': 5.3,\n",
       " 'lastDividendValue': None,\n",
       " 'SandP52WeekChange': 0.13018334,\n",
       " 'priceToBook': 10.896135,\n",
       " 'heldPercentInsiders': 0.014090001,\n",
       " 'nextFiscalYearEnd': 1625011200,\n",
       " 'mostRecentQuarter': 1569801600,\n",
       " 'shortRatio': 2.73,\n",
       " 'sharesShortPreviousMonthDate': 1571097600,\n",
       " 'floatShares': 7517882784,\n",
       " 'enterpriseValue': 1103809609728,\n",
       " 'threeYearAverageReturn': None,\n",
       " 'lastSplitDate': 1045526400,\n",
       " 'lastSplitFactor': '1/2',\n",
       " 'legalType': None,\n",
       " 'morningStarOverallRating': None,\n",
       " 'earningsQuarterlyGrowth': 0.21,\n",
       " 'dateShortInterest': 1573776000,\n",
       " 'pegRatio': 1.94,\n",
       " 'lastCapGain': None,\n",
       " 'shortPercentOfFloat': 0.0083,\n",
       " 'sharesShortPriorMonth': 57149134,\n",
       " 'category': None,\n",
       " 'fiveYearAverageReturn': None}"
      ]
     },
     "execution_count": 7,
     "metadata": {},
     "output_type": "execute_result"
    }
   ],
   "source": [
    "msft.info"
   ]
  },
  {
   "cell_type": "code",
   "execution_count": 8,
   "metadata": {},
   "outputs": [
    {
     "name": "stdout",
     "output_type": "stream",
     "text": [
      "              Open    High     Low   Close      Volume  Dividends  \\\n",
      "Date                                                                \n",
      "1986-03-13    0.06    0.07    0.06    0.06  1031788800        0.0   \n",
      "1986-03-14    0.06    0.07    0.06    0.06   308160000        0.0   \n",
      "1986-03-17    0.06    0.07    0.06    0.07   133171200        0.0   \n",
      "1986-03-18    0.07    0.07    0.06    0.06    67766400        0.0   \n",
      "1986-03-19    0.06    0.06    0.06    0.06    47894400        0.0   \n",
      "...            ...     ...     ...     ...         ...        ...   \n",
      "2019-11-22  150.07  150.30  148.82  149.59    15901800        0.0   \n",
      "2019-11-25  150.00  151.35  149.92  151.23    22420900        0.0   \n",
      "2019-11-26  151.36  152.42  151.32  152.03    24620100        0.0   \n",
      "2019-11-27  152.33  152.50  151.52  152.32    15184400        0.0   \n",
      "2019-11-29  152.10  152.30  151.28  151.38    11977300        0.0   \n",
      "\n",
      "            Stock Splits  \n",
      "Date                      \n",
      "1986-03-13           0.0  \n",
      "1986-03-14           0.0  \n",
      "1986-03-17           0.0  \n",
      "1986-03-18           0.0  \n",
      "1986-03-19           0.0  \n",
      "...                  ...  \n",
      "2019-11-22           0.0  \n",
      "2019-11-25           0.0  \n",
      "2019-11-26           0.0  \n",
      "2019-11-27           0.0  \n",
      "2019-11-29           0.0  \n",
      "\n",
      "[8500 rows x 7 columns]\n"
     ]
    }
   ],
   "source": [
    "hist = msft.history(period=\"max\")\n",
    "print(hist)"
   ]
  },
  {
   "cell_type": "code",
   "execution_count": 9,
   "metadata": {},
   "outputs": [
    {
     "name": "stdout",
     "output_type": "stream",
     "text": [
      "[*********************100%***********************]  2 of 2 completed\n"
     ]
    }
   ],
   "source": [
    "data = yf.download(\"SPY AAPL\", start=\"2000-01-01\", end=\"2020-01-01\")"
   ]
  },
  {
   "cell_type": "code",
   "execution_count": 10,
   "metadata": {},
   "outputs": [
    {
     "data": {
      "text/html": [
       "<div>\n",
       "<style scoped>\n",
       "    .dataframe tbody tr th:only-of-type {\n",
       "        vertical-align: middle;\n",
       "    }\n",
       "\n",
       "    .dataframe tbody tr th {\n",
       "        vertical-align: top;\n",
       "    }\n",
       "\n",
       "    .dataframe thead tr th {\n",
       "        text-align: left;\n",
       "    }\n",
       "\n",
       "    .dataframe thead tr:last-of-type th {\n",
       "        text-align: right;\n",
       "    }\n",
       "</style>\n",
       "<table border=\"1\" class=\"dataframe\">\n",
       "  <thead>\n",
       "    <tr>\n",
       "      <th></th>\n",
       "      <th colspan=\"2\" halign=\"left\">Adj Close</th>\n",
       "      <th colspan=\"2\" halign=\"left\">Close</th>\n",
       "      <th colspan=\"2\" halign=\"left\">High</th>\n",
       "      <th colspan=\"2\" halign=\"left\">Low</th>\n",
       "      <th colspan=\"2\" halign=\"left\">Open</th>\n",
       "      <th colspan=\"2\" halign=\"left\">Volume</th>\n",
       "    </tr>\n",
       "    <tr>\n",
       "      <th></th>\n",
       "      <th>AAPL</th>\n",
       "      <th>SPY</th>\n",
       "      <th>AAPL</th>\n",
       "      <th>SPY</th>\n",
       "      <th>AAPL</th>\n",
       "      <th>SPY</th>\n",
       "      <th>AAPL</th>\n",
       "      <th>SPY</th>\n",
       "      <th>AAPL</th>\n",
       "      <th>SPY</th>\n",
       "      <th>AAPL</th>\n",
       "      <th>SPY</th>\n",
       "    </tr>\n",
       "    <tr>\n",
       "      <th>Date</th>\n",
       "      <th></th>\n",
       "      <th></th>\n",
       "      <th></th>\n",
       "      <th></th>\n",
       "      <th></th>\n",
       "      <th></th>\n",
       "      <th></th>\n",
       "      <th></th>\n",
       "      <th></th>\n",
       "      <th></th>\n",
       "      <th></th>\n",
       "      <th></th>\n",
       "    </tr>\n",
       "  </thead>\n",
       "  <tbody>\n",
       "    <tr>\n",
       "      <th>2000-01-03</th>\n",
       "      <td>3.478462</td>\n",
       "      <td>100.470520</td>\n",
       "      <td>3.997768</td>\n",
       "      <td>145.437500</td>\n",
       "      <td>4.017857</td>\n",
       "      <td>148.250000</td>\n",
       "      <td>3.631696</td>\n",
       "      <td>143.875000</td>\n",
       "      <td>3.745536</td>\n",
       "      <td>148.250000</td>\n",
       "      <td>133949200</td>\n",
       "      <td>8164300</td>\n",
       "    </tr>\n",
       "    <tr>\n",
       "      <th>2000-01-04</th>\n",
       "      <td>3.185191</td>\n",
       "      <td>96.541473</td>\n",
       "      <td>3.660714</td>\n",
       "      <td>139.750000</td>\n",
       "      <td>3.950893</td>\n",
       "      <td>144.062500</td>\n",
       "      <td>3.613839</td>\n",
       "      <td>139.640625</td>\n",
       "      <td>3.866071</td>\n",
       "      <td>143.531250</td>\n",
       "      <td>128094400</td>\n",
       "      <td>8089800</td>\n",
       "    </tr>\n",
       "    <tr>\n",
       "      <th>2000-01-05</th>\n",
       "      <td>3.231803</td>\n",
       "      <td>96.714218</td>\n",
       "      <td>3.714286</td>\n",
       "      <td>140.000000</td>\n",
       "      <td>3.948661</td>\n",
       "      <td>141.531250</td>\n",
       "      <td>3.678571</td>\n",
       "      <td>137.250000</td>\n",
       "      <td>3.705357</td>\n",
       "      <td>139.937500</td>\n",
       "      <td>194580400</td>\n",
       "      <td>12177900</td>\n",
       "    </tr>\n",
       "    <tr>\n",
       "      <th>2000-01-06</th>\n",
       "      <td>2.952128</td>\n",
       "      <td>95.159882</td>\n",
       "      <td>3.392857</td>\n",
       "      <td>137.750000</td>\n",
       "      <td>3.821429</td>\n",
       "      <td>141.500000</td>\n",
       "      <td>3.392857</td>\n",
       "      <td>137.750000</td>\n",
       "      <td>3.790179</td>\n",
       "      <td>139.625000</td>\n",
       "      <td>191993200</td>\n",
       "      <td>6227200</td>\n",
       "    </tr>\n",
       "    <tr>\n",
       "      <th>2000-01-07</th>\n",
       "      <td>3.091966</td>\n",
       "      <td>100.686371</td>\n",
       "      <td>3.553571</td>\n",
       "      <td>145.750000</td>\n",
       "      <td>3.607143</td>\n",
       "      <td>145.750000</td>\n",
       "      <td>3.410714</td>\n",
       "      <td>140.062500</td>\n",
       "      <td>3.446429</td>\n",
       "      <td>140.312500</td>\n",
       "      <td>115183600</td>\n",
       "      <td>8066500</td>\n",
       "    </tr>\n",
       "    <tr>\n",
       "      <th>...</th>\n",
       "      <td>...</td>\n",
       "      <td>...</td>\n",
       "      <td>...</td>\n",
       "      <td>...</td>\n",
       "      <td>...</td>\n",
       "      <td>...</td>\n",
       "      <td>...</td>\n",
       "      <td>...</td>\n",
       "      <td>...</td>\n",
       "      <td>...</td>\n",
       "      <td>...</td>\n",
       "      <td>...</td>\n",
       "    </tr>\n",
       "    <tr>\n",
       "      <th>2019-11-22</th>\n",
       "      <td>261.779999</td>\n",
       "      <td>310.959991</td>\n",
       "      <td>261.779999</td>\n",
       "      <td>310.959991</td>\n",
       "      <td>263.179993</td>\n",
       "      <td>311.239990</td>\n",
       "      <td>260.839996</td>\n",
       "      <td>309.850006</td>\n",
       "      <td>262.589996</td>\n",
       "      <td>311.089996</td>\n",
       "      <td>16331300</td>\n",
       "      <td>44850200</td>\n",
       "    </tr>\n",
       "    <tr>\n",
       "      <th>2019-11-25</th>\n",
       "      <td>266.369995</td>\n",
       "      <td>313.369995</td>\n",
       "      <td>266.369995</td>\n",
       "      <td>313.369995</td>\n",
       "      <td>266.440002</td>\n",
       "      <td>313.369995</td>\n",
       "      <td>262.519989</td>\n",
       "      <td>311.980011</td>\n",
       "      <td>262.709991</td>\n",
       "      <td>311.980011</td>\n",
       "      <td>21005100</td>\n",
       "      <td>48647200</td>\n",
       "    </tr>\n",
       "    <tr>\n",
       "      <th>2019-11-26</th>\n",
       "      <td>264.290009</td>\n",
       "      <td>314.079987</td>\n",
       "      <td>264.290009</td>\n",
       "      <td>314.079987</td>\n",
       "      <td>267.160004</td>\n",
       "      <td>314.279999</td>\n",
       "      <td>262.500000</td>\n",
       "      <td>313.059998</td>\n",
       "      <td>266.940002</td>\n",
       "      <td>313.410004</td>\n",
       "      <td>26301900</td>\n",
       "      <td>37569000</td>\n",
       "    </tr>\n",
       "    <tr>\n",
       "      <th>2019-11-27</th>\n",
       "      <td>267.839996</td>\n",
       "      <td>315.480011</td>\n",
       "      <td>267.839996</td>\n",
       "      <td>315.480011</td>\n",
       "      <td>267.980011</td>\n",
       "      <td>315.480011</td>\n",
       "      <td>265.309998</td>\n",
       "      <td>314.369995</td>\n",
       "      <td>265.579987</td>\n",
       "      <td>314.609985</td>\n",
       "      <td>16308900</td>\n",
       "      <td>44444600</td>\n",
       "    </tr>\n",
       "    <tr>\n",
       "      <th>2019-11-29</th>\n",
       "      <td>267.250000</td>\n",
       "      <td>314.309998</td>\n",
       "      <td>267.250000</td>\n",
       "      <td>314.309998</td>\n",
       "      <td>268.000000</td>\n",
       "      <td>315.130005</td>\n",
       "      <td>265.899994</td>\n",
       "      <td>314.059998</td>\n",
       "      <td>266.600006</td>\n",
       "      <td>314.859985</td>\n",
       "      <td>11654400</td>\n",
       "      <td>36592700</td>\n",
       "    </tr>\n",
       "  </tbody>\n",
       "</table>\n",
       "<p>5010 rows × 12 columns</p>\n",
       "</div>"
      ],
      "text/plain": [
       "             Adj Close                   Close                    High  \\\n",
       "                  AAPL         SPY        AAPL         SPY        AAPL   \n",
       "Date                                                                     \n",
       "2000-01-03    3.478462  100.470520    3.997768  145.437500    4.017857   \n",
       "2000-01-04    3.185191   96.541473    3.660714  139.750000    3.950893   \n",
       "2000-01-05    3.231803   96.714218    3.714286  140.000000    3.948661   \n",
       "2000-01-06    2.952128   95.159882    3.392857  137.750000    3.821429   \n",
       "2000-01-07    3.091966  100.686371    3.553571  145.750000    3.607143   \n",
       "...                ...         ...         ...         ...         ...   \n",
       "2019-11-22  261.779999  310.959991  261.779999  310.959991  263.179993   \n",
       "2019-11-25  266.369995  313.369995  266.369995  313.369995  266.440002   \n",
       "2019-11-26  264.290009  314.079987  264.290009  314.079987  267.160004   \n",
       "2019-11-27  267.839996  315.480011  267.839996  315.480011  267.980011   \n",
       "2019-11-29  267.250000  314.309998  267.250000  314.309998  268.000000   \n",
       "\n",
       "                               Low                    Open              \\\n",
       "                   SPY        AAPL         SPY        AAPL         SPY   \n",
       "Date                                                                     \n",
       "2000-01-03  148.250000    3.631696  143.875000    3.745536  148.250000   \n",
       "2000-01-04  144.062500    3.613839  139.640625    3.866071  143.531250   \n",
       "2000-01-05  141.531250    3.678571  137.250000    3.705357  139.937500   \n",
       "2000-01-06  141.500000    3.392857  137.750000    3.790179  139.625000   \n",
       "2000-01-07  145.750000    3.410714  140.062500    3.446429  140.312500   \n",
       "...                ...         ...         ...         ...         ...   \n",
       "2019-11-22  311.239990  260.839996  309.850006  262.589996  311.089996   \n",
       "2019-11-25  313.369995  262.519989  311.980011  262.709991  311.980011   \n",
       "2019-11-26  314.279999  262.500000  313.059998  266.940002  313.410004   \n",
       "2019-11-27  315.480011  265.309998  314.369995  265.579987  314.609985   \n",
       "2019-11-29  315.130005  265.899994  314.059998  266.600006  314.859985   \n",
       "\n",
       "               Volume            \n",
       "                 AAPL       SPY  \n",
       "Date                             \n",
       "2000-01-03  133949200   8164300  \n",
       "2000-01-04  128094400   8089800  \n",
       "2000-01-05  194580400  12177900  \n",
       "2000-01-06  191993200   6227200  \n",
       "2000-01-07  115183600   8066500  \n",
       "...               ...       ...  \n",
       "2019-11-22   16331300  44850200  \n",
       "2019-11-25   21005100  48647200  \n",
       "2019-11-26   26301900  37569000  \n",
       "2019-11-27   16308900  44444600  \n",
       "2019-11-29   11654400  36592700  \n",
       "\n",
       "[5010 rows x 12 columns]"
      ]
     },
     "execution_count": 10,
     "metadata": {},
     "output_type": "execute_result"
    }
   ],
   "source": [
    "data"
   ]
  },
  {
   "cell_type": "code",
   "execution_count": 11,
   "metadata": {},
   "outputs": [],
   "source": [
    "from pandas_datareader import data as pdr\n",
    "import yfinance as yf\n",
    "yf.pdr_override()\n"
   ]
  },
  {
   "cell_type": "code",
   "execution_count": 12,
   "metadata": {},
   "outputs": [
    {
     "name": "stdout",
     "output_type": "stream",
     "text": [
      "[*********************100%***********************]  1 of 1 completed\n"
     ]
    }
   ],
   "source": [
    "data = pdr.get_data_yahoo(\"AAPL\", start=\"2000-01-01\", end=\"2020-01-01\")"
   ]
  },
  {
   "cell_type": "code",
   "execution_count": 13,
   "metadata": {},
   "outputs": [
    {
     "data": {
      "text/html": [
       "<div>\n",
       "<style scoped>\n",
       "    .dataframe tbody tr th:only-of-type {\n",
       "        vertical-align: middle;\n",
       "    }\n",
       "\n",
       "    .dataframe tbody tr th {\n",
       "        vertical-align: top;\n",
       "    }\n",
       "\n",
       "    .dataframe thead th {\n",
       "        text-align: right;\n",
       "    }\n",
       "</style>\n",
       "<table border=\"1\" class=\"dataframe\">\n",
       "  <thead>\n",
       "    <tr style=\"text-align: right;\">\n",
       "      <th></th>\n",
       "      <th>Open</th>\n",
       "      <th>High</th>\n",
       "      <th>Low</th>\n",
       "      <th>Close</th>\n",
       "      <th>Adj Close</th>\n",
       "      <th>Volume</th>\n",
       "    </tr>\n",
       "    <tr>\n",
       "      <th>Date</th>\n",
       "      <th></th>\n",
       "      <th></th>\n",
       "      <th></th>\n",
       "      <th></th>\n",
       "      <th></th>\n",
       "      <th></th>\n",
       "    </tr>\n",
       "  </thead>\n",
       "  <tbody>\n",
       "    <tr>\n",
       "      <th>2000-01-03</th>\n",
       "      <td>3.745536</td>\n",
       "      <td>4.017857</td>\n",
       "      <td>3.631696</td>\n",
       "      <td>3.997768</td>\n",
       "      <td>3.478462</td>\n",
       "      <td>133949200</td>\n",
       "    </tr>\n",
       "    <tr>\n",
       "      <th>2000-01-04</th>\n",
       "      <td>3.866071</td>\n",
       "      <td>3.950893</td>\n",
       "      <td>3.613839</td>\n",
       "      <td>3.660714</td>\n",
       "      <td>3.185191</td>\n",
       "      <td>128094400</td>\n",
       "    </tr>\n",
       "    <tr>\n",
       "      <th>2000-01-05</th>\n",
       "      <td>3.705357</td>\n",
       "      <td>3.948661</td>\n",
       "      <td>3.678571</td>\n",
       "      <td>3.714286</td>\n",
       "      <td>3.231803</td>\n",
       "      <td>194580400</td>\n",
       "    </tr>\n",
       "    <tr>\n",
       "      <th>2000-01-06</th>\n",
       "      <td>3.790179</td>\n",
       "      <td>3.821429</td>\n",
       "      <td>3.392857</td>\n",
       "      <td>3.392857</td>\n",
       "      <td>2.952128</td>\n",
       "      <td>191993200</td>\n",
       "    </tr>\n",
       "    <tr>\n",
       "      <th>2000-01-07</th>\n",
       "      <td>3.446429</td>\n",
       "      <td>3.607143</td>\n",
       "      <td>3.410714</td>\n",
       "      <td>3.553571</td>\n",
       "      <td>3.091966</td>\n",
       "      <td>115183600</td>\n",
       "    </tr>\n",
       "    <tr>\n",
       "      <th>...</th>\n",
       "      <td>...</td>\n",
       "      <td>...</td>\n",
       "      <td>...</td>\n",
       "      <td>...</td>\n",
       "      <td>...</td>\n",
       "      <td>...</td>\n",
       "    </tr>\n",
       "    <tr>\n",
       "      <th>2019-11-22</th>\n",
       "      <td>262.589996</td>\n",
       "      <td>263.179993</td>\n",
       "      <td>260.839996</td>\n",
       "      <td>261.779999</td>\n",
       "      <td>261.779999</td>\n",
       "      <td>16331300</td>\n",
       "    </tr>\n",
       "    <tr>\n",
       "      <th>2019-11-25</th>\n",
       "      <td>262.709991</td>\n",
       "      <td>266.440002</td>\n",
       "      <td>262.519989</td>\n",
       "      <td>266.369995</td>\n",
       "      <td>266.369995</td>\n",
       "      <td>21005100</td>\n",
       "    </tr>\n",
       "    <tr>\n",
       "      <th>2019-11-26</th>\n",
       "      <td>266.940002</td>\n",
       "      <td>267.160004</td>\n",
       "      <td>262.500000</td>\n",
       "      <td>264.290009</td>\n",
       "      <td>264.290009</td>\n",
       "      <td>26301900</td>\n",
       "    </tr>\n",
       "    <tr>\n",
       "      <th>2019-11-27</th>\n",
       "      <td>265.579987</td>\n",
       "      <td>267.980011</td>\n",
       "      <td>265.309998</td>\n",
       "      <td>267.839996</td>\n",
       "      <td>267.839996</td>\n",
       "      <td>16308900</td>\n",
       "    </tr>\n",
       "    <tr>\n",
       "      <th>2019-11-29</th>\n",
       "      <td>266.600006</td>\n",
       "      <td>268.000000</td>\n",
       "      <td>265.899994</td>\n",
       "      <td>267.250000</td>\n",
       "      <td>267.250000</td>\n",
       "      <td>11654400</td>\n",
       "    </tr>\n",
       "  </tbody>\n",
       "</table>\n",
       "<p>5010 rows × 6 columns</p>\n",
       "</div>"
      ],
      "text/plain": [
       "                  Open        High         Low       Close   Adj Close  \\\n",
       "Date                                                                     \n",
       "2000-01-03    3.745536    4.017857    3.631696    3.997768    3.478462   \n",
       "2000-01-04    3.866071    3.950893    3.613839    3.660714    3.185191   \n",
       "2000-01-05    3.705357    3.948661    3.678571    3.714286    3.231803   \n",
       "2000-01-06    3.790179    3.821429    3.392857    3.392857    2.952128   \n",
       "2000-01-07    3.446429    3.607143    3.410714    3.553571    3.091966   \n",
       "...                ...         ...         ...         ...         ...   \n",
       "2019-11-22  262.589996  263.179993  260.839996  261.779999  261.779999   \n",
       "2019-11-25  262.709991  266.440002  262.519989  266.369995  266.369995   \n",
       "2019-11-26  266.940002  267.160004  262.500000  264.290009  264.290009   \n",
       "2019-11-27  265.579987  267.980011  265.309998  267.839996  267.839996   \n",
       "2019-11-29  266.600006  268.000000  265.899994  267.250000  267.250000   \n",
       "\n",
       "               Volume  \n",
       "Date                   \n",
       "2000-01-03  133949200  \n",
       "2000-01-04  128094400  \n",
       "2000-01-05  194580400  \n",
       "2000-01-06  191993200  \n",
       "2000-01-07  115183600  \n",
       "...               ...  \n",
       "2019-11-22   16331300  \n",
       "2019-11-25   21005100  \n",
       "2019-11-26   26301900  \n",
       "2019-11-27   16308900  \n",
       "2019-11-29   11654400  \n",
       "\n",
       "[5010 rows x 6 columns]"
      ]
     },
     "execution_count": 13,
     "metadata": {},
     "output_type": "execute_result"
    }
   ],
   "source": [
    "data\n"
   ]
  },
  {
   "cell_type": "code",
   "execution_count": 14,
   "metadata": {},
   "outputs": [],
   "source": [
    "%matplotlib inline"
   ]
  },
  {
   "cell_type": "code",
   "execution_count": 15,
   "metadata": {},
   "outputs": [
    {
     "data": {
      "image/png": "[encoded data removed]",
      "text/plain": [
       "<Figure size 432x288 with 1 Axes>"
      ]
     },
     "metadata": {
      "needs_background": "light"
     },
     "output_type": "display_data"
    }
   ],
   "source": [
    "data['Adj Close'].plot()\n",
    "plt.show()\n"
   ]
  },
  {
   "cell_type": "markdown",
   "metadata": {},
   "source": [
    "#### Fetching data using Quandl"
   ]
  },
  {
   "cell_type": "code",
   "execution_count": 16,
   "metadata": {},
   "outputs": [],
   "source": [
    "#!pip install quandl "
   ]
  },
  {
   "cell_type": "code",
   "execution_count": 17,
   "metadata": {},
   "outputs": [],
   "source": [
    "import quandl"
   ]
  },
  {
   "cell_type": "code",
   "execution_count": 18,
   "metadata": {
    "scrolled": true
   },
   "outputs": [],
   "source": [
    "data = quandl.get(\"EOD/AAPL\", authtoken=\"BWzUsp_J8Eky_itpwm8d\")"
   ]
  },
  {
   "cell_type": "code",
   "execution_count": 19,
   "metadata": {},
   "outputs": [
    {
     "data": {
      "image/png": "[encoded data removed]",
      "text/plain": [
       "<Figure size 432x288 with 1 Axes>"
      ]
     },
     "metadata": {
      "needs_background": "light"
     },
     "output_type": "display_data"
    }
   ],
   "source": [
    "data.Close.plot()\n",
    "plt.show()"
   ]
  },
  {
   "cell_type": "code",
   "execution_count": 20,
   "metadata": {},
   "outputs": [
    {
     "data": {
      "image/png": "[encoded data removed]",
      "text/plain": [
       "<Figure size 720x504 with 1 Axes>"
      ]
     },
     "metadata": {
      "needs_background": "light"
     },
     "output_type": "display_data"
    }
   ],
   "source": [
    "((data.pct_change()+1).cumprod()).plot(figsize=(10, 7))\n",
    "plt.legend()\n",
    "plt.title('Stock Info', fontsize=16)\n",
    "plt.ylabel('Quantity', fontsize=14)\n",
    "plt.xlabel('Time', fontsize=14)\n",
    "plt.grid(which=\"major\", color='k', linestyle='-.', linewidth=0.5)\n",
    "plt.show()"
   ]
  },
  {
   "cell_type": "code",
   "execution_count": 21,
   "metadata": {},
   "outputs": [
    {
     "name": "stdout",
     "output_type": "stream",
     "text": [
      "[*********************100%***********************]  1 of 1 completed\n",
      "[*********************100%***********************]  1 of 1 completed\n",
      "[*********************100%***********************]  1 of 1 completed\n",
      "[*********************100%***********************]  1 of 1 completed\n",
      "[*********************100%***********************]  1 of 1 completed\n"
     ]
    },
    {
     "data": {
      "text/html": [
       "<div>\n",
       "<style scoped>\n",
       "    .dataframe tbody tr th:only-of-type {\n",
       "        vertical-align: middle;\n",
       "    }\n",
       "\n",
       "    .dataframe tbody tr th {\n",
       "        vertical-align: top;\n",
       "    }\n",
       "\n",
       "    .dataframe thead th {\n",
       "        text-align: right;\n",
       "    }\n",
       "</style>\n",
       "<table border=\"1\" class=\"dataframe\">\n",
       "  <thead>\n",
       "    <tr style=\"text-align: right;\">\n",
       "      <th></th>\n",
       "      <th>AAPL</th>\n",
       "      <th>BRK-A</th>\n",
       "      <th>AMZN</th>\n",
       "      <th>MSFT</th>\n",
       "      <th>GS</th>\n",
       "    </tr>\n",
       "    <tr>\n",
       "      <th>Date</th>\n",
       "      <th></th>\n",
       "      <th></th>\n",
       "      <th></th>\n",
       "      <th></th>\n",
       "      <th></th>\n",
       "    </tr>\n",
       "  </thead>\n",
       "  <tbody>\n",
       "    <tr>\n",
       "      <th>2000-01-03</th>\n",
       "      <td>3.478462</td>\n",
       "      <td>54800.0</td>\n",
       "      <td>89.3750</td>\n",
       "      <td>37.495686</td>\n",
       "      <td>70.762970</td>\n",
       "    </tr>\n",
       "    <tr>\n",
       "      <th>2000-01-04</th>\n",
       "      <td>3.185191</td>\n",
       "      <td>52000.0</td>\n",
       "      <td>81.9375</td>\n",
       "      <td>36.229057</td>\n",
       "      <td>66.305847</td>\n",
       "    </tr>\n",
       "    <tr>\n",
       "      <th>2000-01-05</th>\n",
       "      <td>3.231803</td>\n",
       "      <td>53200.0</td>\n",
       "      <td>69.7500</td>\n",
       "      <td>36.611080</td>\n",
       "      <td>63.200893</td>\n",
       "    </tr>\n",
       "    <tr>\n",
       "      <th>2000-01-06</th>\n",
       "      <td>2.952128</td>\n",
       "      <td>55000.0</td>\n",
       "      <td>65.5625</td>\n",
       "      <td>35.384666</td>\n",
       "      <td>65.905197</td>\n",
       "    </tr>\n",
       "    <tr>\n",
       "      <th>2000-01-07</th>\n",
       "      <td>3.091966</td>\n",
       "      <td>56500.0</td>\n",
       "      <td>69.5625</td>\n",
       "      <td>35.847076</td>\n",
       "      <td>66.155640</td>\n",
       "    </tr>\n",
       "  </tbody>\n",
       "</table>\n",
       "</div>"
      ],
      "text/plain": [
       "                AAPL    BRK-A     AMZN       MSFT         GS\n",
       "Date                                                        \n",
       "2000-01-03  3.478462  54800.0  89.3750  37.495686  70.762970\n",
       "2000-01-04  3.185191  52000.0  81.9375  36.229057  66.305847\n",
       "2000-01-05  3.231803  53200.0  69.7500  36.611080  63.200893\n",
       "2000-01-06  2.952128  55000.0  65.5625  35.384666  65.905197\n",
       "2000-01-07  3.091966  56500.0  69.5625  35.847076  66.155640"
      ]
     },
     "execution_count": 21,
     "metadata": {},
     "output_type": "execute_result"
    }
   ],
   "source": [
    "#Data for multiple stocks\n",
    "import pandas as pd\n",
    "tickers_list = [\"AAPL\",\"BRK-A\",\"AMZN\",\"MSFT\",\"GS\"]\n",
    "data = pd.DataFrame(columns=tickers_list)\n",
    "import yfinance as yf\n",
    "for ticker in tickers_list:\n",
    " data[ticker] = yf.download(ticker,\"2000-01-01\",\"2020-01-01\")['Adj Close']\n",
    "data.head()"
   ]
  },
  {
   "cell_type": "code",
   "execution_count": 22,
   "metadata": {},
   "outputs": [
    {
     "data": {
      "image/png": "[encoded data removed]",
      "text/plain": [
       "<Figure size 720x504 with 1 Axes>"
      ]
     },
     "metadata": {
      "needs_background": "light"
     },
     "output_type": "display_data"
    }
   ],
   "source": [
    "((data.pct_change()+1).cumprod()).plot(figsize=(10, 7))\n",
    "plt.legend()\n",
    "plt.title('Adjusted Close Price', fontsize=16)\n",
    "plt.ylabel('Price', fontsize=14)\n",
    "plt.xlabel('Year', fontsize=14)\n",
    "plt.grid(which=\"major\", color='k', linestyle='-.', linewidth=0.5)\n",
    "plt.show()"
   ]
  },
  {
   "cell_type": "markdown",
   "metadata": {},
   "source": [
    "#### Fetching data using Alpha_Vantage"
   ]
  },
  {
   "cell_type": "code",
   "execution_count": 23,
   "metadata": {},
   "outputs": [],
   "source": [
    "#Minute level data using the Alpha vantage - Intraday Trading - High-Frequency Trading\n",
    "#!pip install alpha_vantage"
   ]
  },
  {
   "cell_type": "code",
   "execution_count": 24,
   "metadata": {},
   "outputs": [],
   "source": [
    "from alpha_vantage.timeseries import TimeSeries"
   ]
  },
  {
   "cell_type": "code",
   "execution_count": 25,
   "metadata": {},
   "outputs": [
    {
     "name": "stdout",
     "output_type": "stream",
     "text": [
      "                      1. open  2. high  3. low  4. close  5. volume\n",
      "date                                                               \n",
      "2019-11-29 13:01:00  151.3800   151.38  151.38  151.3800  3873242.0\n",
      "2019-11-29 13:00:00  151.5200   151.75  151.38  151.3800   810279.0\n",
      "2019-11-29 12:59:00  151.4400   151.53  151.42  151.5200   158602.0\n",
      "2019-11-29 12:58:00  151.3700   151.47  151.37  151.4500   108235.0\n",
      "2019-11-29 12:57:00  151.4747   151.48  151.36  151.3656    79403.0\n"
     ]
    }
   ],
   "source": [
    "ts = TimeSeries(key='Your-API-Key', output_format='pandas')\n",
    "data, meta_data = ts.get_intraday(symbol='MSFT',interval='1min', outputsize='compact')\n",
    "print(data.head())"
   ]
  },
  {
   "cell_type": "markdown",
   "metadata": {},
   "source": [
    "#### Stock Analysis using Plotly"
   ]
  },
  {
   "cell_type": "code",
   "execution_count": 26,
   "metadata": {},
   "outputs": [],
   "source": [
    "#!pip install plotly"
   ]
  },
  {
   "cell_type": "code",
   "execution_count": 27,
   "metadata": {},
   "outputs": [
    {
     "name": "stdout",
     "output_type": "stream",
     "text": [
      "4.3.0\n"
     ]
    },
    {
     "data": {
      "text/html": [
       "        <script type=\"text/javascript\">\n",
       "        window.PlotlyConfig = {MathJaxConfig: 'local'};\n",
       "        if (window.MathJax) {MathJax.Hub.Config({SVG: {font: \"STIX-Web\"}});}\n",
       "        if (typeof require !== 'undefined') {\n",
       "        require.undef(\"plotly\");\n",
       "        requirejs.config({\n",
       "            paths: {\n",
       "                'plotly': ['https://cdn.plot.ly/plotly-latest.min']\n",
       "            }\n",
       "        });\n",
       "        require(['plotly'], function(Plotly) {\n",
       "            window._Plotly = Plotly;\n",
       "        });\n",
       "        }\n",
       "        </script>\n",
       "        "
      ]
     },
     "metadata": {},
     "output_type": "display_data"
    }
   ],
   "source": [
    "import pandas as pd\n",
    "import numpy as np\n",
    "import datetime\n",
    "import matplotlib.pyplot as plt\n",
    "%matplotlib inline\n",
    "from plotly import __version__\n",
    "from plotly.offline import download_plotlyjs, init_notebook_mode, plot, iplot\n",
    "\n",
    "import plotly.graph_objs as go\n",
    "\n",
    "print(__version__) # requires version >= 1.9.0\n",
    "\n",
    "init_notebook_mode(connected=True)"
   ]
  },
  {
   "cell_type": "code",
   "execution_count": 28,
   "metadata": {},
   "outputs": [
    {
     "data": {
      "text/html": [
       "<div>\n",
       "<style scoped>\n",
       "    .dataframe tbody tr th:only-of-type {\n",
       "        vertical-align: middle;\n",
       "    }\n",
       "\n",
       "    .dataframe tbody tr th {\n",
       "        vertical-align: top;\n",
       "    }\n",
       "\n",
       "    .dataframe thead th {\n",
       "        text-align: right;\n",
       "    }\n",
       "</style>\n",
       "<table border=\"1\" class=\"dataframe\">\n",
       "  <thead>\n",
       "    <tr style=\"text-align: right;\">\n",
       "      <th></th>\n",
       "      <th>Acquisition Date</th>\n",
       "      <th>Ticker</th>\n",
       "      <th>Quantity</th>\n",
       "      <th>Unit Cost</th>\n",
       "      <th>Cost Basis</th>\n",
       "      <th>Start of Year</th>\n",
       "    </tr>\n",
       "  </thead>\n",
       "  <tbody>\n",
       "    <tr>\n",
       "      <th>0</th>\n",
       "      <td>2013-02-07</td>\n",
       "      <td>AAPL</td>\n",
       "      <td>125</td>\n",
       "      <td>65.40</td>\n",
       "      <td>8175.00</td>\n",
       "      <td>2018-12-28</td>\n",
       "    </tr>\n",
       "    <tr>\n",
       "      <th>1</th>\n",
       "      <td>2014-02-27</td>\n",
       "      <td>JNJ</td>\n",
       "      <td>100</td>\n",
       "      <td>81.90</td>\n",
       "      <td>8190.00</td>\n",
       "      <td>2018-12-28</td>\n",
       "    </tr>\n",
       "    <tr>\n",
       "      <th>2</th>\n",
       "      <td>2013-06-04</td>\n",
       "      <td>MCD</td>\n",
       "      <td>100</td>\n",
       "      <td>84.99</td>\n",
       "      <td>8499.00</td>\n",
       "      <td>2018-12-28</td>\n",
       "    </tr>\n",
       "    <tr>\n",
       "      <th>3</th>\n",
       "      <td>2015-12-14</td>\n",
       "      <td>MTCH</td>\n",
       "      <td>600</td>\n",
       "      <td>13.63</td>\n",
       "      <td>8178.00</td>\n",
       "      <td>2018-12-28</td>\n",
       "    </tr>\n",
       "    <tr>\n",
       "      <th>4</th>\n",
       "      <td>2016-01-14</td>\n",
       "      <td>NFLX</td>\n",
       "      <td>75</td>\n",
       "      <td>108.71</td>\n",
       "      <td>8153.25</td>\n",
       "      <td>2018-12-28</td>\n",
       "    </tr>\n",
       "    <tr>\n",
       "      <th>5</th>\n",
       "      <td>2013-08-14</td>\n",
       "      <td>WMT</td>\n",
       "      <td>125</td>\n",
       "      <td>68.30</td>\n",
       "      <td>8537.50</td>\n",
       "      <td>2018-12-28</td>\n",
       "    </tr>\n",
       "    <tr>\n",
       "      <th>6</th>\n",
       "      <td>2013-12-13</td>\n",
       "      <td>FB</td>\n",
       "      <td>150</td>\n",
       "      <td>53.32</td>\n",
       "      <td>7998.00</td>\n",
       "      <td>2018-12-28</td>\n",
       "    </tr>\n",
       "    <tr>\n",
       "      <th>7</th>\n",
       "      <td>2015-01-05</td>\n",
       "      <td>TWTR</td>\n",
       "      <td>225</td>\n",
       "      <td>36.38</td>\n",
       "      <td>8185.50</td>\n",
       "      <td>2018-12-28</td>\n",
       "    </tr>\n",
       "  </tbody>\n",
       "</table>\n",
       "</div>"
      ],
      "text/plain": [
       "  Acquisition Date Ticker  Quantity  Unit Cost  Cost Basis Start of Year\n",
       "0       2013-02-07   AAPL       125      65.40     8175.00    2018-12-28\n",
       "1       2014-02-27    JNJ       100      81.90     8190.00    2018-12-28\n",
       "2       2013-06-04    MCD       100      84.99     8499.00    2018-12-28\n",
       "3       2015-12-14   MTCH       600      13.63     8178.00    2018-12-28\n",
       "4       2016-01-14   NFLX        75     108.71     8153.25    2018-12-28\n",
       "5       2013-08-14    WMT       125      68.30     8537.50    2018-12-28\n",
       "6       2013-12-13     FB       150      53.32     7998.00    2018-12-28\n",
       "7       2015-01-05   TWTR       225      36.38     8185.50    2018-12-28"
      ]
     },
     "execution_count": 28,
     "metadata": {},
     "output_type": "execute_result"
    }
   ],
   "source": [
    "import pandas as pd\n",
    "from pandas import ExcelWriter\n",
    "from pandas import ExcelFile\n",
    "\n",
    "portfolio_df = pd.read_excel('stocks acquisition costs dates.xlsx')\n",
    "\n",
    "portfolio_df.head(10)"
   ]
  },
  {
   "cell_type": "code",
   "execution_count": 29,
   "metadata": {},
   "outputs": [],
   "source": [
    "start_sp = datetime.datetime(2010, 1, 1)\n",
    "end_sp = datetime.datetime(2019, 11, 29)\n",
    "\n",
    "# This variable is used for YTD performance.\n",
    "end_of_last_year = datetime.datetime(2018, 12, 28)\n",
    "stocks_start = datetime.datetime(2010, 1, 1)\n",
    "stocks_end = datetime.datetime(2019, 11, 29)"
   ]
  },
  {
   "cell_type": "code",
   "execution_count": 30,
   "metadata": {},
   "outputs": [],
   "source": [
    "from pandas_datareader import data as pdr\n",
    "import yfinance as yf\n",
    "yf.pdr_override() "
   ]
  },
  {
   "cell_type": "code",
   "execution_count": 31,
   "metadata": {},
   "outputs": [
    {
     "name": "stdout",
     "output_type": "stream",
     "text": [
      "[*********************100%***********************]  1 of 1 completed\n"
     ]
    },
    {
     "data": {
      "text/html": [
       "<div>\n",
       "<style scoped>\n",
       "    .dataframe tbody tr th:only-of-type {\n",
       "        vertical-align: middle;\n",
       "    }\n",
       "\n",
       "    .dataframe tbody tr th {\n",
       "        vertical-align: top;\n",
       "    }\n",
       "\n",
       "    .dataframe thead th {\n",
       "        text-align: right;\n",
       "    }\n",
       "</style>\n",
       "<table border=\"1\" class=\"dataframe\">\n",
       "  <thead>\n",
       "    <tr style=\"text-align: right;\">\n",
       "      <th></th>\n",
       "      <th>Open</th>\n",
       "      <th>High</th>\n",
       "      <th>Low</th>\n",
       "      <th>Close</th>\n",
       "      <th>Adj Close</th>\n",
       "      <th>Volume</th>\n",
       "    </tr>\n",
       "    <tr>\n",
       "      <th>Date</th>\n",
       "      <th></th>\n",
       "      <th></th>\n",
       "      <th></th>\n",
       "      <th></th>\n",
       "      <th></th>\n",
       "      <th></th>\n",
       "    </tr>\n",
       "  </thead>\n",
       "  <tbody>\n",
       "    <tr>\n",
       "      <th>2000-01-03</th>\n",
       "      <td>1469.250000</td>\n",
       "      <td>1478.000000</td>\n",
       "      <td>1438.359985</td>\n",
       "      <td>1455.219971</td>\n",
       "      <td>1455.219971</td>\n",
       "      <td>931800000</td>\n",
       "    </tr>\n",
       "    <tr>\n",
       "      <th>2000-01-04</th>\n",
       "      <td>1455.219971</td>\n",
       "      <td>1455.219971</td>\n",
       "      <td>1397.430054</td>\n",
       "      <td>1399.420044</td>\n",
       "      <td>1399.420044</td>\n",
       "      <td>1009000000</td>\n",
       "    </tr>\n",
       "    <tr>\n",
       "      <th>2000-01-05</th>\n",
       "      <td>1399.420044</td>\n",
       "      <td>1413.270020</td>\n",
       "      <td>1377.680054</td>\n",
       "      <td>1402.109985</td>\n",
       "      <td>1402.109985</td>\n",
       "      <td>1085500000</td>\n",
       "    </tr>\n",
       "    <tr>\n",
       "      <th>2000-01-06</th>\n",
       "      <td>1402.109985</td>\n",
       "      <td>1411.900024</td>\n",
       "      <td>1392.099976</td>\n",
       "      <td>1403.449951</td>\n",
       "      <td>1403.449951</td>\n",
       "      <td>1092300000</td>\n",
       "    </tr>\n",
       "    <tr>\n",
       "      <th>2000-01-07</th>\n",
       "      <td>1403.449951</td>\n",
       "      <td>1441.469971</td>\n",
       "      <td>1400.729980</td>\n",
       "      <td>1441.469971</td>\n",
       "      <td>1441.469971</td>\n",
       "      <td>1225200000</td>\n",
       "    </tr>\n",
       "  </tbody>\n",
       "</table>\n",
       "</div>"
      ],
      "text/plain": [
       "                   Open         High          Low        Close    Adj Close  \\\n",
       "Date                                                                          \n",
       "2000-01-03  1469.250000  1478.000000  1438.359985  1455.219971  1455.219971   \n",
       "2000-01-04  1455.219971  1455.219971  1397.430054  1399.420044  1399.420044   \n",
       "2000-01-05  1399.420044  1413.270020  1377.680054  1402.109985  1402.109985   \n",
       "2000-01-06  1402.109985  1411.900024  1392.099976  1403.449951  1403.449951   \n",
       "2000-01-07  1403.449951  1441.469971  1400.729980  1441.469971  1441.469971   \n",
       "\n",
       "                Volume  \n",
       "Date                    \n",
       "2000-01-03   931800000  \n",
       "2000-01-04  1009000000  \n",
       "2000-01-05  1085500000  \n",
       "2000-01-06  1092300000  \n",
       "2000-01-07  1225200000  "
      ]
     },
     "execution_count": 31,
     "metadata": {},
     "output_type": "execute_result"
    }
   ],
   "source": [
    "sp500 = pdr.get_data_yahoo(\"^GSPC\", start=\"2000-01-01\", end=\"2020-01-01\")\n",
    "sp500.head()"
   ]
  },
  {
   "cell_type": "code",
   "execution_count": 32,
   "metadata": {},
   "outputs": [
    {
     "data": {
      "text/html": [
       "<div>\n",
       "<style scoped>\n",
       "    .dataframe tbody tr th:only-of-type {\n",
       "        vertical-align: middle;\n",
       "    }\n",
       "\n",
       "    .dataframe tbody tr th {\n",
       "        vertical-align: top;\n",
       "    }\n",
       "\n",
       "    .dataframe thead th {\n",
       "        text-align: right;\n",
       "    }\n",
       "</style>\n",
       "<table border=\"1\" class=\"dataframe\">\n",
       "  <thead>\n",
       "    <tr style=\"text-align: right;\">\n",
       "      <th></th>\n",
       "      <th>Open</th>\n",
       "      <th>High</th>\n",
       "      <th>Low</th>\n",
       "      <th>Close</th>\n",
       "      <th>Adj Close</th>\n",
       "      <th>Volume</th>\n",
       "    </tr>\n",
       "    <tr>\n",
       "      <th>Date</th>\n",
       "      <th></th>\n",
       "      <th></th>\n",
       "      <th></th>\n",
       "      <th></th>\n",
       "      <th></th>\n",
       "      <th></th>\n",
       "    </tr>\n",
       "  </thead>\n",
       "  <tbody>\n",
       "    <tr>\n",
       "      <th>2019-11-22</th>\n",
       "      <td>3111.409912</td>\n",
       "      <td>3112.870117</td>\n",
       "      <td>3099.260010</td>\n",
       "      <td>3110.290039</td>\n",
       "      <td>3110.290039</td>\n",
       "      <td>3226780000</td>\n",
       "    </tr>\n",
       "    <tr>\n",
       "      <th>2019-11-25</th>\n",
       "      <td>3117.439941</td>\n",
       "      <td>3133.830078</td>\n",
       "      <td>3117.439941</td>\n",
       "      <td>3133.639893</td>\n",
       "      <td>3133.639893</td>\n",
       "      <td>3511530000</td>\n",
       "    </tr>\n",
       "    <tr>\n",
       "      <th>2019-11-26</th>\n",
       "      <td>3134.850098</td>\n",
       "      <td>3142.689941</td>\n",
       "      <td>3131.000000</td>\n",
       "      <td>3140.520020</td>\n",
       "      <td>3140.520020</td>\n",
       "      <td>4595590000</td>\n",
       "    </tr>\n",
       "    <tr>\n",
       "      <th>2019-11-27</th>\n",
       "      <td>3145.489990</td>\n",
       "      <td>3154.260010</td>\n",
       "      <td>3143.409912</td>\n",
       "      <td>3153.629883</td>\n",
       "      <td>3153.629883</td>\n",
       "      <td>3033090000</td>\n",
       "    </tr>\n",
       "    <tr>\n",
       "      <th>2019-11-29</th>\n",
       "      <td>3147.179932</td>\n",
       "      <td>3150.300049</td>\n",
       "      <td>3139.340088</td>\n",
       "      <td>3140.979980</td>\n",
       "      <td>3140.979980</td>\n",
       "      <td>174302000000</td>\n",
       "    </tr>\n",
       "  </tbody>\n",
       "</table>\n",
       "</div>"
      ],
      "text/plain": [
       "                   Open         High          Low        Close    Adj Close  \\\n",
       "Date                                                                          \n",
       "2019-11-22  3111.409912  3112.870117  3099.260010  3110.290039  3110.290039   \n",
       "2019-11-25  3117.439941  3133.830078  3117.439941  3133.639893  3133.639893   \n",
       "2019-11-26  3134.850098  3142.689941  3131.000000  3140.520020  3140.520020   \n",
       "2019-11-27  3145.489990  3154.260010  3143.409912  3153.629883  3153.629883   \n",
       "2019-11-29  3147.179932  3150.300049  3139.340088  3140.979980  3140.979980   \n",
       "\n",
       "                  Volume  \n",
       "Date                      \n",
       "2019-11-22    3226780000  \n",
       "2019-11-25    3511530000  \n",
       "2019-11-26    4595590000  \n",
       "2019-11-27    3033090000  \n",
       "2019-11-29  174302000000  "
      ]
     },
     "execution_count": 32,
     "metadata": {},
     "output_type": "execute_result"
    }
   ],
   "source": [
    "sp500.tail()"
   ]
  },
  {
   "cell_type": "code",
   "execution_count": 33,
   "metadata": {},
   "outputs": [],
   "source": [
    "sp_500_adj_close = sp500[['Adj Close']].reset_index()"
   ]
  },
  {
   "cell_type": "code",
   "execution_count": 34,
   "metadata": {},
   "outputs": [
    {
     "data": {
      "text/html": [
       "<div>\n",
       "<style scoped>\n",
       "    .dataframe tbody tr th:only-of-type {\n",
       "        vertical-align: middle;\n",
       "    }\n",
       "\n",
       "    .dataframe tbody tr th {\n",
       "        vertical-align: top;\n",
       "    }\n",
       "\n",
       "    .dataframe thead th {\n",
       "        text-align: right;\n",
       "    }\n",
       "</style>\n",
       "<table border=\"1\" class=\"dataframe\">\n",
       "  <thead>\n",
       "    <tr style=\"text-align: right;\">\n",
       "      <th></th>\n",
       "      <th>Date</th>\n",
       "      <th>Adj Close</th>\n",
       "    </tr>\n",
       "  </thead>\n",
       "  <tbody>\n",
       "    <tr>\n",
       "      <th>5005</th>\n",
       "      <td>2019-11-22</td>\n",
       "      <td>3110.290039</td>\n",
       "    </tr>\n",
       "    <tr>\n",
       "      <th>5006</th>\n",
       "      <td>2019-11-25</td>\n",
       "      <td>3133.639893</td>\n",
       "    </tr>\n",
       "    <tr>\n",
       "      <th>5007</th>\n",
       "      <td>2019-11-26</td>\n",
       "      <td>3140.520020</td>\n",
       "    </tr>\n",
       "    <tr>\n",
       "      <th>5008</th>\n",
       "      <td>2019-11-27</td>\n",
       "      <td>3153.629883</td>\n",
       "    </tr>\n",
       "    <tr>\n",
       "      <th>5009</th>\n",
       "      <td>2019-11-29</td>\n",
       "      <td>3140.979980</td>\n",
       "    </tr>\n",
       "  </tbody>\n",
       "</table>\n",
       "</div>"
      ],
      "text/plain": [
       "           Date    Adj Close\n",
       "5005 2019-11-22  3110.290039\n",
       "5006 2019-11-25  3133.639893\n",
       "5007 2019-11-26  3140.520020\n",
       "5008 2019-11-27  3153.629883\n",
       "5009 2019-11-29  3140.979980"
      ]
     },
     "execution_count": 34,
     "metadata": {},
     "output_type": "execute_result"
    }
   ],
   "source": [
    "sp_500_adj_close.tail()"
   ]
  },
  {
   "cell_type": "code",
   "execution_count": 35,
   "metadata": {},
   "outputs": [
    {
     "data": {
      "text/html": [
       "<div>\n",
       "<style scoped>\n",
       "    .dataframe tbody tr th:only-of-type {\n",
       "        vertical-align: middle;\n",
       "    }\n",
       "\n",
       "    .dataframe tbody tr th {\n",
       "        vertical-align: top;\n",
       "    }\n",
       "\n",
       "    .dataframe thead th {\n",
       "        text-align: right;\n",
       "    }\n",
       "</style>\n",
       "<table border=\"1\" class=\"dataframe\">\n",
       "  <thead>\n",
       "    <tr style=\"text-align: right;\">\n",
       "      <th></th>\n",
       "      <th>Date</th>\n",
       "      <th>Adj Close</th>\n",
       "    </tr>\n",
       "  </thead>\n",
       "  <tbody>\n",
       "    <tr>\n",
       "      <th>4777</th>\n",
       "      <td>2018-12-28</td>\n",
       "      <td>2485.73999</td>\n",
       "    </tr>\n",
       "  </tbody>\n",
       "</table>\n",
       "</div>"
      ],
      "text/plain": [
       "           Date   Adj Close\n",
       "4777 2018-12-28  2485.73999"
      ]
     },
     "execution_count": 35,
     "metadata": {},
     "output_type": "execute_result"
    }
   ],
   "source": [
    "sp_500_adj_close_start = sp_500_adj_close[sp_500_adj_close['Date']==end_of_last_year]\n",
    "sp_500_adj_close_start"
   ]
  },
  {
   "cell_type": "code",
   "execution_count": 36,
   "metadata": {},
   "outputs": [
    {
     "data": {
      "text/plain": [
       "array(['AAPL', 'JNJ', 'MCD', 'MTCH', 'NFLX', 'WMT', 'FB', 'TWTR'],\n",
       "      dtype=object)"
      ]
     },
     "execution_count": 36,
     "metadata": {},
     "output_type": "execute_result"
    }
   ],
   "source": [
    "tickers = portfolio_df['Ticker'].unique()\n",
    "tickers"
   ]
  },
  {
   "cell_type": "code",
   "execution_count": 37,
   "metadata": {},
   "outputs": [
    {
     "name": "stdout",
     "output_type": "stream",
     "text": [
      "[*********************100%***********************]  1 of 1 completed\n",
      "[*********************100%***********************]  1 of 1 completed\n",
      "[*********************100%***********************]  1 of 1 completed\n",
      "[*********************100%***********************]  1 of 1 completed\n",
      "[*********************100%***********************]  1 of 1 completed\n",
      "[*********************100%***********************]  1 of 1 completed\n",
      "[*********************100%***********************]  1 of 1 completed\n",
      "[*********************100%***********************]  1 of 1 completed\n"
     ]
    }
   ],
   "source": [
    "def get(tickers, startdate, enddate):\n",
    "    def data(ticker):\n",
    "        return (pdr.get_data_yahoo(ticker, start=startdate, end=enddate))\n",
    "    datas = map(data, tickers)\n",
    "    return(pd.concat(datas, keys=tickers, names=['Ticker', 'Date']))\n",
    "               \n",
    "all_data = get(tickers, stocks_start, stocks_end)"
   ]
  },
  {
   "cell_type": "code",
   "execution_count": 38,
   "metadata": {},
   "outputs": [
    {
     "data": {
      "text/html": [
       "<div>\n",
       "<style scoped>\n",
       "    .dataframe tbody tr th:only-of-type {\n",
       "        vertical-align: middle;\n",
       "    }\n",
       "\n",
       "    .dataframe tbody tr th {\n",
       "        vertical-align: top;\n",
       "    }\n",
       "\n",
       "    .dataframe thead th {\n",
       "        text-align: right;\n",
       "    }\n",
       "</style>\n",
       "<table border=\"1\" class=\"dataframe\">\n",
       "  <thead>\n",
       "    <tr style=\"text-align: right;\">\n",
       "      <th></th>\n",
       "      <th></th>\n",
       "      <th>Open</th>\n",
       "      <th>High</th>\n",
       "      <th>Low</th>\n",
       "      <th>Close</th>\n",
       "      <th>Adj Close</th>\n",
       "      <th>Volume</th>\n",
       "    </tr>\n",
       "    <tr>\n",
       "      <th>Ticker</th>\n",
       "      <th>Date</th>\n",
       "      <th></th>\n",
       "      <th></th>\n",
       "      <th></th>\n",
       "      <th></th>\n",
       "      <th></th>\n",
       "      <th></th>\n",
       "    </tr>\n",
       "  </thead>\n",
       "  <tbody>\n",
       "    <tr>\n",
       "      <th rowspan=\"5\" valign=\"top\">AAPL</th>\n",
       "      <th>2010-01-04</th>\n",
       "      <td>30.490000</td>\n",
       "      <td>30.642857</td>\n",
       "      <td>30.340000</td>\n",
       "      <td>30.572857</td>\n",
       "      <td>26.601469</td>\n",
       "      <td>123432400</td>\n",
       "    </tr>\n",
       "    <tr>\n",
       "      <th>2010-01-05</th>\n",
       "      <td>30.657143</td>\n",
       "      <td>30.798571</td>\n",
       "      <td>30.464285</td>\n",
       "      <td>30.625713</td>\n",
       "      <td>26.647457</td>\n",
       "      <td>150476200</td>\n",
       "    </tr>\n",
       "    <tr>\n",
       "      <th>2010-01-06</th>\n",
       "      <td>30.625713</td>\n",
       "      <td>30.747143</td>\n",
       "      <td>30.107143</td>\n",
       "      <td>30.138571</td>\n",
       "      <td>26.223597</td>\n",
       "      <td>138040000</td>\n",
       "    </tr>\n",
       "    <tr>\n",
       "      <th>2010-01-07</th>\n",
       "      <td>30.250000</td>\n",
       "      <td>30.285715</td>\n",
       "      <td>29.864286</td>\n",
       "      <td>30.082857</td>\n",
       "      <td>26.175119</td>\n",
       "      <td>119282800</td>\n",
       "    </tr>\n",
       "    <tr>\n",
       "      <th>2010-01-08</th>\n",
       "      <td>30.042856</td>\n",
       "      <td>30.285715</td>\n",
       "      <td>29.865715</td>\n",
       "      <td>30.282858</td>\n",
       "      <td>26.349140</td>\n",
       "      <td>111902700</td>\n",
       "    </tr>\n",
       "  </tbody>\n",
       "</table>\n",
       "</div>"
      ],
      "text/plain": [
       "                        Open       High        Low      Close  Adj Close  \\\n",
       "Ticker Date                                                                \n",
       "AAPL   2010-01-04  30.490000  30.642857  30.340000  30.572857  26.601469   \n",
       "       2010-01-05  30.657143  30.798571  30.464285  30.625713  26.647457   \n",
       "       2010-01-06  30.625713  30.747143  30.107143  30.138571  26.223597   \n",
       "       2010-01-07  30.250000  30.285715  29.864286  30.082857  26.175119   \n",
       "       2010-01-08  30.042856  30.285715  29.865715  30.282858  26.349140   \n",
       "\n",
       "                      Volume  \n",
       "Ticker Date                   \n",
       "AAPL   2010-01-04  123432400  \n",
       "       2010-01-05  150476200  \n",
       "       2010-01-06  138040000  \n",
       "       2010-01-07  119282800  \n",
       "       2010-01-08  111902700  "
      ]
     },
     "execution_count": 38,
     "metadata": {},
     "output_type": "execute_result"
    }
   ],
   "source": [
    "all_data.head()"
   ]
  },
  {
   "cell_type": "code",
   "execution_count": 39,
   "metadata": {},
   "outputs": [
    {
     "data": {
      "text/html": [
       "<div>\n",
       "<style scoped>\n",
       "    .dataframe tbody tr th:only-of-type {\n",
       "        vertical-align: middle;\n",
       "    }\n",
       "\n",
       "    .dataframe tbody tr th {\n",
       "        vertical-align: top;\n",
       "    }\n",
       "\n",
       "    .dataframe thead th {\n",
       "        text-align: right;\n",
       "    }\n",
       "</style>\n",
       "<table border=\"1\" class=\"dataframe\">\n",
       "  <thead>\n",
       "    <tr style=\"text-align: right;\">\n",
       "      <th></th>\n",
       "      <th>Ticker</th>\n",
       "      <th>Date</th>\n",
       "      <th>Adj Close</th>\n",
       "    </tr>\n",
       "  </thead>\n",
       "  <tbody>\n",
       "    <tr>\n",
       "      <th>0</th>\n",
       "      <td>AAPL</td>\n",
       "      <td>2010-01-04</td>\n",
       "      <td>26.601469</td>\n",
       "    </tr>\n",
       "    <tr>\n",
       "      <th>1</th>\n",
       "      <td>AAPL</td>\n",
       "      <td>2010-01-05</td>\n",
       "      <td>26.647457</td>\n",
       "    </tr>\n",
       "    <tr>\n",
       "      <th>2</th>\n",
       "      <td>AAPL</td>\n",
       "      <td>2010-01-06</td>\n",
       "      <td>26.223597</td>\n",
       "    </tr>\n",
       "    <tr>\n",
       "      <th>3</th>\n",
       "      <td>AAPL</td>\n",
       "      <td>2010-01-07</td>\n",
       "      <td>26.175119</td>\n",
       "    </tr>\n",
       "    <tr>\n",
       "      <th>4</th>\n",
       "      <td>AAPL</td>\n",
       "      <td>2010-01-08</td>\n",
       "      <td>26.349140</td>\n",
       "    </tr>\n",
       "  </tbody>\n",
       "</table>\n",
       "</div>"
      ],
      "text/plain": [
       "  Ticker       Date  Adj Close\n",
       "0   AAPL 2010-01-04  26.601469\n",
       "1   AAPL 2010-01-05  26.647457\n",
       "2   AAPL 2010-01-06  26.223597\n",
       "3   AAPL 2010-01-07  26.175119\n",
       "4   AAPL 2010-01-08  26.349140"
      ]
     },
     "execution_count": 39,
     "metadata": {},
     "output_type": "execute_result"
    }
   ],
   "source": [
    "\n",
    "adj_close = all_data[['Adj Close']].reset_index()\n",
    "adj_close.head()"
   ]
  },
  {
   "cell_type": "code",
   "execution_count": 40,
   "metadata": {},
   "outputs": [
    {
     "data": {
      "text/html": [
       "<div>\n",
       "<style scoped>\n",
       "    .dataframe tbody tr th:only-of-type {\n",
       "        vertical-align: middle;\n",
       "    }\n",
       "\n",
       "    .dataframe tbody tr th {\n",
       "        vertical-align: top;\n",
       "    }\n",
       "\n",
       "    .dataframe thead th {\n",
       "        text-align: right;\n",
       "    }\n",
       "</style>\n",
       "<table border=\"1\" class=\"dataframe\">\n",
       "  <thead>\n",
       "    <tr style=\"text-align: right;\">\n",
       "      <th></th>\n",
       "      <th>Ticker</th>\n",
       "      <th>Date</th>\n",
       "      <th>Adj Close</th>\n",
       "    </tr>\n",
       "  </thead>\n",
       "  <tbody>\n",
       "    <tr>\n",
       "      <th>2262</th>\n",
       "      <td>AAPL</td>\n",
       "      <td>2018-12-28</td>\n",
       "      <td>153.917389</td>\n",
       "    </tr>\n",
       "    <tr>\n",
       "      <th>4757</th>\n",
       "      <td>JNJ</td>\n",
       "      <td>2018-12-28</td>\n",
       "      <td>123.780724</td>\n",
       "    </tr>\n",
       "    <tr>\n",
       "      <th>7252</th>\n",
       "      <td>MCD</td>\n",
       "      <td>2018-12-28</td>\n",
       "      <td>171.422867</td>\n",
       "    </tr>\n",
       "    <tr>\n",
       "      <th>8266</th>\n",
       "      <td>MTCH</td>\n",
       "      <td>2018-12-28</td>\n",
       "      <td>42.070000</td>\n",
       "    </tr>\n",
       "    <tr>\n",
       "      <th>10761</th>\n",
       "      <td>NFLX</td>\n",
       "      <td>2018-12-28</td>\n",
       "      <td>256.079987</td>\n",
       "    </tr>\n",
       "  </tbody>\n",
       "</table>\n",
       "</div>"
      ],
      "text/plain": [
       "      Ticker       Date   Adj Close\n",
       "2262    AAPL 2018-12-28  153.917389\n",
       "4757     JNJ 2018-12-28  123.780724\n",
       "7252     MCD 2018-12-28  171.422867\n",
       "8266    MTCH 2018-12-28   42.070000\n",
       "10761   NFLX 2018-12-28  256.079987"
      ]
     },
     "execution_count": 40,
     "metadata": {},
     "output_type": "execute_result"
    }
   ],
   "source": [
    "adj_close_start = adj_close[adj_close['Date']==end_of_last_year]\n",
    "adj_close_start.head()"
   ]
  },
  {
   "cell_type": "code",
   "execution_count": 41,
   "metadata": {},
   "outputs": [
    {
     "data": {
      "text/html": [
       "<div>\n",
       "<style scoped>\n",
       "    .dataframe tbody tr th:only-of-type {\n",
       "        vertical-align: middle;\n",
       "    }\n",
       "\n",
       "    .dataframe tbody tr th {\n",
       "        vertical-align: top;\n",
       "    }\n",
       "\n",
       "    .dataframe thead th {\n",
       "        text-align: right;\n",
       "    }\n",
       "</style>\n",
       "<table border=\"1\" class=\"dataframe\">\n",
       "  <thead>\n",
       "    <tr style=\"text-align: right;\">\n",
       "      <th></th>\n",
       "      <th>Ticker</th>\n",
       "      <th>Date</th>\n",
       "      <th>Adj Close</th>\n",
       "    </tr>\n",
       "  </thead>\n",
       "  <tbody>\n",
       "    <tr>\n",
       "      <th>2494</th>\n",
       "      <td>AAPL</td>\n",
       "      <td>2019-11-29</td>\n",
       "      <td>267.250000</td>\n",
       "    </tr>\n",
       "    <tr>\n",
       "      <th>4989</th>\n",
       "      <td>JNJ</td>\n",
       "      <td>2019-11-29</td>\n",
       "      <td>137.490005</td>\n",
       "    </tr>\n",
       "    <tr>\n",
       "      <th>7484</th>\n",
       "      <td>MCD</td>\n",
       "      <td>2019-11-29</td>\n",
       "      <td>194.479996</td>\n",
       "    </tr>\n",
       "    <tr>\n",
       "      <th>8498</th>\n",
       "      <td>MTCH</td>\n",
       "      <td>2019-11-29</td>\n",
       "      <td>70.480003</td>\n",
       "    </tr>\n",
       "    <tr>\n",
       "      <th>10993</th>\n",
       "      <td>NFLX</td>\n",
       "      <td>2019-11-29</td>\n",
       "      <td>314.660004</td>\n",
       "    </tr>\n",
       "    <tr>\n",
       "      <th>13488</th>\n",
       "      <td>WMT</td>\n",
       "      <td>2019-11-29</td>\n",
       "      <td>119.089996</td>\n",
       "    </tr>\n",
       "    <tr>\n",
       "      <th>15384</th>\n",
       "      <td>FB</td>\n",
       "      <td>2019-11-29</td>\n",
       "      <td>201.639999</td>\n",
       "    </tr>\n",
       "    <tr>\n",
       "      <th>16910</th>\n",
       "      <td>TWTR</td>\n",
       "      <td>2019-11-29</td>\n",
       "      <td>30.910000</td>\n",
       "    </tr>\n",
       "  </tbody>\n",
       "</table>\n",
       "</div>"
      ],
      "text/plain": [
       "      Ticker       Date   Adj Close\n",
       "2494    AAPL 2019-11-29  267.250000\n",
       "4989     JNJ 2019-11-29  137.490005\n",
       "7484     MCD 2019-11-29  194.479996\n",
       "8498    MTCH 2019-11-29   70.480003\n",
       "10993   NFLX 2019-11-29  314.660004\n",
       "13488    WMT 2019-11-29  119.089996\n",
       "15384     FB 2019-11-29  201.639999\n",
       "16910   TWTR 2019-11-29   30.910000"
      ]
     },
     "execution_count": 41,
     "metadata": {},
     "output_type": "execute_result"
    }
   ],
   "source": [
    "adj_close_latest = adj_close[adj_close['Date']==stocks_end]\n",
    "adj_close_latest"
   ]
  },
  {
   "cell_type": "code",
   "execution_count": 42,
   "metadata": {},
   "outputs": [
    {
     "data": {
      "text/html": [
       "<div>\n",
       "<style scoped>\n",
       "    .dataframe tbody tr th:only-of-type {\n",
       "        vertical-align: middle;\n",
       "    }\n",
       "\n",
       "    .dataframe tbody tr th {\n",
       "        vertical-align: top;\n",
       "    }\n",
       "\n",
       "    .dataframe thead th {\n",
       "        text-align: right;\n",
       "    }\n",
       "</style>\n",
       "<table border=\"1\" class=\"dataframe\">\n",
       "  <thead>\n",
       "    <tr style=\"text-align: right;\">\n",
       "      <th></th>\n",
       "      <th>Date</th>\n",
       "      <th>Adj Close</th>\n",
       "    </tr>\n",
       "    <tr>\n",
       "      <th>Ticker</th>\n",
       "      <th></th>\n",
       "      <th></th>\n",
       "    </tr>\n",
       "  </thead>\n",
       "  <tbody>\n",
       "    <tr>\n",
       "      <th>AAPL</th>\n",
       "      <td>2019-11-29</td>\n",
       "      <td>267.250000</td>\n",
       "    </tr>\n",
       "    <tr>\n",
       "      <th>JNJ</th>\n",
       "      <td>2019-11-29</td>\n",
       "      <td>137.490005</td>\n",
       "    </tr>\n",
       "    <tr>\n",
       "      <th>MCD</th>\n",
       "      <td>2019-11-29</td>\n",
       "      <td>194.479996</td>\n",
       "    </tr>\n",
       "    <tr>\n",
       "      <th>MTCH</th>\n",
       "      <td>2019-11-29</td>\n",
       "      <td>70.480003</td>\n",
       "    </tr>\n",
       "    <tr>\n",
       "      <th>NFLX</th>\n",
       "      <td>2019-11-29</td>\n",
       "      <td>314.660004</td>\n",
       "    </tr>\n",
       "  </tbody>\n",
       "</table>\n",
       "</div>"
      ],
      "text/plain": [
       "             Date   Adj Close\n",
       "Ticker                       \n",
       "AAPL   2019-11-29  267.250000\n",
       "JNJ    2019-11-29  137.490005\n",
       "MCD    2019-11-29  194.479996\n",
       "MTCH   2019-11-29   70.480003\n",
       "NFLX   2019-11-29  314.660004"
      ]
     },
     "execution_count": 42,
     "metadata": {},
     "output_type": "execute_result"
    }
   ],
   "source": [
    "adj_close_latest.set_index('Ticker', inplace=True)\n",
    "adj_close_latest.head()"
   ]
  },
  {
   "cell_type": "code",
   "execution_count": 43,
   "metadata": {},
   "outputs": [
    {
     "data": {
      "text/html": [
       "<div>\n",
       "<style scoped>\n",
       "    .dataframe tbody tr th:only-of-type {\n",
       "        vertical-align: middle;\n",
       "    }\n",
       "\n",
       "    .dataframe tbody tr th {\n",
       "        vertical-align: top;\n",
       "    }\n",
       "\n",
       "    .dataframe thead th {\n",
       "        text-align: right;\n",
       "    }\n",
       "</style>\n",
       "<table border=\"1\" class=\"dataframe\">\n",
       "  <thead>\n",
       "    <tr style=\"text-align: right;\">\n",
       "      <th></th>\n",
       "      <th>Acquisition Date</th>\n",
       "      <th>Quantity</th>\n",
       "      <th>Unit Cost</th>\n",
       "      <th>Cost Basis</th>\n",
       "      <th>Start of Year</th>\n",
       "    </tr>\n",
       "    <tr>\n",
       "      <th>Ticker</th>\n",
       "      <th></th>\n",
       "      <th></th>\n",
       "      <th></th>\n",
       "      <th></th>\n",
       "      <th></th>\n",
       "    </tr>\n",
       "  </thead>\n",
       "  <tbody>\n",
       "    <tr>\n",
       "      <th>AAPL</th>\n",
       "      <td>2013-02-07</td>\n",
       "      <td>125</td>\n",
       "      <td>65.40</td>\n",
       "      <td>8175.00</td>\n",
       "      <td>2018-12-28</td>\n",
       "    </tr>\n",
       "    <tr>\n",
       "      <th>JNJ</th>\n",
       "      <td>2014-02-27</td>\n",
       "      <td>100</td>\n",
       "      <td>81.90</td>\n",
       "      <td>8190.00</td>\n",
       "      <td>2018-12-28</td>\n",
       "    </tr>\n",
       "    <tr>\n",
       "      <th>MCD</th>\n",
       "      <td>2013-06-04</td>\n",
       "      <td>100</td>\n",
       "      <td>84.99</td>\n",
       "      <td>8499.00</td>\n",
       "      <td>2018-12-28</td>\n",
       "    </tr>\n",
       "    <tr>\n",
       "      <th>MTCH</th>\n",
       "      <td>2015-12-14</td>\n",
       "      <td>600</td>\n",
       "      <td>13.63</td>\n",
       "      <td>8178.00</td>\n",
       "      <td>2018-12-28</td>\n",
       "    </tr>\n",
       "    <tr>\n",
       "      <th>NFLX</th>\n",
       "      <td>2016-01-14</td>\n",
       "      <td>75</td>\n",
       "      <td>108.71</td>\n",
       "      <td>8153.25</td>\n",
       "      <td>2018-12-28</td>\n",
       "    </tr>\n",
       "  </tbody>\n",
       "</table>\n",
       "</div>"
      ],
      "text/plain": [
       "       Acquisition Date  Quantity  Unit Cost  Cost Basis Start of Year\n",
       "Ticker                                                                \n",
       "AAPL         2013-02-07       125      65.40     8175.00    2018-12-28\n",
       "JNJ          2014-02-27       100      81.90     8190.00    2018-12-28\n",
       "MCD          2013-06-04       100      84.99     8499.00    2018-12-28\n",
       "MTCH         2015-12-14       600      13.63     8178.00    2018-12-28\n",
       "NFLX         2016-01-14        75     108.71     8153.25    2018-12-28"
      ]
     },
     "execution_count": 43,
     "metadata": {},
     "output_type": "execute_result"
    }
   ],
   "source": [
    "portfolio_df.set_index(['Ticker'], inplace=True)\n",
    "\n",
    "portfolio_df.head()"
   ]
  },
  {
   "cell_type": "code",
   "execution_count": 44,
   "metadata": {},
   "outputs": [
    {
     "data": {
      "text/html": [
       "<div>\n",
       "<style scoped>\n",
       "    .dataframe tbody tr th:only-of-type {\n",
       "        vertical-align: middle;\n",
       "    }\n",
       "\n",
       "    .dataframe tbody tr th {\n",
       "        vertical-align: top;\n",
       "    }\n",
       "\n",
       "    .dataframe thead th {\n",
       "        text-align: right;\n",
       "    }\n",
       "</style>\n",
       "<table border=\"1\" class=\"dataframe\">\n",
       "  <thead>\n",
       "    <tr style=\"text-align: right;\">\n",
       "      <th></th>\n",
       "      <th>Acquisition Date</th>\n",
       "      <th>Quantity</th>\n",
       "      <th>Unit Cost</th>\n",
       "      <th>Cost Basis</th>\n",
       "      <th>Start of Year</th>\n",
       "      <th>Date</th>\n",
       "      <th>Adj Close</th>\n",
       "    </tr>\n",
       "    <tr>\n",
       "      <th>Ticker</th>\n",
       "      <th></th>\n",
       "      <th></th>\n",
       "      <th></th>\n",
       "      <th></th>\n",
       "      <th></th>\n",
       "      <th></th>\n",
       "      <th></th>\n",
       "    </tr>\n",
       "  </thead>\n",
       "  <tbody>\n",
       "    <tr>\n",
       "      <th>AAPL</th>\n",
       "      <td>2013-02-07</td>\n",
       "      <td>125</td>\n",
       "      <td>65.40</td>\n",
       "      <td>8175.00</td>\n",
       "      <td>2018-12-28</td>\n",
       "      <td>2019-11-29</td>\n",
       "      <td>267.250000</td>\n",
       "    </tr>\n",
       "    <tr>\n",
       "      <th>JNJ</th>\n",
       "      <td>2014-02-27</td>\n",
       "      <td>100</td>\n",
       "      <td>81.90</td>\n",
       "      <td>8190.00</td>\n",
       "      <td>2018-12-28</td>\n",
       "      <td>2019-11-29</td>\n",
       "      <td>137.490005</td>\n",
       "    </tr>\n",
       "    <tr>\n",
       "      <th>MCD</th>\n",
       "      <td>2013-06-04</td>\n",
       "      <td>100</td>\n",
       "      <td>84.99</td>\n",
       "      <td>8499.00</td>\n",
       "      <td>2018-12-28</td>\n",
       "      <td>2019-11-29</td>\n",
       "      <td>194.479996</td>\n",
       "    </tr>\n",
       "    <tr>\n",
       "      <th>MTCH</th>\n",
       "      <td>2015-12-14</td>\n",
       "      <td>600</td>\n",
       "      <td>13.63</td>\n",
       "      <td>8178.00</td>\n",
       "      <td>2018-12-28</td>\n",
       "      <td>2019-11-29</td>\n",
       "      <td>70.480003</td>\n",
       "    </tr>\n",
       "    <tr>\n",
       "      <th>NFLX</th>\n",
       "      <td>2016-01-14</td>\n",
       "      <td>75</td>\n",
       "      <td>108.71</td>\n",
       "      <td>8153.25</td>\n",
       "      <td>2018-12-28</td>\n",
       "      <td>2019-11-29</td>\n",
       "      <td>314.660004</td>\n",
       "    </tr>\n",
       "  </tbody>\n",
       "</table>\n",
       "</div>"
      ],
      "text/plain": [
       "       Acquisition Date  Quantity  Unit Cost  Cost Basis Start of Year  \\\n",
       "Ticker                                                                   \n",
       "AAPL         2013-02-07       125      65.40     8175.00    2018-12-28   \n",
       "JNJ          2014-02-27       100      81.90     8190.00    2018-12-28   \n",
       "MCD          2013-06-04       100      84.99     8499.00    2018-12-28   \n",
       "MTCH         2015-12-14       600      13.63     8178.00    2018-12-28   \n",
       "NFLX         2016-01-14        75     108.71     8153.25    2018-12-28   \n",
       "\n",
       "             Date   Adj Close  \n",
       "Ticker                         \n",
       "AAPL   2019-11-29  267.250000  \n",
       "JNJ    2019-11-29  137.490005  \n",
       "MCD    2019-11-29  194.479996  \n",
       "MTCH   2019-11-29   70.480003  \n",
       "NFLX   2019-11-29  314.660004  "
      ]
     },
     "execution_count": 44,
     "metadata": {},
     "output_type": "execute_result"
    }
   ],
   "source": [
    "merged_portfolio = pd.merge(portfolio_df, adj_close_latest, left_index=True, right_index=True)\n",
    "merged_portfolio.head()"
   ]
  },
  {
   "cell_type": "code",
   "execution_count": 45,
   "metadata": {},
   "outputs": [
    {
     "data": {
      "text/html": [
       "<div>\n",
       "<style scoped>\n",
       "    .dataframe tbody tr th:only-of-type {\n",
       "        vertical-align: middle;\n",
       "    }\n",
       "\n",
       "    .dataframe tbody tr th {\n",
       "        vertical-align: top;\n",
       "    }\n",
       "\n",
       "    .dataframe thead th {\n",
       "        text-align: right;\n",
       "    }\n",
       "</style>\n",
       "<table border=\"1\" class=\"dataframe\">\n",
       "  <thead>\n",
       "    <tr style=\"text-align: right;\">\n",
       "      <th></th>\n",
       "      <th>Acquisition Date</th>\n",
       "      <th>Quantity</th>\n",
       "      <th>Unit Cost</th>\n",
       "      <th>Cost Basis</th>\n",
       "      <th>Start of Year</th>\n",
       "      <th>Date</th>\n",
       "      <th>Adj Close</th>\n",
       "      <th>ticker return</th>\n",
       "    </tr>\n",
       "    <tr>\n",
       "      <th>Ticker</th>\n",
       "      <th></th>\n",
       "      <th></th>\n",
       "      <th></th>\n",
       "      <th></th>\n",
       "      <th></th>\n",
       "      <th></th>\n",
       "      <th></th>\n",
       "      <th></th>\n",
       "    </tr>\n",
       "  </thead>\n",
       "  <tbody>\n",
       "    <tr>\n",
       "      <th>AAPL</th>\n",
       "      <td>2013-02-07</td>\n",
       "      <td>125</td>\n",
       "      <td>65.40</td>\n",
       "      <td>8175.00</td>\n",
       "      <td>2018-12-28</td>\n",
       "      <td>2019-11-29</td>\n",
       "      <td>267.250000</td>\n",
       "      <td>3.086391</td>\n",
       "    </tr>\n",
       "    <tr>\n",
       "      <th>JNJ</th>\n",
       "      <td>2014-02-27</td>\n",
       "      <td>100</td>\n",
       "      <td>81.90</td>\n",
       "      <td>8190.00</td>\n",
       "      <td>2018-12-28</td>\n",
       "      <td>2019-11-29</td>\n",
       "      <td>137.490005</td>\n",
       "      <td>0.678755</td>\n",
       "    </tr>\n",
       "    <tr>\n",
       "      <th>MCD</th>\n",
       "      <td>2013-06-04</td>\n",
       "      <td>100</td>\n",
       "      <td>84.99</td>\n",
       "      <td>8499.00</td>\n",
       "      <td>2018-12-28</td>\n",
       "      <td>2019-11-29</td>\n",
       "      <td>194.479996</td>\n",
       "      <td>1.288269</td>\n",
       "    </tr>\n",
       "    <tr>\n",
       "      <th>MTCH</th>\n",
       "      <td>2015-12-14</td>\n",
       "      <td>600</td>\n",
       "      <td>13.63</td>\n",
       "      <td>8178.00</td>\n",
       "      <td>2018-12-28</td>\n",
       "      <td>2019-11-29</td>\n",
       "      <td>70.480003</td>\n",
       "      <td>4.170947</td>\n",
       "    </tr>\n",
       "    <tr>\n",
       "      <th>NFLX</th>\n",
       "      <td>2016-01-14</td>\n",
       "      <td>75</td>\n",
       "      <td>108.71</td>\n",
       "      <td>8153.25</td>\n",
       "      <td>2018-12-28</td>\n",
       "      <td>2019-11-29</td>\n",
       "      <td>314.660004</td>\n",
       "      <td>1.894490</td>\n",
       "    </tr>\n",
       "    <tr>\n",
       "      <th>WMT</th>\n",
       "      <td>2013-08-14</td>\n",
       "      <td>125</td>\n",
       "      <td>68.30</td>\n",
       "      <td>8537.50</td>\n",
       "      <td>2018-12-28</td>\n",
       "      <td>2019-11-29</td>\n",
       "      <td>119.089996</td>\n",
       "      <td>0.743631</td>\n",
       "    </tr>\n",
       "    <tr>\n",
       "      <th>FB</th>\n",
       "      <td>2013-12-13</td>\n",
       "      <td>150</td>\n",
       "      <td>53.32</td>\n",
       "      <td>7998.00</td>\n",
       "      <td>2018-12-28</td>\n",
       "      <td>2019-11-29</td>\n",
       "      <td>201.639999</td>\n",
       "      <td>2.781695</td>\n",
       "    </tr>\n",
       "    <tr>\n",
       "      <th>TWTR</th>\n",
       "      <td>2015-01-05</td>\n",
       "      <td>225</td>\n",
       "      <td>36.38</td>\n",
       "      <td>8185.50</td>\n",
       "      <td>2018-12-28</td>\n",
       "      <td>2019-11-29</td>\n",
       "      <td>30.910000</td>\n",
       "      <td>-0.150357</td>\n",
       "    </tr>\n",
       "  </tbody>\n",
       "</table>\n",
       "</div>"
      ],
      "text/plain": [
       "       Acquisition Date  Quantity  Unit Cost  Cost Basis Start of Year  \\\n",
       "Ticker                                                                   \n",
       "AAPL         2013-02-07       125      65.40     8175.00    2018-12-28   \n",
       "JNJ          2014-02-27       100      81.90     8190.00    2018-12-28   \n",
       "MCD          2013-06-04       100      84.99     8499.00    2018-12-28   \n",
       "MTCH         2015-12-14       600      13.63     8178.00    2018-12-28   \n",
       "NFLX         2016-01-14        75     108.71     8153.25    2018-12-28   \n",
       "WMT          2013-08-14       125      68.30     8537.50    2018-12-28   \n",
       "FB           2013-12-13       150      53.32     7998.00    2018-12-28   \n",
       "TWTR         2015-01-05       225      36.38     8185.50    2018-12-28   \n",
       "\n",
       "             Date   Adj Close  ticker return  \n",
       "Ticker                                        \n",
       "AAPL   2019-11-29  267.250000       3.086391  \n",
       "JNJ    2019-11-29  137.490005       0.678755  \n",
       "MCD    2019-11-29  194.479996       1.288269  \n",
       "MTCH   2019-11-29   70.480003       4.170947  \n",
       "NFLX   2019-11-29  314.660004       1.894490  \n",
       "WMT    2019-11-29  119.089996       0.743631  \n",
       "FB     2019-11-29  201.639999       2.781695  \n",
       "TWTR   2019-11-29   30.910000      -0.150357  "
      ]
     },
     "execution_count": 45,
     "metadata": {},
     "output_type": "execute_result"
    }
   ],
   "source": [
    "merged_portfolio['ticker return'] = merged_portfolio['Adj Close'] / merged_portfolio['Unit Cost'] - 1\n",
    "\n",
    "merged_portfolio"
   ]
  },
  {
   "cell_type": "code",
   "execution_count": 46,
   "metadata": {},
   "outputs": [],
   "source": [
    "merged_portfolio.reset_index(inplace=True)"
   ]
  },
  {
   "cell_type": "code",
   "execution_count": 47,
   "metadata": {},
   "outputs": [
    {
     "data": {
      "text/html": [
       "<div>\n",
       "<style scoped>\n",
       "    .dataframe tbody tr th:only-of-type {\n",
       "        vertical-align: middle;\n",
       "    }\n",
       "\n",
       "    .dataframe tbody tr th {\n",
       "        vertical-align: top;\n",
       "    }\n",
       "\n",
       "    .dataframe thead th {\n",
       "        text-align: right;\n",
       "    }\n",
       "</style>\n",
       "<table border=\"1\" class=\"dataframe\">\n",
       "  <thead>\n",
       "    <tr style=\"text-align: right;\">\n",
       "      <th></th>\n",
       "      <th>Ticker</th>\n",
       "      <th>Acquisition Date</th>\n",
       "      <th>Quantity</th>\n",
       "      <th>Unit Cost</th>\n",
       "      <th>Cost Basis</th>\n",
       "      <th>Start of Year</th>\n",
       "      <th>Date_x</th>\n",
       "      <th>Adj Close_x</th>\n",
       "      <th>ticker return</th>\n",
       "      <th>Date_y</th>\n",
       "      <th>Adj Close_y</th>\n",
       "    </tr>\n",
       "  </thead>\n",
       "  <tbody>\n",
       "    <tr>\n",
       "      <th>0</th>\n",
       "      <td>AAPL</td>\n",
       "      <td>2013-02-07</td>\n",
       "      <td>125</td>\n",
       "      <td>65.40</td>\n",
       "      <td>8175.00</td>\n",
       "      <td>2018-12-28</td>\n",
       "      <td>2019-11-29</td>\n",
       "      <td>267.250000</td>\n",
       "      <td>3.086391</td>\n",
       "      <td>2013-02-07</td>\n",
       "      <td>1509.390015</td>\n",
       "    </tr>\n",
       "    <tr>\n",
       "      <th>1</th>\n",
       "      <td>JNJ</td>\n",
       "      <td>2014-02-27</td>\n",
       "      <td>100</td>\n",
       "      <td>81.90</td>\n",
       "      <td>8190.00</td>\n",
       "      <td>2018-12-28</td>\n",
       "      <td>2019-11-29</td>\n",
       "      <td>137.490005</td>\n",
       "      <td>0.678755</td>\n",
       "      <td>2014-02-27</td>\n",
       "      <td>1854.290039</td>\n",
       "    </tr>\n",
       "    <tr>\n",
       "      <th>2</th>\n",
       "      <td>MCD</td>\n",
       "      <td>2013-06-04</td>\n",
       "      <td>100</td>\n",
       "      <td>84.99</td>\n",
       "      <td>8499.00</td>\n",
       "      <td>2018-12-28</td>\n",
       "      <td>2019-11-29</td>\n",
       "      <td>194.479996</td>\n",
       "      <td>1.288269</td>\n",
       "      <td>2013-06-04</td>\n",
       "      <td>1631.380005</td>\n",
       "    </tr>\n",
       "    <tr>\n",
       "      <th>3</th>\n",
       "      <td>MTCH</td>\n",
       "      <td>2015-12-14</td>\n",
       "      <td>600</td>\n",
       "      <td>13.63</td>\n",
       "      <td>8178.00</td>\n",
       "      <td>2018-12-28</td>\n",
       "      <td>2019-11-29</td>\n",
       "      <td>70.480003</td>\n",
       "      <td>4.170947</td>\n",
       "      <td>2015-12-14</td>\n",
       "      <td>2021.939941</td>\n",
       "    </tr>\n",
       "    <tr>\n",
       "      <th>4</th>\n",
       "      <td>NFLX</td>\n",
       "      <td>2016-01-14</td>\n",
       "      <td>75</td>\n",
       "      <td>108.71</td>\n",
       "      <td>8153.25</td>\n",
       "      <td>2018-12-28</td>\n",
       "      <td>2019-11-29</td>\n",
       "      <td>314.660004</td>\n",
       "      <td>1.894490</td>\n",
       "      <td>2016-01-14</td>\n",
       "      <td>1921.839966</td>\n",
       "    </tr>\n",
       "  </tbody>\n",
       "</table>\n",
       "</div>"
      ],
      "text/plain": [
       "  Ticker Acquisition Date  Quantity  Unit Cost  Cost Basis Start of Year  \\\n",
       "0   AAPL       2013-02-07       125      65.40     8175.00    2018-12-28   \n",
       "1    JNJ       2014-02-27       100      81.90     8190.00    2018-12-28   \n",
       "2    MCD       2013-06-04       100      84.99     8499.00    2018-12-28   \n",
       "3   MTCH       2015-12-14       600      13.63     8178.00    2018-12-28   \n",
       "4   NFLX       2016-01-14        75     108.71     8153.25    2018-12-28   \n",
       "\n",
       "      Date_x  Adj Close_x  ticker return     Date_y  Adj Close_y  \n",
       "0 2019-11-29   267.250000       3.086391 2013-02-07  1509.390015  \n",
       "1 2019-11-29   137.490005       0.678755 2014-02-27  1854.290039  \n",
       "2 2019-11-29   194.479996       1.288269 2013-06-04  1631.380005  \n",
       "3 2019-11-29    70.480003       4.170947 2015-12-14  2021.939941  \n",
       "4 2019-11-29   314.660004       1.894490 2016-01-14  1921.839966  "
      ]
     },
     "execution_count": 47,
     "metadata": {},
     "output_type": "execute_result"
    }
   ],
   "source": [
    "merged_portfolio_sp = pd.merge(merged_portfolio, sp_500_adj_close, left_on='Acquisition Date', right_on='Date')\n",
    "merged_portfolio_sp.head()"
   ]
  },
  {
   "cell_type": "code",
   "execution_count": 48,
   "metadata": {},
   "outputs": [
    {
     "data": {
      "text/html": [
       "<div>\n",
       "<style scoped>\n",
       "    .dataframe tbody tr th:only-of-type {\n",
       "        vertical-align: middle;\n",
       "    }\n",
       "\n",
       "    .dataframe tbody tr th {\n",
       "        vertical-align: top;\n",
       "    }\n",
       "\n",
       "    .dataframe thead th {\n",
       "        text-align: right;\n",
       "    }\n",
       "</style>\n",
       "<table border=\"1\" class=\"dataframe\">\n",
       "  <thead>\n",
       "    <tr style=\"text-align: right;\">\n",
       "      <th></th>\n",
       "      <th>Ticker</th>\n",
       "      <th>Acquisition Date</th>\n",
       "      <th>Quantity</th>\n",
       "      <th>Unit Cost</th>\n",
       "      <th>Cost Basis</th>\n",
       "      <th>Start of Year</th>\n",
       "      <th>Latest Date</th>\n",
       "      <th>Ticker Adj Close</th>\n",
       "      <th>ticker return</th>\n",
       "      <th>SP 500 Initial Close</th>\n",
       "    </tr>\n",
       "  </thead>\n",
       "  <tbody>\n",
       "    <tr>\n",
       "      <th>0</th>\n",
       "      <td>AAPL</td>\n",
       "      <td>2013-02-07</td>\n",
       "      <td>125</td>\n",
       "      <td>65.40</td>\n",
       "      <td>8175.00</td>\n",
       "      <td>2018-12-28</td>\n",
       "      <td>2019-11-29</td>\n",
       "      <td>267.250000</td>\n",
       "      <td>3.086391</td>\n",
       "      <td>1509.390015</td>\n",
       "    </tr>\n",
       "    <tr>\n",
       "      <th>1</th>\n",
       "      <td>JNJ</td>\n",
       "      <td>2014-02-27</td>\n",
       "      <td>100</td>\n",
       "      <td>81.90</td>\n",
       "      <td>8190.00</td>\n",
       "      <td>2018-12-28</td>\n",
       "      <td>2019-11-29</td>\n",
       "      <td>137.490005</td>\n",
       "      <td>0.678755</td>\n",
       "      <td>1854.290039</td>\n",
       "    </tr>\n",
       "    <tr>\n",
       "      <th>2</th>\n",
       "      <td>MCD</td>\n",
       "      <td>2013-06-04</td>\n",
       "      <td>100</td>\n",
       "      <td>84.99</td>\n",
       "      <td>8499.00</td>\n",
       "      <td>2018-12-28</td>\n",
       "      <td>2019-11-29</td>\n",
       "      <td>194.479996</td>\n",
       "      <td>1.288269</td>\n",
       "      <td>1631.380005</td>\n",
       "    </tr>\n",
       "    <tr>\n",
       "      <th>3</th>\n",
       "      <td>MTCH</td>\n",
       "      <td>2015-12-14</td>\n",
       "      <td>600</td>\n",
       "      <td>13.63</td>\n",
       "      <td>8178.00</td>\n",
       "      <td>2018-12-28</td>\n",
       "      <td>2019-11-29</td>\n",
       "      <td>70.480003</td>\n",
       "      <td>4.170947</td>\n",
       "      <td>2021.939941</td>\n",
       "    </tr>\n",
       "    <tr>\n",
       "      <th>4</th>\n",
       "      <td>NFLX</td>\n",
       "      <td>2016-01-14</td>\n",
       "      <td>75</td>\n",
       "      <td>108.71</td>\n",
       "      <td>8153.25</td>\n",
       "      <td>2018-12-28</td>\n",
       "      <td>2019-11-29</td>\n",
       "      <td>314.660004</td>\n",
       "      <td>1.894490</td>\n",
       "      <td>1921.839966</td>\n",
       "    </tr>\n",
       "  </tbody>\n",
       "</table>\n",
       "</div>"
      ],
      "text/plain": [
       "  Ticker Acquisition Date  Quantity  Unit Cost  Cost Basis Start of Year  \\\n",
       "0   AAPL       2013-02-07       125      65.40     8175.00    2018-12-28   \n",
       "1    JNJ       2014-02-27       100      81.90     8190.00    2018-12-28   \n",
       "2    MCD       2013-06-04       100      84.99     8499.00    2018-12-28   \n",
       "3   MTCH       2015-12-14       600      13.63     8178.00    2018-12-28   \n",
       "4   NFLX       2016-01-14        75     108.71     8153.25    2018-12-28   \n",
       "\n",
       "  Latest Date  Ticker Adj Close  ticker return  SP 500 Initial Close  \n",
       "0  2019-11-29        267.250000       3.086391           1509.390015  \n",
       "1  2019-11-29        137.490005       0.678755           1854.290039  \n",
       "2  2019-11-29        194.479996       1.288269           1631.380005  \n",
       "3  2019-11-29         70.480003       4.170947           2021.939941  \n",
       "4  2019-11-29        314.660004       1.894490           1921.839966  "
      ]
     },
     "execution_count": 48,
     "metadata": {},
     "output_type": "execute_result"
    }
   ],
   "source": [
    "del merged_portfolio_sp['Date_y']\n",
    "\n",
    "merged_portfolio_sp.rename(columns={'Date_x': 'Latest Date', 'Adj Close_x': 'Ticker Adj Close'\n",
    "                                    , 'Adj Close_y': 'SP 500 Initial Close'}, inplace=True)\n",
    "\n",
    "merged_portfolio_sp.head()"
   ]
  },
  {
   "cell_type": "code",
   "execution_count": 49,
   "metadata": {},
   "outputs": [
    {
     "data": {
      "text/html": [
       "<div>\n",
       "<style scoped>\n",
       "    .dataframe tbody tr th:only-of-type {\n",
       "        vertical-align: middle;\n",
       "    }\n",
       "\n",
       "    .dataframe tbody tr th {\n",
       "        vertical-align: top;\n",
       "    }\n",
       "\n",
       "    .dataframe thead th {\n",
       "        text-align: right;\n",
       "    }\n",
       "</style>\n",
       "<table border=\"1\" class=\"dataframe\">\n",
       "  <thead>\n",
       "    <tr style=\"text-align: right;\">\n",
       "      <th></th>\n",
       "      <th>Ticker</th>\n",
       "      <th>Acquisition Date</th>\n",
       "      <th>Quantity</th>\n",
       "      <th>Unit Cost</th>\n",
       "      <th>Cost Basis</th>\n",
       "      <th>Start of Year</th>\n",
       "      <th>Latest Date</th>\n",
       "      <th>Ticker Adj Close</th>\n",
       "      <th>ticker return</th>\n",
       "      <th>SP 500 Initial Close</th>\n",
       "      <th>Equiv SP Shares</th>\n",
       "    </tr>\n",
       "  </thead>\n",
       "  <tbody>\n",
       "    <tr>\n",
       "      <th>0</th>\n",
       "      <td>AAPL</td>\n",
       "      <td>2013-02-07</td>\n",
       "      <td>125</td>\n",
       "      <td>65.40</td>\n",
       "      <td>8175.00</td>\n",
       "      <td>2018-12-28</td>\n",
       "      <td>2019-11-29</td>\n",
       "      <td>267.250000</td>\n",
       "      <td>3.086391</td>\n",
       "      <td>1509.390015</td>\n",
       "      <td>5.416095</td>\n",
       "    </tr>\n",
       "    <tr>\n",
       "      <th>1</th>\n",
       "      <td>JNJ</td>\n",
       "      <td>2014-02-27</td>\n",
       "      <td>100</td>\n",
       "      <td>81.90</td>\n",
       "      <td>8190.00</td>\n",
       "      <td>2018-12-28</td>\n",
       "      <td>2019-11-29</td>\n",
       "      <td>137.490005</td>\n",
       "      <td>0.678755</td>\n",
       "      <td>1854.290039</td>\n",
       "      <td>4.416785</td>\n",
       "    </tr>\n",
       "    <tr>\n",
       "      <th>2</th>\n",
       "      <td>MCD</td>\n",
       "      <td>2013-06-04</td>\n",
       "      <td>100</td>\n",
       "      <td>84.99</td>\n",
       "      <td>8499.00</td>\n",
       "      <td>2018-12-28</td>\n",
       "      <td>2019-11-29</td>\n",
       "      <td>194.479996</td>\n",
       "      <td>1.288269</td>\n",
       "      <td>1631.380005</td>\n",
       "      <td>5.209700</td>\n",
       "    </tr>\n",
       "    <tr>\n",
       "      <th>3</th>\n",
       "      <td>MTCH</td>\n",
       "      <td>2015-12-14</td>\n",
       "      <td>600</td>\n",
       "      <td>13.63</td>\n",
       "      <td>8178.00</td>\n",
       "      <td>2018-12-28</td>\n",
       "      <td>2019-11-29</td>\n",
       "      <td>70.480003</td>\n",
       "      <td>4.170947</td>\n",
       "      <td>2021.939941</td>\n",
       "      <td>4.044631</td>\n",
       "    </tr>\n",
       "    <tr>\n",
       "      <th>4</th>\n",
       "      <td>NFLX</td>\n",
       "      <td>2016-01-14</td>\n",
       "      <td>75</td>\n",
       "      <td>108.71</td>\n",
       "      <td>8153.25</td>\n",
       "      <td>2018-12-28</td>\n",
       "      <td>2019-11-29</td>\n",
       "      <td>314.660004</td>\n",
       "      <td>1.894490</td>\n",
       "      <td>1921.839966</td>\n",
       "      <td>4.242419</td>\n",
       "    </tr>\n",
       "  </tbody>\n",
       "</table>\n",
       "</div>"
      ],
      "text/plain": [
       "  Ticker Acquisition Date  Quantity  Unit Cost  Cost Basis Start of Year  \\\n",
       "0   AAPL       2013-02-07       125      65.40     8175.00    2018-12-28   \n",
       "1    JNJ       2014-02-27       100      81.90     8190.00    2018-12-28   \n",
       "2    MCD       2013-06-04       100      84.99     8499.00    2018-12-28   \n",
       "3   MTCH       2015-12-14       600      13.63     8178.00    2018-12-28   \n",
       "4   NFLX       2016-01-14        75     108.71     8153.25    2018-12-28   \n",
       "\n",
       "  Latest Date  Ticker Adj Close  ticker return  SP 500 Initial Close  \\\n",
       "0  2019-11-29        267.250000       3.086391           1509.390015   \n",
       "1  2019-11-29        137.490005       0.678755           1854.290039   \n",
       "2  2019-11-29        194.479996       1.288269           1631.380005   \n",
       "3  2019-11-29         70.480003       4.170947           2021.939941   \n",
       "4  2019-11-29        314.660004       1.894490           1921.839966   \n",
       "\n",
       "   Equiv SP Shares  \n",
       "0         5.416095  \n",
       "1         4.416785  \n",
       "2         5.209700  \n",
       "3         4.044631  \n",
       "4         4.242419  "
      ]
     },
     "execution_count": 49,
     "metadata": {},
     "output_type": "execute_result"
    }
   ],
   "source": [
    "merged_portfolio_sp['Equiv SP Shares'] = merged_portfolio_sp['Cost Basis'] / merged_portfolio_sp['SP 500 Initial Close']\n",
    "merged_portfolio_sp.head()"
   ]
  },
  {
   "cell_type": "code",
   "execution_count": 50,
   "metadata": {},
   "outputs": [
    {
     "data": {
      "text/html": [
       "<div>\n",
       "<style scoped>\n",
       "    .dataframe tbody tr th:only-of-type {\n",
       "        vertical-align: middle;\n",
       "    }\n",
       "\n",
       "    .dataframe tbody tr th {\n",
       "        vertical-align: top;\n",
       "    }\n",
       "\n",
       "    .dataframe thead th {\n",
       "        text-align: right;\n",
       "    }\n",
       "</style>\n",
       "<table border=\"1\" class=\"dataframe\">\n",
       "  <thead>\n",
       "    <tr style=\"text-align: right;\">\n",
       "      <th></th>\n",
       "      <th>Ticker</th>\n",
       "      <th>Acquisition Date</th>\n",
       "      <th>Quantity</th>\n",
       "      <th>Unit Cost</th>\n",
       "      <th>Cost Basis</th>\n",
       "      <th>Start of Year</th>\n",
       "      <th>Latest Date</th>\n",
       "      <th>Ticker Adj Close</th>\n",
       "      <th>ticker return</th>\n",
       "      <th>SP 500 Initial Close</th>\n",
       "      <th>Equiv SP Shares</th>\n",
       "      <th>Date</th>\n",
       "      <th>Adj Close</th>\n",
       "    </tr>\n",
       "  </thead>\n",
       "  <tbody>\n",
       "    <tr>\n",
       "      <th>0</th>\n",
       "      <td>AAPL</td>\n",
       "      <td>2013-02-07</td>\n",
       "      <td>125</td>\n",
       "      <td>65.40</td>\n",
       "      <td>8175.00</td>\n",
       "      <td>2018-12-28</td>\n",
       "      <td>2019-11-29</td>\n",
       "      <td>267.250000</td>\n",
       "      <td>3.086391</td>\n",
       "      <td>1509.390015</td>\n",
       "      <td>5.416095</td>\n",
       "      <td>2019-11-29</td>\n",
       "      <td>3140.97998</td>\n",
       "    </tr>\n",
       "    <tr>\n",
       "      <th>1</th>\n",
       "      <td>JNJ</td>\n",
       "      <td>2014-02-27</td>\n",
       "      <td>100</td>\n",
       "      <td>81.90</td>\n",
       "      <td>8190.00</td>\n",
       "      <td>2018-12-28</td>\n",
       "      <td>2019-11-29</td>\n",
       "      <td>137.490005</td>\n",
       "      <td>0.678755</td>\n",
       "      <td>1854.290039</td>\n",
       "      <td>4.416785</td>\n",
       "      <td>2019-11-29</td>\n",
       "      <td>3140.97998</td>\n",
       "    </tr>\n",
       "    <tr>\n",
       "      <th>2</th>\n",
       "      <td>MCD</td>\n",
       "      <td>2013-06-04</td>\n",
       "      <td>100</td>\n",
       "      <td>84.99</td>\n",
       "      <td>8499.00</td>\n",
       "      <td>2018-12-28</td>\n",
       "      <td>2019-11-29</td>\n",
       "      <td>194.479996</td>\n",
       "      <td>1.288269</td>\n",
       "      <td>1631.380005</td>\n",
       "      <td>5.209700</td>\n",
       "      <td>2019-11-29</td>\n",
       "      <td>3140.97998</td>\n",
       "    </tr>\n",
       "    <tr>\n",
       "      <th>3</th>\n",
       "      <td>MTCH</td>\n",
       "      <td>2015-12-14</td>\n",
       "      <td>600</td>\n",
       "      <td>13.63</td>\n",
       "      <td>8178.00</td>\n",
       "      <td>2018-12-28</td>\n",
       "      <td>2019-11-29</td>\n",
       "      <td>70.480003</td>\n",
       "      <td>4.170947</td>\n",
       "      <td>2021.939941</td>\n",
       "      <td>4.044631</td>\n",
       "      <td>2019-11-29</td>\n",
       "      <td>3140.97998</td>\n",
       "    </tr>\n",
       "    <tr>\n",
       "      <th>4</th>\n",
       "      <td>NFLX</td>\n",
       "      <td>2016-01-14</td>\n",
       "      <td>75</td>\n",
       "      <td>108.71</td>\n",
       "      <td>8153.25</td>\n",
       "      <td>2018-12-28</td>\n",
       "      <td>2019-11-29</td>\n",
       "      <td>314.660004</td>\n",
       "      <td>1.894490</td>\n",
       "      <td>1921.839966</td>\n",
       "      <td>4.242419</td>\n",
       "      <td>2019-11-29</td>\n",
       "      <td>3140.97998</td>\n",
       "    </tr>\n",
       "  </tbody>\n",
       "</table>\n",
       "</div>"
      ],
      "text/plain": [
       "  Ticker Acquisition Date  Quantity  Unit Cost  Cost Basis Start of Year  \\\n",
       "0   AAPL       2013-02-07       125      65.40     8175.00    2018-12-28   \n",
       "1    JNJ       2014-02-27       100      81.90     8190.00    2018-12-28   \n",
       "2    MCD       2013-06-04       100      84.99     8499.00    2018-12-28   \n",
       "3   MTCH       2015-12-14       600      13.63     8178.00    2018-12-28   \n",
       "4   NFLX       2016-01-14        75     108.71     8153.25    2018-12-28   \n",
       "\n",
       "  Latest Date  Ticker Adj Close  ticker return  SP 500 Initial Close  \\\n",
       "0  2019-11-29        267.250000       3.086391           1509.390015   \n",
       "1  2019-11-29        137.490005       0.678755           1854.290039   \n",
       "2  2019-11-29        194.479996       1.288269           1631.380005   \n",
       "3  2019-11-29         70.480003       4.170947           2021.939941   \n",
       "4  2019-11-29        314.660004       1.894490           1921.839966   \n",
       "\n",
       "   Equiv SP Shares       Date   Adj Close  \n",
       "0         5.416095 2019-11-29  3140.97998  \n",
       "1         4.416785 2019-11-29  3140.97998  \n",
       "2         5.209700 2019-11-29  3140.97998  \n",
       "3         4.044631 2019-11-29  3140.97998  \n",
       "4         4.242419 2019-11-29  3140.97998  "
      ]
     },
     "execution_count": 50,
     "metadata": {},
     "output_type": "execute_result"
    }
   ],
   "source": [
    "merged_portfolio_sp_latest = pd.merge(merged_portfolio_sp, sp_500_adj_close, left_on='Latest Date', right_on='Date')\n",
    "\n",
    "merged_portfolio_sp_latest.head()"
   ]
  },
  {
   "cell_type": "code",
   "execution_count": 51,
   "metadata": {},
   "outputs": [
    {
     "data": {
      "text/html": [
       "<div>\n",
       "<style scoped>\n",
       "    .dataframe tbody tr th:only-of-type {\n",
       "        vertical-align: middle;\n",
       "    }\n",
       "\n",
       "    .dataframe tbody tr th {\n",
       "        vertical-align: top;\n",
       "    }\n",
       "\n",
       "    .dataframe thead th {\n",
       "        text-align: right;\n",
       "    }\n",
       "</style>\n",
       "<table border=\"1\" class=\"dataframe\">\n",
       "  <thead>\n",
       "    <tr style=\"text-align: right;\">\n",
       "      <th></th>\n",
       "      <th>Ticker</th>\n",
       "      <th>Acquisition Date</th>\n",
       "      <th>Quantity</th>\n",
       "      <th>Unit Cost</th>\n",
       "      <th>Cost Basis</th>\n",
       "      <th>Start of Year</th>\n",
       "      <th>Latest Date</th>\n",
       "      <th>Ticker Adj Close</th>\n",
       "      <th>ticker return</th>\n",
       "      <th>SP 500 Initial Close</th>\n",
       "      <th>Equiv SP Shares</th>\n",
       "      <th>SP 500 Latest Close</th>\n",
       "    </tr>\n",
       "  </thead>\n",
       "  <tbody>\n",
       "    <tr>\n",
       "      <th>0</th>\n",
       "      <td>AAPL</td>\n",
       "      <td>2013-02-07</td>\n",
       "      <td>125</td>\n",
       "      <td>65.40</td>\n",
       "      <td>8175.00</td>\n",
       "      <td>2018-12-28</td>\n",
       "      <td>2019-11-29</td>\n",
       "      <td>267.250000</td>\n",
       "      <td>3.086391</td>\n",
       "      <td>1509.390015</td>\n",
       "      <td>5.416095</td>\n",
       "      <td>3140.97998</td>\n",
       "    </tr>\n",
       "    <tr>\n",
       "      <th>1</th>\n",
       "      <td>JNJ</td>\n",
       "      <td>2014-02-27</td>\n",
       "      <td>100</td>\n",
       "      <td>81.90</td>\n",
       "      <td>8190.00</td>\n",
       "      <td>2018-12-28</td>\n",
       "      <td>2019-11-29</td>\n",
       "      <td>137.490005</td>\n",
       "      <td>0.678755</td>\n",
       "      <td>1854.290039</td>\n",
       "      <td>4.416785</td>\n",
       "      <td>3140.97998</td>\n",
       "    </tr>\n",
       "    <tr>\n",
       "      <th>2</th>\n",
       "      <td>MCD</td>\n",
       "      <td>2013-06-04</td>\n",
       "      <td>100</td>\n",
       "      <td>84.99</td>\n",
       "      <td>8499.00</td>\n",
       "      <td>2018-12-28</td>\n",
       "      <td>2019-11-29</td>\n",
       "      <td>194.479996</td>\n",
       "      <td>1.288269</td>\n",
       "      <td>1631.380005</td>\n",
       "      <td>5.209700</td>\n",
       "      <td>3140.97998</td>\n",
       "    </tr>\n",
       "    <tr>\n",
       "      <th>3</th>\n",
       "      <td>MTCH</td>\n",
       "      <td>2015-12-14</td>\n",
       "      <td>600</td>\n",
       "      <td>13.63</td>\n",
       "      <td>8178.00</td>\n",
       "      <td>2018-12-28</td>\n",
       "      <td>2019-11-29</td>\n",
       "      <td>70.480003</td>\n",
       "      <td>4.170947</td>\n",
       "      <td>2021.939941</td>\n",
       "      <td>4.044631</td>\n",
       "      <td>3140.97998</td>\n",
       "    </tr>\n",
       "    <tr>\n",
       "      <th>4</th>\n",
       "      <td>NFLX</td>\n",
       "      <td>2016-01-14</td>\n",
       "      <td>75</td>\n",
       "      <td>108.71</td>\n",
       "      <td>8153.25</td>\n",
       "      <td>2018-12-28</td>\n",
       "      <td>2019-11-29</td>\n",
       "      <td>314.660004</td>\n",
       "      <td>1.894490</td>\n",
       "      <td>1921.839966</td>\n",
       "      <td>4.242419</td>\n",
       "      <td>3140.97998</td>\n",
       "    </tr>\n",
       "  </tbody>\n",
       "</table>\n",
       "</div>"
      ],
      "text/plain": [
       "  Ticker Acquisition Date  Quantity  Unit Cost  Cost Basis Start of Year  \\\n",
       "0   AAPL       2013-02-07       125      65.40     8175.00    2018-12-28   \n",
       "1    JNJ       2014-02-27       100      81.90     8190.00    2018-12-28   \n",
       "2    MCD       2013-06-04       100      84.99     8499.00    2018-12-28   \n",
       "3   MTCH       2015-12-14       600      13.63     8178.00    2018-12-28   \n",
       "4   NFLX       2016-01-14        75     108.71     8153.25    2018-12-28   \n",
       "\n",
       "  Latest Date  Ticker Adj Close  ticker return  SP 500 Initial Close  \\\n",
       "0  2019-11-29        267.250000       3.086391           1509.390015   \n",
       "1  2019-11-29        137.490005       0.678755           1854.290039   \n",
       "2  2019-11-29        194.479996       1.288269           1631.380005   \n",
       "3  2019-11-29         70.480003       4.170947           2021.939941   \n",
       "4  2019-11-29        314.660004       1.894490           1921.839966   \n",
       "\n",
       "   Equiv SP Shares  SP 500 Latest Close  \n",
       "0         5.416095           3140.97998  \n",
       "1         4.416785           3140.97998  \n",
       "2         5.209700           3140.97998  \n",
       "3         4.044631           3140.97998  \n",
       "4         4.242419           3140.97998  "
      ]
     },
     "execution_count": 51,
     "metadata": {},
     "output_type": "execute_result"
    }
   ],
   "source": [
    "del merged_portfolio_sp_latest['Date']\n",
    "\n",
    "merged_portfolio_sp_latest.rename(columns={'Adj Close': 'SP 500 Latest Close'}, inplace=True)\n",
    "\n",
    "merged_portfolio_sp_latest.head()"
   ]
  },
  {
   "cell_type": "code",
   "execution_count": 52,
   "metadata": {},
   "outputs": [
    {
     "data": {
      "text/html": [
       "<div>\n",
       "<style scoped>\n",
       "    .dataframe tbody tr th:only-of-type {\n",
       "        vertical-align: middle;\n",
       "    }\n",
       "\n",
       "    .dataframe tbody tr th {\n",
       "        vertical-align: top;\n",
       "    }\n",
       "\n",
       "    .dataframe thead th {\n",
       "        text-align: right;\n",
       "    }\n",
       "</style>\n",
       "<table border=\"1\" class=\"dataframe\">\n",
       "  <thead>\n",
       "    <tr style=\"text-align: right;\">\n",
       "      <th></th>\n",
       "      <th>Ticker</th>\n",
       "      <th>Acquisition Date</th>\n",
       "      <th>Quantity</th>\n",
       "      <th>Unit Cost</th>\n",
       "      <th>Cost Basis</th>\n",
       "      <th>Start of Year</th>\n",
       "      <th>Latest Date</th>\n",
       "      <th>Ticker Adj Close</th>\n",
       "      <th>ticker return</th>\n",
       "      <th>SP 500 Initial Close</th>\n",
       "      <th>Equiv SP Shares</th>\n",
       "      <th>SP 500 Latest Close</th>\n",
       "      <th>SP Return</th>\n",
       "      <th>Abs. Return Compare</th>\n",
       "      <th>Ticker Share Value</th>\n",
       "      <th>SP 500 Value</th>\n",
       "      <th>Abs Value Compare</th>\n",
       "      <th>Stock Gain / (Loss)</th>\n",
       "      <th>SP 500 Gain / (Loss)</th>\n",
       "    </tr>\n",
       "  </thead>\n",
       "  <tbody>\n",
       "    <tr>\n",
       "      <th>0</th>\n",
       "      <td>AAPL</td>\n",
       "      <td>2013-02-07</td>\n",
       "      <td>125</td>\n",
       "      <td>65.40</td>\n",
       "      <td>8175.00</td>\n",
       "      <td>2018-12-28</td>\n",
       "      <td>2019-11-29</td>\n",
       "      <td>267.250000</td>\n",
       "      <td>3.086391</td>\n",
       "      <td>1509.390015</td>\n",
       "      <td>5.416095</td>\n",
       "      <td>3140.97998</td>\n",
       "      <td>1.080960</td>\n",
       "      <td>2.005432</td>\n",
       "      <td>33406.250000</td>\n",
       "      <td>17011.846568</td>\n",
       "      <td>16394.403432</td>\n",
       "      <td>25231.250000</td>\n",
       "      <td>8836.846568</td>\n",
       "    </tr>\n",
       "    <tr>\n",
       "      <th>1</th>\n",
       "      <td>JNJ</td>\n",
       "      <td>2014-02-27</td>\n",
       "      <td>100</td>\n",
       "      <td>81.90</td>\n",
       "      <td>8190.00</td>\n",
       "      <td>2018-12-28</td>\n",
       "      <td>2019-11-29</td>\n",
       "      <td>137.490005</td>\n",
       "      <td>0.678755</td>\n",
       "      <td>1854.290039</td>\n",
       "      <td>4.416785</td>\n",
       "      <td>3140.97998</td>\n",
       "      <td>0.693899</td>\n",
       "      <td>-0.015144</td>\n",
       "      <td>13749.000549</td>\n",
       "      <td>13873.032534</td>\n",
       "      <td>-124.031985</td>\n",
       "      <td>5559.000549</td>\n",
       "      <td>5683.032534</td>\n",
       "    </tr>\n",
       "    <tr>\n",
       "      <th>2</th>\n",
       "      <td>MCD</td>\n",
       "      <td>2013-06-04</td>\n",
       "      <td>100</td>\n",
       "      <td>84.99</td>\n",
       "      <td>8499.00</td>\n",
       "      <td>2018-12-28</td>\n",
       "      <td>2019-11-29</td>\n",
       "      <td>194.479996</td>\n",
       "      <td>1.288269</td>\n",
       "      <td>1631.380005</td>\n",
       "      <td>5.209700</td>\n",
       "      <td>3140.97998</td>\n",
       "      <td>0.925352</td>\n",
       "      <td>0.362918</td>\n",
       "      <td>19447.999573</td>\n",
       "      <td>16363.562612</td>\n",
       "      <td>3084.436961</td>\n",
       "      <td>10948.999573</td>\n",
       "      <td>7864.562612</td>\n",
       "    </tr>\n",
       "    <tr>\n",
       "      <th>3</th>\n",
       "      <td>MTCH</td>\n",
       "      <td>2015-12-14</td>\n",
       "      <td>600</td>\n",
       "      <td>13.63</td>\n",
       "      <td>8178.00</td>\n",
       "      <td>2018-12-28</td>\n",
       "      <td>2019-11-29</td>\n",
       "      <td>70.480003</td>\n",
       "      <td>4.170947</td>\n",
       "      <td>2021.939941</td>\n",
       "      <td>4.044631</td>\n",
       "      <td>3140.97998</td>\n",
       "      <td>0.553449</td>\n",
       "      <td>3.617498</td>\n",
       "      <td>42288.002014</td>\n",
       "      <td>12704.103497</td>\n",
       "      <td>29583.898517</td>\n",
       "      <td>34110.002014</td>\n",
       "      <td>4526.103497</td>\n",
       "    </tr>\n",
       "    <tr>\n",
       "      <th>4</th>\n",
       "      <td>NFLX</td>\n",
       "      <td>2016-01-14</td>\n",
       "      <td>75</td>\n",
       "      <td>108.71</td>\n",
       "      <td>8153.25</td>\n",
       "      <td>2018-12-28</td>\n",
       "      <td>2019-11-29</td>\n",
       "      <td>314.660004</td>\n",
       "      <td>1.894490</td>\n",
       "      <td>1921.839966</td>\n",
       "      <td>4.242419</td>\n",
       "      <td>3140.97998</td>\n",
       "      <td>0.634361</td>\n",
       "      <td>1.260129</td>\n",
       "      <td>23599.500275</td>\n",
       "      <td>13325.352517</td>\n",
       "      <td>10274.147758</td>\n",
       "      <td>15446.250275</td>\n",
       "      <td>5172.102517</td>\n",
       "    </tr>\n",
       "  </tbody>\n",
       "</table>\n",
       "</div>"
      ],
      "text/plain": [
       "  Ticker Acquisition Date  Quantity  Unit Cost  Cost Basis Start of Year  \\\n",
       "0   AAPL       2013-02-07       125      65.40     8175.00    2018-12-28   \n",
       "1    JNJ       2014-02-27       100      81.90     8190.00    2018-12-28   \n",
       "2    MCD       2013-06-04       100      84.99     8499.00    2018-12-28   \n",
       "3   MTCH       2015-12-14       600      13.63     8178.00    2018-12-28   \n",
       "4   NFLX       2016-01-14        75     108.71     8153.25    2018-12-28   \n",
       "\n",
       "  Latest Date  Ticker Adj Close  ticker return  SP 500 Initial Close  \\\n",
       "0  2019-11-29        267.250000       3.086391           1509.390015   \n",
       "1  2019-11-29        137.490005       0.678755           1854.290039   \n",
       "2  2019-11-29        194.479996       1.288269           1631.380005   \n",
       "3  2019-11-29         70.480003       4.170947           2021.939941   \n",
       "4  2019-11-29        314.660004       1.894490           1921.839966   \n",
       "\n",
       "   Equiv SP Shares  SP 500 Latest Close  SP Return  Abs. Return Compare  \\\n",
       "0         5.416095           3140.97998   1.080960             2.005432   \n",
       "1         4.416785           3140.97998   0.693899            -0.015144   \n",
       "2         5.209700           3140.97998   0.925352             0.362918   \n",
       "3         4.044631           3140.97998   0.553449             3.617498   \n",
       "4         4.242419           3140.97998   0.634361             1.260129   \n",
       "\n",
       "   Ticker Share Value  SP 500 Value  Abs Value Compare  Stock Gain / (Loss)  \\\n",
       "0        33406.250000  17011.846568       16394.403432         25231.250000   \n",
       "1        13749.000549  13873.032534        -124.031985          5559.000549   \n",
       "2        19447.999573  16363.562612        3084.436961         10948.999573   \n",
       "3        42288.002014  12704.103497       29583.898517         34110.002014   \n",
       "4        23599.500275  13325.352517       10274.147758         15446.250275   \n",
       "\n",
       "   SP 500 Gain / (Loss)  \n",
       "0           8836.846568  \n",
       "1           5683.032534  \n",
       "2           7864.562612  \n",
       "3           4526.103497  \n",
       "4           5172.102517  "
      ]
     },
     "execution_count": 52,
     "metadata": {},
     "output_type": "execute_result"
    }
   ],
   "source": [
    "merged_portfolio_sp_latest['SP Return'] = merged_portfolio_sp_latest['SP 500 Latest Close'] / merged_portfolio_sp_latest['SP 500 Initial Close'] - 1\n",
    "\n",
    "merged_portfolio_sp_latest['Abs. Return Compare'] = merged_portfolio_sp_latest['ticker return'] - merged_portfolio_sp_latest['SP Return']\n",
    "\n",
    "merged_portfolio_sp_latest['Ticker Share Value'] = merged_portfolio_sp_latest['Quantity'] * merged_portfolio_sp_latest['Ticker Adj Close']\n",
    "\n",
    "merged_portfolio_sp_latest['SP 500 Value'] = merged_portfolio_sp_latest['Equiv SP Shares'] * merged_portfolio_sp_latest['SP 500 Latest Close']\n",
    "\n",
    "merged_portfolio_sp_latest['Abs Value Compare'] = merged_portfolio_sp_latest['Ticker Share Value'] - merged_portfolio_sp_latest['SP 500 Value']\n",
    "\n",
    "merged_portfolio_sp_latest['Stock Gain / (Loss)'] = merged_portfolio_sp_latest['Ticker Share Value'] - merged_portfolio_sp_latest['Cost Basis']\n",
    "\n",
    "merged_portfolio_sp_latest['SP 500 Gain / (Loss)'] = merged_portfolio_sp_latest['SP 500 Value'] - merged_portfolio_sp_latest['Cost Basis']\n",
    "\n",
    "merged_portfolio_sp_latest.head()"
   ]
  },
  {
   "cell_type": "code",
   "execution_count": 53,
   "metadata": {},
   "outputs": [
    {
     "data": {
      "text/html": [
       "<div>\n",
       "<style scoped>\n",
       "    .dataframe tbody tr th:only-of-type {\n",
       "        vertical-align: middle;\n",
       "    }\n",
       "\n",
       "    .dataframe tbody tr th {\n",
       "        vertical-align: top;\n",
       "    }\n",
       "\n",
       "    .dataframe thead th {\n",
       "        text-align: right;\n",
       "    }\n",
       "</style>\n",
       "<table border=\"1\" class=\"dataframe\">\n",
       "  <thead>\n",
       "    <tr style=\"text-align: right;\">\n",
       "      <th></th>\n",
       "      <th>Ticker</th>\n",
       "      <th>Acquisition Date</th>\n",
       "      <th>Quantity</th>\n",
       "      <th>Unit Cost</th>\n",
       "      <th>Cost Basis</th>\n",
       "      <th>Start of Year</th>\n",
       "      <th>Latest Date</th>\n",
       "      <th>Ticker Adj Close</th>\n",
       "      <th>ticker return</th>\n",
       "      <th>SP 500 Initial Close</th>\n",
       "      <th>...</th>\n",
       "      <th>SP 500 Latest Close</th>\n",
       "      <th>SP Return</th>\n",
       "      <th>Abs. Return Compare</th>\n",
       "      <th>Ticker Share Value</th>\n",
       "      <th>SP 500 Value</th>\n",
       "      <th>Abs Value Compare</th>\n",
       "      <th>Stock Gain / (Loss)</th>\n",
       "      <th>SP 500 Gain / (Loss)</th>\n",
       "      <th>Date</th>\n",
       "      <th>Adj Close</th>\n",
       "    </tr>\n",
       "  </thead>\n",
       "  <tbody>\n",
       "    <tr>\n",
       "      <th>0</th>\n",
       "      <td>AAPL</td>\n",
       "      <td>2013-02-07</td>\n",
       "      <td>125</td>\n",
       "      <td>65.40</td>\n",
       "      <td>8175.00</td>\n",
       "      <td>2018-12-28</td>\n",
       "      <td>2019-11-29</td>\n",
       "      <td>267.250000</td>\n",
       "      <td>3.086391</td>\n",
       "      <td>1509.390015</td>\n",
       "      <td>...</td>\n",
       "      <td>3140.97998</td>\n",
       "      <td>1.080960</td>\n",
       "      <td>2.005432</td>\n",
       "      <td>33406.250000</td>\n",
       "      <td>17011.846568</td>\n",
       "      <td>16394.403432</td>\n",
       "      <td>25231.250000</td>\n",
       "      <td>8836.846568</td>\n",
       "      <td>2018-12-28</td>\n",
       "      <td>153.917389</td>\n",
       "    </tr>\n",
       "    <tr>\n",
       "      <th>1</th>\n",
       "      <td>JNJ</td>\n",
       "      <td>2014-02-27</td>\n",
       "      <td>100</td>\n",
       "      <td>81.90</td>\n",
       "      <td>8190.00</td>\n",
       "      <td>2018-12-28</td>\n",
       "      <td>2019-11-29</td>\n",
       "      <td>137.490005</td>\n",
       "      <td>0.678755</td>\n",
       "      <td>1854.290039</td>\n",
       "      <td>...</td>\n",
       "      <td>3140.97998</td>\n",
       "      <td>0.693899</td>\n",
       "      <td>-0.015144</td>\n",
       "      <td>13749.000549</td>\n",
       "      <td>13873.032534</td>\n",
       "      <td>-124.031985</td>\n",
       "      <td>5559.000549</td>\n",
       "      <td>5683.032534</td>\n",
       "      <td>2018-12-28</td>\n",
       "      <td>123.780724</td>\n",
       "    </tr>\n",
       "    <tr>\n",
       "      <th>2</th>\n",
       "      <td>MCD</td>\n",
       "      <td>2013-06-04</td>\n",
       "      <td>100</td>\n",
       "      <td>84.99</td>\n",
       "      <td>8499.00</td>\n",
       "      <td>2018-12-28</td>\n",
       "      <td>2019-11-29</td>\n",
       "      <td>194.479996</td>\n",
       "      <td>1.288269</td>\n",
       "      <td>1631.380005</td>\n",
       "      <td>...</td>\n",
       "      <td>3140.97998</td>\n",
       "      <td>0.925352</td>\n",
       "      <td>0.362918</td>\n",
       "      <td>19447.999573</td>\n",
       "      <td>16363.562612</td>\n",
       "      <td>3084.436961</td>\n",
       "      <td>10948.999573</td>\n",
       "      <td>7864.562612</td>\n",
       "      <td>2018-12-28</td>\n",
       "      <td>171.422867</td>\n",
       "    </tr>\n",
       "    <tr>\n",
       "      <th>3</th>\n",
       "      <td>MTCH</td>\n",
       "      <td>2015-12-14</td>\n",
       "      <td>600</td>\n",
       "      <td>13.63</td>\n",
       "      <td>8178.00</td>\n",
       "      <td>2018-12-28</td>\n",
       "      <td>2019-11-29</td>\n",
       "      <td>70.480003</td>\n",
       "      <td>4.170947</td>\n",
       "      <td>2021.939941</td>\n",
       "      <td>...</td>\n",
       "      <td>3140.97998</td>\n",
       "      <td>0.553449</td>\n",
       "      <td>3.617498</td>\n",
       "      <td>42288.002014</td>\n",
       "      <td>12704.103497</td>\n",
       "      <td>29583.898517</td>\n",
       "      <td>34110.002014</td>\n",
       "      <td>4526.103497</td>\n",
       "      <td>2018-12-28</td>\n",
       "      <td>42.070000</td>\n",
       "    </tr>\n",
       "    <tr>\n",
       "      <th>4</th>\n",
       "      <td>NFLX</td>\n",
       "      <td>2016-01-14</td>\n",
       "      <td>75</td>\n",
       "      <td>108.71</td>\n",
       "      <td>8153.25</td>\n",
       "      <td>2018-12-28</td>\n",
       "      <td>2019-11-29</td>\n",
       "      <td>314.660004</td>\n",
       "      <td>1.894490</td>\n",
       "      <td>1921.839966</td>\n",
       "      <td>...</td>\n",
       "      <td>3140.97998</td>\n",
       "      <td>0.634361</td>\n",
       "      <td>1.260129</td>\n",
       "      <td>23599.500275</td>\n",
       "      <td>13325.352517</td>\n",
       "      <td>10274.147758</td>\n",
       "      <td>15446.250275</td>\n",
       "      <td>5172.102517</td>\n",
       "      <td>2018-12-28</td>\n",
       "      <td>256.079987</td>\n",
       "    </tr>\n",
       "  </tbody>\n",
       "</table>\n",
       "<p>5 rows × 21 columns</p>\n",
       "</div>"
      ],
      "text/plain": [
       "  Ticker Acquisition Date  Quantity  Unit Cost  Cost Basis Start of Year  \\\n",
       "0   AAPL       2013-02-07       125      65.40     8175.00    2018-12-28   \n",
       "1    JNJ       2014-02-27       100      81.90     8190.00    2018-12-28   \n",
       "2    MCD       2013-06-04       100      84.99     8499.00    2018-12-28   \n",
       "3   MTCH       2015-12-14       600      13.63     8178.00    2018-12-28   \n",
       "4   NFLX       2016-01-14        75     108.71     8153.25    2018-12-28   \n",
       "\n",
       "  Latest Date  Ticker Adj Close  ticker return  SP 500 Initial Close  ...  \\\n",
       "0  2019-11-29        267.250000       3.086391           1509.390015  ...   \n",
       "1  2019-11-29        137.490005       0.678755           1854.290039  ...   \n",
       "2  2019-11-29        194.479996       1.288269           1631.380005  ...   \n",
       "3  2019-11-29         70.480003       4.170947           2021.939941  ...   \n",
       "4  2019-11-29        314.660004       1.894490           1921.839966  ...   \n",
       "\n",
       "   SP 500 Latest Close  SP Return  Abs. Return Compare  Ticker Share Value  \\\n",
       "0           3140.97998   1.080960             2.005432        33406.250000   \n",
       "1           3140.97998   0.693899            -0.015144        13749.000549   \n",
       "2           3140.97998   0.925352             0.362918        19447.999573   \n",
       "3           3140.97998   0.553449             3.617498        42288.002014   \n",
       "4           3140.97998   0.634361             1.260129        23599.500275   \n",
       "\n",
       "   SP 500 Value  Abs Value Compare  Stock Gain / (Loss)  SP 500 Gain / (Loss)  \\\n",
       "0  17011.846568       16394.403432         25231.250000           8836.846568   \n",
       "1  13873.032534        -124.031985          5559.000549           5683.032534   \n",
       "2  16363.562612        3084.436961         10948.999573           7864.562612   \n",
       "3  12704.103497       29583.898517         34110.002014           4526.103497   \n",
       "4  13325.352517       10274.147758         15446.250275           5172.102517   \n",
       "\n",
       "        Date   Adj Close  \n",
       "0 2018-12-28  153.917389  \n",
       "1 2018-12-28  123.780724  \n",
       "2 2018-12-28  171.422867  \n",
       "3 2018-12-28   42.070000  \n",
       "4 2018-12-28  256.079987  \n",
       "\n",
       "[5 rows x 21 columns]"
      ]
     },
     "execution_count": 53,
     "metadata": {},
     "output_type": "execute_result"
    }
   ],
   "source": [
    "merged_portfolio_sp_latest_YTD = pd.merge(merged_portfolio_sp_latest, adj_close_start, on='Ticker')\n",
    "\n",
    "merged_portfolio_sp_latest_YTD.head()"
   ]
  },
  {
   "cell_type": "code",
   "execution_count": 54,
   "metadata": {},
   "outputs": [
    {
     "data": {
      "text/html": [
       "<div>\n",
       "<style scoped>\n",
       "    .dataframe tbody tr th:only-of-type {\n",
       "        vertical-align: middle;\n",
       "    }\n",
       "\n",
       "    .dataframe tbody tr th {\n",
       "        vertical-align: top;\n",
       "    }\n",
       "\n",
       "    .dataframe thead th {\n",
       "        text-align: right;\n",
       "    }\n",
       "</style>\n",
       "<table border=\"1\" class=\"dataframe\">\n",
       "  <thead>\n",
       "    <tr style=\"text-align: right;\">\n",
       "      <th></th>\n",
       "      <th>Ticker</th>\n",
       "      <th>Acquisition Date</th>\n",
       "      <th>Quantity</th>\n",
       "      <th>Unit Cost</th>\n",
       "      <th>Cost Basis</th>\n",
       "      <th>Start of Year</th>\n",
       "      <th>Latest Date</th>\n",
       "      <th>Ticker Adj Close</th>\n",
       "      <th>ticker return</th>\n",
       "      <th>SP 500 Initial Close</th>\n",
       "      <th>Equiv SP Shares</th>\n",
       "      <th>SP 500 Latest Close</th>\n",
       "      <th>SP Return</th>\n",
       "      <th>Abs. Return Compare</th>\n",
       "      <th>Ticker Share Value</th>\n",
       "      <th>SP 500 Value</th>\n",
       "      <th>Abs Value Compare</th>\n",
       "      <th>Stock Gain / (Loss)</th>\n",
       "      <th>SP 500 Gain / (Loss)</th>\n",
       "      <th>Ticker Start Year Close</th>\n",
       "    </tr>\n",
       "  </thead>\n",
       "  <tbody>\n",
       "    <tr>\n",
       "      <th>0</th>\n",
       "      <td>AAPL</td>\n",
       "      <td>2013-02-07</td>\n",
       "      <td>125</td>\n",
       "      <td>65.40</td>\n",
       "      <td>8175.00</td>\n",
       "      <td>2018-12-28</td>\n",
       "      <td>2019-11-29</td>\n",
       "      <td>267.250000</td>\n",
       "      <td>3.086391</td>\n",
       "      <td>1509.390015</td>\n",
       "      <td>5.416095</td>\n",
       "      <td>3140.97998</td>\n",
       "      <td>1.080960</td>\n",
       "      <td>2.005432</td>\n",
       "      <td>33406.250000</td>\n",
       "      <td>17011.846568</td>\n",
       "      <td>16394.403432</td>\n",
       "      <td>25231.250000</td>\n",
       "      <td>8836.846568</td>\n",
       "      <td>153.917389</td>\n",
       "    </tr>\n",
       "    <tr>\n",
       "      <th>1</th>\n",
       "      <td>JNJ</td>\n",
       "      <td>2014-02-27</td>\n",
       "      <td>100</td>\n",
       "      <td>81.90</td>\n",
       "      <td>8190.00</td>\n",
       "      <td>2018-12-28</td>\n",
       "      <td>2019-11-29</td>\n",
       "      <td>137.490005</td>\n",
       "      <td>0.678755</td>\n",
       "      <td>1854.290039</td>\n",
       "      <td>4.416785</td>\n",
       "      <td>3140.97998</td>\n",
       "      <td>0.693899</td>\n",
       "      <td>-0.015144</td>\n",
       "      <td>13749.000549</td>\n",
       "      <td>13873.032534</td>\n",
       "      <td>-124.031985</td>\n",
       "      <td>5559.000549</td>\n",
       "      <td>5683.032534</td>\n",
       "      <td>123.780724</td>\n",
       "    </tr>\n",
       "    <tr>\n",
       "      <th>2</th>\n",
       "      <td>MCD</td>\n",
       "      <td>2013-06-04</td>\n",
       "      <td>100</td>\n",
       "      <td>84.99</td>\n",
       "      <td>8499.00</td>\n",
       "      <td>2018-12-28</td>\n",
       "      <td>2019-11-29</td>\n",
       "      <td>194.479996</td>\n",
       "      <td>1.288269</td>\n",
       "      <td>1631.380005</td>\n",
       "      <td>5.209700</td>\n",
       "      <td>3140.97998</td>\n",
       "      <td>0.925352</td>\n",
       "      <td>0.362918</td>\n",
       "      <td>19447.999573</td>\n",
       "      <td>16363.562612</td>\n",
       "      <td>3084.436961</td>\n",
       "      <td>10948.999573</td>\n",
       "      <td>7864.562612</td>\n",
       "      <td>171.422867</td>\n",
       "    </tr>\n",
       "    <tr>\n",
       "      <th>3</th>\n",
       "      <td>MTCH</td>\n",
       "      <td>2015-12-14</td>\n",
       "      <td>600</td>\n",
       "      <td>13.63</td>\n",
       "      <td>8178.00</td>\n",
       "      <td>2018-12-28</td>\n",
       "      <td>2019-11-29</td>\n",
       "      <td>70.480003</td>\n",
       "      <td>4.170947</td>\n",
       "      <td>2021.939941</td>\n",
       "      <td>4.044631</td>\n",
       "      <td>3140.97998</td>\n",
       "      <td>0.553449</td>\n",
       "      <td>3.617498</td>\n",
       "      <td>42288.002014</td>\n",
       "      <td>12704.103497</td>\n",
       "      <td>29583.898517</td>\n",
       "      <td>34110.002014</td>\n",
       "      <td>4526.103497</td>\n",
       "      <td>42.070000</td>\n",
       "    </tr>\n",
       "    <tr>\n",
       "      <th>4</th>\n",
       "      <td>NFLX</td>\n",
       "      <td>2016-01-14</td>\n",
       "      <td>75</td>\n",
       "      <td>108.71</td>\n",
       "      <td>8153.25</td>\n",
       "      <td>2018-12-28</td>\n",
       "      <td>2019-11-29</td>\n",
       "      <td>314.660004</td>\n",
       "      <td>1.894490</td>\n",
       "      <td>1921.839966</td>\n",
       "      <td>4.242419</td>\n",
       "      <td>3140.97998</td>\n",
       "      <td>0.634361</td>\n",
       "      <td>1.260129</td>\n",
       "      <td>23599.500275</td>\n",
       "      <td>13325.352517</td>\n",
       "      <td>10274.147758</td>\n",
       "      <td>15446.250275</td>\n",
       "      <td>5172.102517</td>\n",
       "      <td>256.079987</td>\n",
       "    </tr>\n",
       "  </tbody>\n",
       "</table>\n",
       "</div>"
      ],
      "text/plain": [
       "  Ticker Acquisition Date  Quantity  Unit Cost  Cost Basis Start of Year  \\\n",
       "0   AAPL       2013-02-07       125      65.40     8175.00    2018-12-28   \n",
       "1    JNJ       2014-02-27       100      81.90     8190.00    2018-12-28   \n",
       "2    MCD       2013-06-04       100      84.99     8499.00    2018-12-28   \n",
       "3   MTCH       2015-12-14       600      13.63     8178.00    2018-12-28   \n",
       "4   NFLX       2016-01-14        75     108.71     8153.25    2018-12-28   \n",
       "\n",
       "  Latest Date  Ticker Adj Close  ticker return  SP 500 Initial Close  \\\n",
       "0  2019-11-29        267.250000       3.086391           1509.390015   \n",
       "1  2019-11-29        137.490005       0.678755           1854.290039   \n",
       "2  2019-11-29        194.479996       1.288269           1631.380005   \n",
       "3  2019-11-29         70.480003       4.170947           2021.939941   \n",
       "4  2019-11-29        314.660004       1.894490           1921.839966   \n",
       "\n",
       "   Equiv SP Shares  SP 500 Latest Close  SP Return  Abs. Return Compare  \\\n",
       "0         5.416095           3140.97998   1.080960             2.005432   \n",
       "1         4.416785           3140.97998   0.693899            -0.015144   \n",
       "2         5.209700           3140.97998   0.925352             0.362918   \n",
       "3         4.044631           3140.97998   0.553449             3.617498   \n",
       "4         4.242419           3140.97998   0.634361             1.260129   \n",
       "\n",
       "   Ticker Share Value  SP 500 Value  Abs Value Compare  Stock Gain / (Loss)  \\\n",
       "0        33406.250000  17011.846568       16394.403432         25231.250000   \n",
       "1        13749.000549  13873.032534        -124.031985          5559.000549   \n",
       "2        19447.999573  16363.562612        3084.436961         10948.999573   \n",
       "3        42288.002014  12704.103497       29583.898517         34110.002014   \n",
       "4        23599.500275  13325.352517       10274.147758         15446.250275   \n",
       "\n",
       "   SP 500 Gain / (Loss)  Ticker Start Year Close  \n",
       "0           8836.846568               153.917389  \n",
       "1           5683.032534               123.780724  \n",
       "2           7864.562612               171.422867  \n",
       "3           4526.103497                42.070000  \n",
       "4           5172.102517               256.079987  "
      ]
     },
     "execution_count": 54,
     "metadata": {},
     "output_type": "execute_result"
    }
   ],
   "source": [
    "del merged_portfolio_sp_latest_YTD['Date']\n",
    "\n",
    "merged_portfolio_sp_latest_YTD.rename(columns={'Adj Close': 'Ticker Start Year Close'}, inplace=True)\n",
    "\n",
    "merged_portfolio_sp_latest_YTD.head()"
   ]
  },
  {
   "cell_type": "code",
   "execution_count": 55,
   "metadata": {},
   "outputs": [
    {
     "data": {
      "text/html": [
       "<div>\n",
       "<style scoped>\n",
       "    .dataframe tbody tr th:only-of-type {\n",
       "        vertical-align: middle;\n",
       "    }\n",
       "\n",
       "    .dataframe tbody tr th {\n",
       "        vertical-align: top;\n",
       "    }\n",
       "\n",
       "    .dataframe thead th {\n",
       "        text-align: right;\n",
       "    }\n",
       "</style>\n",
       "<table border=\"1\" class=\"dataframe\">\n",
       "  <thead>\n",
       "    <tr style=\"text-align: right;\">\n",
       "      <th></th>\n",
       "      <th>Ticker</th>\n",
       "      <th>Acquisition Date</th>\n",
       "      <th>Quantity</th>\n",
       "      <th>Unit Cost</th>\n",
       "      <th>Cost Basis</th>\n",
       "      <th>Start of Year</th>\n",
       "      <th>Latest Date</th>\n",
       "      <th>Ticker Adj Close</th>\n",
       "      <th>ticker return</th>\n",
       "      <th>SP 500 Initial Close</th>\n",
       "      <th>...</th>\n",
       "      <th>SP Return</th>\n",
       "      <th>Abs. Return Compare</th>\n",
       "      <th>Ticker Share Value</th>\n",
       "      <th>SP 500 Value</th>\n",
       "      <th>Abs Value Compare</th>\n",
       "      <th>Stock Gain / (Loss)</th>\n",
       "      <th>SP 500 Gain / (Loss)</th>\n",
       "      <th>Ticker Start Year Close</th>\n",
       "      <th>Date</th>\n",
       "      <th>Adj Close</th>\n",
       "    </tr>\n",
       "  </thead>\n",
       "  <tbody>\n",
       "    <tr>\n",
       "      <th>0</th>\n",
       "      <td>AAPL</td>\n",
       "      <td>2013-02-07</td>\n",
       "      <td>125</td>\n",
       "      <td>65.40</td>\n",
       "      <td>8175.00</td>\n",
       "      <td>2018-12-28</td>\n",
       "      <td>2019-11-29</td>\n",
       "      <td>267.250000</td>\n",
       "      <td>3.086391</td>\n",
       "      <td>1509.390015</td>\n",
       "      <td>...</td>\n",
       "      <td>1.080960</td>\n",
       "      <td>2.005432</td>\n",
       "      <td>33406.250000</td>\n",
       "      <td>17011.846568</td>\n",
       "      <td>16394.403432</td>\n",
       "      <td>25231.250000</td>\n",
       "      <td>8836.846568</td>\n",
       "      <td>153.917389</td>\n",
       "      <td>2018-12-28</td>\n",
       "      <td>2485.73999</td>\n",
       "    </tr>\n",
       "    <tr>\n",
       "      <th>1</th>\n",
       "      <td>JNJ</td>\n",
       "      <td>2014-02-27</td>\n",
       "      <td>100</td>\n",
       "      <td>81.90</td>\n",
       "      <td>8190.00</td>\n",
       "      <td>2018-12-28</td>\n",
       "      <td>2019-11-29</td>\n",
       "      <td>137.490005</td>\n",
       "      <td>0.678755</td>\n",
       "      <td>1854.290039</td>\n",
       "      <td>...</td>\n",
       "      <td>0.693899</td>\n",
       "      <td>-0.015144</td>\n",
       "      <td>13749.000549</td>\n",
       "      <td>13873.032534</td>\n",
       "      <td>-124.031985</td>\n",
       "      <td>5559.000549</td>\n",
       "      <td>5683.032534</td>\n",
       "      <td>123.780724</td>\n",
       "      <td>2018-12-28</td>\n",
       "      <td>2485.73999</td>\n",
       "    </tr>\n",
       "    <tr>\n",
       "      <th>2</th>\n",
       "      <td>MCD</td>\n",
       "      <td>2013-06-04</td>\n",
       "      <td>100</td>\n",
       "      <td>84.99</td>\n",
       "      <td>8499.00</td>\n",
       "      <td>2018-12-28</td>\n",
       "      <td>2019-11-29</td>\n",
       "      <td>194.479996</td>\n",
       "      <td>1.288269</td>\n",
       "      <td>1631.380005</td>\n",
       "      <td>...</td>\n",
       "      <td>0.925352</td>\n",
       "      <td>0.362918</td>\n",
       "      <td>19447.999573</td>\n",
       "      <td>16363.562612</td>\n",
       "      <td>3084.436961</td>\n",
       "      <td>10948.999573</td>\n",
       "      <td>7864.562612</td>\n",
       "      <td>171.422867</td>\n",
       "      <td>2018-12-28</td>\n",
       "      <td>2485.73999</td>\n",
       "    </tr>\n",
       "    <tr>\n",
       "      <th>3</th>\n",
       "      <td>MTCH</td>\n",
       "      <td>2015-12-14</td>\n",
       "      <td>600</td>\n",
       "      <td>13.63</td>\n",
       "      <td>8178.00</td>\n",
       "      <td>2018-12-28</td>\n",
       "      <td>2019-11-29</td>\n",
       "      <td>70.480003</td>\n",
       "      <td>4.170947</td>\n",
       "      <td>2021.939941</td>\n",
       "      <td>...</td>\n",
       "      <td>0.553449</td>\n",
       "      <td>3.617498</td>\n",
       "      <td>42288.002014</td>\n",
       "      <td>12704.103497</td>\n",
       "      <td>29583.898517</td>\n",
       "      <td>34110.002014</td>\n",
       "      <td>4526.103497</td>\n",
       "      <td>42.070000</td>\n",
       "      <td>2018-12-28</td>\n",
       "      <td>2485.73999</td>\n",
       "    </tr>\n",
       "    <tr>\n",
       "      <th>4</th>\n",
       "      <td>NFLX</td>\n",
       "      <td>2016-01-14</td>\n",
       "      <td>75</td>\n",
       "      <td>108.71</td>\n",
       "      <td>8153.25</td>\n",
       "      <td>2018-12-28</td>\n",
       "      <td>2019-11-29</td>\n",
       "      <td>314.660004</td>\n",
       "      <td>1.894490</td>\n",
       "      <td>1921.839966</td>\n",
       "      <td>...</td>\n",
       "      <td>0.634361</td>\n",
       "      <td>1.260129</td>\n",
       "      <td>23599.500275</td>\n",
       "      <td>13325.352517</td>\n",
       "      <td>10274.147758</td>\n",
       "      <td>15446.250275</td>\n",
       "      <td>5172.102517</td>\n",
       "      <td>256.079987</td>\n",
       "      <td>2018-12-28</td>\n",
       "      <td>2485.73999</td>\n",
       "    </tr>\n",
       "  </tbody>\n",
       "</table>\n",
       "<p>5 rows × 22 columns</p>\n",
       "</div>"
      ],
      "text/plain": [
       "  Ticker Acquisition Date  Quantity  Unit Cost  Cost Basis Start of Year  \\\n",
       "0   AAPL       2013-02-07       125      65.40     8175.00    2018-12-28   \n",
       "1    JNJ       2014-02-27       100      81.90     8190.00    2018-12-28   \n",
       "2    MCD       2013-06-04       100      84.99     8499.00    2018-12-28   \n",
       "3   MTCH       2015-12-14       600      13.63     8178.00    2018-12-28   \n",
       "4   NFLX       2016-01-14        75     108.71     8153.25    2018-12-28   \n",
       "\n",
       "  Latest Date  Ticker Adj Close  ticker return  SP 500 Initial Close  ...  \\\n",
       "0  2019-11-29        267.250000       3.086391           1509.390015  ...   \n",
       "1  2019-11-29        137.490005       0.678755           1854.290039  ...   \n",
       "2  2019-11-29        194.479996       1.288269           1631.380005  ...   \n",
       "3  2019-11-29         70.480003       4.170947           2021.939941  ...   \n",
       "4  2019-11-29        314.660004       1.894490           1921.839966  ...   \n",
       "\n",
       "   SP Return  Abs. Return Compare  Ticker Share Value  SP 500 Value  \\\n",
       "0   1.080960             2.005432        33406.250000  17011.846568   \n",
       "1   0.693899            -0.015144        13749.000549  13873.032534   \n",
       "2   0.925352             0.362918        19447.999573  16363.562612   \n",
       "3   0.553449             3.617498        42288.002014  12704.103497   \n",
       "4   0.634361             1.260129        23599.500275  13325.352517   \n",
       "\n",
       "   Abs Value Compare  Stock Gain / (Loss)  SP 500 Gain / (Loss)  \\\n",
       "0       16394.403432         25231.250000           8836.846568   \n",
       "1        -124.031985          5559.000549           5683.032534   \n",
       "2        3084.436961         10948.999573           7864.562612   \n",
       "3       29583.898517         34110.002014           4526.103497   \n",
       "4       10274.147758         15446.250275           5172.102517   \n",
       "\n",
       "   Ticker Start Year Close       Date   Adj Close  \n",
       "0               153.917389 2018-12-28  2485.73999  \n",
       "1               123.780724 2018-12-28  2485.73999  \n",
       "2               171.422867 2018-12-28  2485.73999  \n",
       "3                42.070000 2018-12-28  2485.73999  \n",
       "4               256.079987 2018-12-28  2485.73999  \n",
       "\n",
       "[5 rows x 22 columns]"
      ]
     },
     "execution_count": 55,
     "metadata": {},
     "output_type": "execute_result"
    }
   ],
   "source": [
    "merged_portfolio_sp_latest_YTD_sp = pd.merge(merged_portfolio_sp_latest_YTD, sp_500_adj_close_start\n",
    "                                             , left_on='Start of Year', right_on='Date')\n",
    "\n",
    "merged_portfolio_sp_latest_YTD_sp.head()"
   ]
  },
  {
   "cell_type": "code",
   "execution_count": 56,
   "metadata": {},
   "outputs": [
    {
     "data": {
      "text/html": [
       "<div>\n",
       "<style scoped>\n",
       "    .dataframe tbody tr th:only-of-type {\n",
       "        vertical-align: middle;\n",
       "    }\n",
       "\n",
       "    .dataframe tbody tr th {\n",
       "        vertical-align: top;\n",
       "    }\n",
       "\n",
       "    .dataframe thead th {\n",
       "        text-align: right;\n",
       "    }\n",
       "</style>\n",
       "<table border=\"1\" class=\"dataframe\">\n",
       "  <thead>\n",
       "    <tr style=\"text-align: right;\">\n",
       "      <th></th>\n",
       "      <th>Ticker</th>\n",
       "      <th>Acquisition Date</th>\n",
       "      <th>Quantity</th>\n",
       "      <th>Unit Cost</th>\n",
       "      <th>Cost Basis</th>\n",
       "      <th>Start of Year</th>\n",
       "      <th>Latest Date</th>\n",
       "      <th>Ticker Adj Close</th>\n",
       "      <th>ticker return</th>\n",
       "      <th>SP 500 Initial Close</th>\n",
       "      <th>...</th>\n",
       "      <th>Abs. Return Compare</th>\n",
       "      <th>Ticker Share Value</th>\n",
       "      <th>SP 500 Value</th>\n",
       "      <th>Abs Value Compare</th>\n",
       "      <th>Stock Gain / (Loss)</th>\n",
       "      <th>SP 500 Gain / (Loss)</th>\n",
       "      <th>Ticker Start Year Close</th>\n",
       "      <th>SP Start Year Close</th>\n",
       "      <th>Share YTD</th>\n",
       "      <th>SP 500 YTD</th>\n",
       "    </tr>\n",
       "  </thead>\n",
       "  <tbody>\n",
       "    <tr>\n",
       "      <th>0</th>\n",
       "      <td>AAPL</td>\n",
       "      <td>2013-02-07</td>\n",
       "      <td>125</td>\n",
       "      <td>65.40</td>\n",
       "      <td>8175.00</td>\n",
       "      <td>2018-12-28</td>\n",
       "      <td>2019-11-29</td>\n",
       "      <td>267.250000</td>\n",
       "      <td>3.086391</td>\n",
       "      <td>1509.390015</td>\n",
       "      <td>...</td>\n",
       "      <td>2.005432</td>\n",
       "      <td>33406.250000</td>\n",
       "      <td>17011.846568</td>\n",
       "      <td>16394.403432</td>\n",
       "      <td>25231.250000</td>\n",
       "      <td>8836.846568</td>\n",
       "      <td>153.917389</td>\n",
       "      <td>2485.73999</td>\n",
       "      <td>0.736321</td>\n",
       "      <td>0.2636</td>\n",
       "    </tr>\n",
       "    <tr>\n",
       "      <th>1</th>\n",
       "      <td>JNJ</td>\n",
       "      <td>2014-02-27</td>\n",
       "      <td>100</td>\n",
       "      <td>81.90</td>\n",
       "      <td>8190.00</td>\n",
       "      <td>2018-12-28</td>\n",
       "      <td>2019-11-29</td>\n",
       "      <td>137.490005</td>\n",
       "      <td>0.678755</td>\n",
       "      <td>1854.290039</td>\n",
       "      <td>...</td>\n",
       "      <td>-0.015144</td>\n",
       "      <td>13749.000549</td>\n",
       "      <td>13873.032534</td>\n",
       "      <td>-124.031985</td>\n",
       "      <td>5559.000549</td>\n",
       "      <td>5683.032534</td>\n",
       "      <td>123.780724</td>\n",
       "      <td>2485.73999</td>\n",
       "      <td>0.110755</td>\n",
       "      <td>0.2636</td>\n",
       "    </tr>\n",
       "    <tr>\n",
       "      <th>2</th>\n",
       "      <td>MCD</td>\n",
       "      <td>2013-06-04</td>\n",
       "      <td>100</td>\n",
       "      <td>84.99</td>\n",
       "      <td>8499.00</td>\n",
       "      <td>2018-12-28</td>\n",
       "      <td>2019-11-29</td>\n",
       "      <td>194.479996</td>\n",
       "      <td>1.288269</td>\n",
       "      <td>1631.380005</td>\n",
       "      <td>...</td>\n",
       "      <td>0.362918</td>\n",
       "      <td>19447.999573</td>\n",
       "      <td>16363.562612</td>\n",
       "      <td>3084.436961</td>\n",
       "      <td>10948.999573</td>\n",
       "      <td>7864.562612</td>\n",
       "      <td>171.422867</td>\n",
       "      <td>2485.73999</td>\n",
       "      <td>0.134504</td>\n",
       "      <td>0.2636</td>\n",
       "    </tr>\n",
       "    <tr>\n",
       "      <th>3</th>\n",
       "      <td>MTCH</td>\n",
       "      <td>2015-12-14</td>\n",
       "      <td>600</td>\n",
       "      <td>13.63</td>\n",
       "      <td>8178.00</td>\n",
       "      <td>2018-12-28</td>\n",
       "      <td>2019-11-29</td>\n",
       "      <td>70.480003</td>\n",
       "      <td>4.170947</td>\n",
       "      <td>2021.939941</td>\n",
       "      <td>...</td>\n",
       "      <td>3.617498</td>\n",
       "      <td>42288.002014</td>\n",
       "      <td>12704.103497</td>\n",
       "      <td>29583.898517</td>\n",
       "      <td>34110.002014</td>\n",
       "      <td>4526.103497</td>\n",
       "      <td>42.070000</td>\n",
       "      <td>2485.73999</td>\n",
       "      <td>0.675303</td>\n",
       "      <td>0.2636</td>\n",
       "    </tr>\n",
       "    <tr>\n",
       "      <th>4</th>\n",
       "      <td>NFLX</td>\n",
       "      <td>2016-01-14</td>\n",
       "      <td>75</td>\n",
       "      <td>108.71</td>\n",
       "      <td>8153.25</td>\n",
       "      <td>2018-12-28</td>\n",
       "      <td>2019-11-29</td>\n",
       "      <td>314.660004</td>\n",
       "      <td>1.894490</td>\n",
       "      <td>1921.839966</td>\n",
       "      <td>...</td>\n",
       "      <td>1.260129</td>\n",
       "      <td>23599.500275</td>\n",
       "      <td>13325.352517</td>\n",
       "      <td>10274.147758</td>\n",
       "      <td>15446.250275</td>\n",
       "      <td>5172.102517</td>\n",
       "      <td>256.079987</td>\n",
       "      <td>2485.73999</td>\n",
       "      <td>0.228757</td>\n",
       "      <td>0.2636</td>\n",
       "    </tr>\n",
       "  </tbody>\n",
       "</table>\n",
       "<p>5 rows × 23 columns</p>\n",
       "</div>"
      ],
      "text/plain": [
       "  Ticker Acquisition Date  Quantity  Unit Cost  Cost Basis Start of Year  \\\n",
       "0   AAPL       2013-02-07       125      65.40     8175.00    2018-12-28   \n",
       "1    JNJ       2014-02-27       100      81.90     8190.00    2018-12-28   \n",
       "2    MCD       2013-06-04       100      84.99     8499.00    2018-12-28   \n",
       "3   MTCH       2015-12-14       600      13.63     8178.00    2018-12-28   \n",
       "4   NFLX       2016-01-14        75     108.71     8153.25    2018-12-28   \n",
       "\n",
       "  Latest Date  Ticker Adj Close  ticker return  SP 500 Initial Close  ...  \\\n",
       "0  2019-11-29        267.250000       3.086391           1509.390015  ...   \n",
       "1  2019-11-29        137.490005       0.678755           1854.290039  ...   \n",
       "2  2019-11-29        194.479996       1.288269           1631.380005  ...   \n",
       "3  2019-11-29         70.480003       4.170947           2021.939941  ...   \n",
       "4  2019-11-29        314.660004       1.894490           1921.839966  ...   \n",
       "\n",
       "   Abs. Return Compare  Ticker Share Value  SP 500 Value  Abs Value Compare  \\\n",
       "0             2.005432        33406.250000  17011.846568       16394.403432   \n",
       "1            -0.015144        13749.000549  13873.032534        -124.031985   \n",
       "2             0.362918        19447.999573  16363.562612        3084.436961   \n",
       "3             3.617498        42288.002014  12704.103497       29583.898517   \n",
       "4             1.260129        23599.500275  13325.352517       10274.147758   \n",
       "\n",
       "   Stock Gain / (Loss)  SP 500 Gain / (Loss)  Ticker Start Year Close  \\\n",
       "0         25231.250000           8836.846568               153.917389   \n",
       "1          5559.000549           5683.032534               123.780724   \n",
       "2         10948.999573           7864.562612               171.422867   \n",
       "3         34110.002014           4526.103497                42.070000   \n",
       "4         15446.250275           5172.102517               256.079987   \n",
       "\n",
       "   SP Start Year Close  Share YTD  SP 500 YTD  \n",
       "0           2485.73999   0.736321      0.2636  \n",
       "1           2485.73999   0.110755      0.2636  \n",
       "2           2485.73999   0.134504      0.2636  \n",
       "3           2485.73999   0.675303      0.2636  \n",
       "4           2485.73999   0.228757      0.2636  \n",
       "\n",
       "[5 rows x 23 columns]"
      ]
     },
     "execution_count": 56,
     "metadata": {},
     "output_type": "execute_result"
    }
   ],
   "source": [
    "del merged_portfolio_sp_latest_YTD_sp['Date']\n",
    "\n",
    "merged_portfolio_sp_latest_YTD_sp.rename(columns={'Adj Close': 'SP Start Year Close'}, inplace=True)\n",
    "\n",
    "merged_portfolio_sp_latest_YTD_sp['Share YTD'] = merged_portfolio_sp_latest_YTD_sp['Ticker Adj Close'] / merged_portfolio_sp_latest_YTD_sp['Ticker Start Year Close'] - 1\n",
    "\n",
    "merged_portfolio_sp_latest_YTD_sp['SP 500 YTD'] = merged_portfolio_sp_latest_YTD_sp['SP 500 Latest Close'] / merged_portfolio_sp_latest_YTD_sp['SP Start Year Close'] - 1\n",
    "\n",
    "merged_portfolio_sp_latest_YTD_sp.head()"
   ]
  },
  {
   "cell_type": "code",
   "execution_count": 57,
   "metadata": {},
   "outputs": [
    {
     "data": {
      "text/html": [
       "<div>\n",
       "<style scoped>\n",
       "    .dataframe tbody tr th:only-of-type {\n",
       "        vertical-align: middle;\n",
       "    }\n",
       "\n",
       "    .dataframe tbody tr th {\n",
       "        vertical-align: top;\n",
       "    }\n",
       "\n",
       "    .dataframe thead th {\n",
       "        text-align: right;\n",
       "    }\n",
       "</style>\n",
       "<table border=\"1\" class=\"dataframe\">\n",
       "  <thead>\n",
       "    <tr style=\"text-align: right;\">\n",
       "      <th></th>\n",
       "      <th>Ticker</th>\n",
       "      <th>Acquisition Date</th>\n",
       "      <th>Quantity</th>\n",
       "      <th>Unit Cost</th>\n",
       "      <th>Cost Basis</th>\n",
       "      <th>Start of Year</th>\n",
       "      <th>Latest Date</th>\n",
       "      <th>Ticker Adj Close</th>\n",
       "      <th>ticker return</th>\n",
       "      <th>SP 500 Initial Close</th>\n",
       "      <th>...</th>\n",
       "      <th>Abs. Return Compare</th>\n",
       "      <th>Ticker Share Value</th>\n",
       "      <th>SP 500 Value</th>\n",
       "      <th>Abs Value Compare</th>\n",
       "      <th>Stock Gain / (Loss)</th>\n",
       "      <th>SP 500 Gain / (Loss)</th>\n",
       "      <th>Ticker Start Year Close</th>\n",
       "      <th>SP Start Year Close</th>\n",
       "      <th>Share YTD</th>\n",
       "      <th>SP 500 YTD</th>\n",
       "    </tr>\n",
       "  </thead>\n",
       "  <tbody>\n",
       "    <tr>\n",
       "      <th>0</th>\n",
       "      <td>AAPL</td>\n",
       "      <td>2013-02-07</td>\n",
       "      <td>125</td>\n",
       "      <td>65.40</td>\n",
       "      <td>8175.00</td>\n",
       "      <td>2018-12-28</td>\n",
       "      <td>2019-11-29</td>\n",
       "      <td>267.250000</td>\n",
       "      <td>3.086391</td>\n",
       "      <td>1509.390015</td>\n",
       "      <td>...</td>\n",
       "      <td>2.005432</td>\n",
       "      <td>33406.250000</td>\n",
       "      <td>17011.846568</td>\n",
       "      <td>16394.403432</td>\n",
       "      <td>25231.250000</td>\n",
       "      <td>8836.846568</td>\n",
       "      <td>153.917389</td>\n",
       "      <td>2485.73999</td>\n",
       "      <td>0.736321</td>\n",
       "      <td>0.2636</td>\n",
       "    </tr>\n",
       "    <tr>\n",
       "      <th>6</th>\n",
       "      <td>FB</td>\n",
       "      <td>2013-12-13</td>\n",
       "      <td>150</td>\n",
       "      <td>53.32</td>\n",
       "      <td>7998.00</td>\n",
       "      <td>2018-12-28</td>\n",
       "      <td>2019-11-29</td>\n",
       "      <td>201.639999</td>\n",
       "      <td>2.781695</td>\n",
       "      <td>1775.319946</td>\n",
       "      <td>...</td>\n",
       "      <td>2.012448</td>\n",
       "      <td>30245.999908</td>\n",
       "      <td>14150.439720</td>\n",
       "      <td>16095.560188</td>\n",
       "      <td>22247.999908</td>\n",
       "      <td>6152.439720</td>\n",
       "      <td>133.199997</td>\n",
       "      <td>2485.73999</td>\n",
       "      <td>0.513814</td>\n",
       "      <td>0.2636</td>\n",
       "    </tr>\n",
       "    <tr>\n",
       "      <th>1</th>\n",
       "      <td>JNJ</td>\n",
       "      <td>2014-02-27</td>\n",
       "      <td>100</td>\n",
       "      <td>81.90</td>\n",
       "      <td>8190.00</td>\n",
       "      <td>2018-12-28</td>\n",
       "      <td>2019-11-29</td>\n",
       "      <td>137.490005</td>\n",
       "      <td>0.678755</td>\n",
       "      <td>1854.290039</td>\n",
       "      <td>...</td>\n",
       "      <td>-0.015144</td>\n",
       "      <td>13749.000549</td>\n",
       "      <td>13873.032534</td>\n",
       "      <td>-124.031985</td>\n",
       "      <td>5559.000549</td>\n",
       "      <td>5683.032534</td>\n",
       "      <td>123.780724</td>\n",
       "      <td>2485.73999</td>\n",
       "      <td>0.110755</td>\n",
       "      <td>0.2636</td>\n",
       "    </tr>\n",
       "    <tr>\n",
       "      <th>2</th>\n",
       "      <td>MCD</td>\n",
       "      <td>2013-06-04</td>\n",
       "      <td>100</td>\n",
       "      <td>84.99</td>\n",
       "      <td>8499.00</td>\n",
       "      <td>2018-12-28</td>\n",
       "      <td>2019-11-29</td>\n",
       "      <td>194.479996</td>\n",
       "      <td>1.288269</td>\n",
       "      <td>1631.380005</td>\n",
       "      <td>...</td>\n",
       "      <td>0.362918</td>\n",
       "      <td>19447.999573</td>\n",
       "      <td>16363.562612</td>\n",
       "      <td>3084.436961</td>\n",
       "      <td>10948.999573</td>\n",
       "      <td>7864.562612</td>\n",
       "      <td>171.422867</td>\n",
       "      <td>2485.73999</td>\n",
       "      <td>0.134504</td>\n",
       "      <td>0.2636</td>\n",
       "    </tr>\n",
       "    <tr>\n",
       "      <th>3</th>\n",
       "      <td>MTCH</td>\n",
       "      <td>2015-12-14</td>\n",
       "      <td>600</td>\n",
       "      <td>13.63</td>\n",
       "      <td>8178.00</td>\n",
       "      <td>2018-12-28</td>\n",
       "      <td>2019-11-29</td>\n",
       "      <td>70.480003</td>\n",
       "      <td>4.170947</td>\n",
       "      <td>2021.939941</td>\n",
       "      <td>...</td>\n",
       "      <td>3.617498</td>\n",
       "      <td>42288.002014</td>\n",
       "      <td>12704.103497</td>\n",
       "      <td>29583.898517</td>\n",
       "      <td>34110.002014</td>\n",
       "      <td>4526.103497</td>\n",
       "      <td>42.070000</td>\n",
       "      <td>2485.73999</td>\n",
       "      <td>0.675303</td>\n",
       "      <td>0.2636</td>\n",
       "    </tr>\n",
       "    <tr>\n",
       "      <th>4</th>\n",
       "      <td>NFLX</td>\n",
       "      <td>2016-01-14</td>\n",
       "      <td>75</td>\n",
       "      <td>108.71</td>\n",
       "      <td>8153.25</td>\n",
       "      <td>2018-12-28</td>\n",
       "      <td>2019-11-29</td>\n",
       "      <td>314.660004</td>\n",
       "      <td>1.894490</td>\n",
       "      <td>1921.839966</td>\n",
       "      <td>...</td>\n",
       "      <td>1.260129</td>\n",
       "      <td>23599.500275</td>\n",
       "      <td>13325.352517</td>\n",
       "      <td>10274.147758</td>\n",
       "      <td>15446.250275</td>\n",
       "      <td>5172.102517</td>\n",
       "      <td>256.079987</td>\n",
       "      <td>2485.73999</td>\n",
       "      <td>0.228757</td>\n",
       "      <td>0.2636</td>\n",
       "    </tr>\n",
       "    <tr>\n",
       "      <th>7</th>\n",
       "      <td>TWTR</td>\n",
       "      <td>2015-01-05</td>\n",
       "      <td>225</td>\n",
       "      <td>36.38</td>\n",
       "      <td>8185.50</td>\n",
       "      <td>2018-12-28</td>\n",
       "      <td>2019-11-29</td>\n",
       "      <td>30.910000</td>\n",
       "      <td>-0.150357</td>\n",
       "      <td>2020.579956</td>\n",
       "      <td>...</td>\n",
       "      <td>-0.704852</td>\n",
       "      <td>6954.749966</td>\n",
       "      <td>12724.312915</td>\n",
       "      <td>-5769.562949</td>\n",
       "      <td>-1230.750034</td>\n",
       "      <td>4538.812915</td>\n",
       "      <td>28.430000</td>\n",
       "      <td>2485.73999</td>\n",
       "      <td>0.087232</td>\n",
       "      <td>0.2636</td>\n",
       "    </tr>\n",
       "    <tr>\n",
       "      <th>5</th>\n",
       "      <td>WMT</td>\n",
       "      <td>2013-08-14</td>\n",
       "      <td>125</td>\n",
       "      <td>68.30</td>\n",
       "      <td>8537.50</td>\n",
       "      <td>2018-12-28</td>\n",
       "      <td>2019-11-29</td>\n",
       "      <td>119.089996</td>\n",
       "      <td>0.743631</td>\n",
       "      <td>1685.390015</td>\n",
       "      <td>...</td>\n",
       "      <td>-0.120021</td>\n",
       "      <td>14886.249542</td>\n",
       "      <td>15910.926462</td>\n",
       "      <td>-1024.676920</td>\n",
       "      <td>6348.749542</td>\n",
       "      <td>7373.426462</td>\n",
       "      <td>90.706215</td>\n",
       "      <td>2485.73999</td>\n",
       "      <td>0.312920</td>\n",
       "      <td>0.2636</td>\n",
       "    </tr>\n",
       "  </tbody>\n",
       "</table>\n",
       "<p>8 rows × 23 columns</p>\n",
       "</div>"
      ],
      "text/plain": [
       "  Ticker Acquisition Date  Quantity  Unit Cost  Cost Basis Start of Year  \\\n",
       "0   AAPL       2013-02-07       125      65.40     8175.00    2018-12-28   \n",
       "6     FB       2013-12-13       150      53.32     7998.00    2018-12-28   \n",
       "1    JNJ       2014-02-27       100      81.90     8190.00    2018-12-28   \n",
       "2    MCD       2013-06-04       100      84.99     8499.00    2018-12-28   \n",
       "3   MTCH       2015-12-14       600      13.63     8178.00    2018-12-28   \n",
       "4   NFLX       2016-01-14        75     108.71     8153.25    2018-12-28   \n",
       "7   TWTR       2015-01-05       225      36.38     8185.50    2018-12-28   \n",
       "5    WMT       2013-08-14       125      68.30     8537.50    2018-12-28   \n",
       "\n",
       "  Latest Date  Ticker Adj Close  ticker return  SP 500 Initial Close  ...  \\\n",
       "0  2019-11-29        267.250000       3.086391           1509.390015  ...   \n",
       "6  2019-11-29        201.639999       2.781695           1775.319946  ...   \n",
       "1  2019-11-29        137.490005       0.678755           1854.290039  ...   \n",
       "2  2019-11-29        194.479996       1.288269           1631.380005  ...   \n",
       "3  2019-11-29         70.480003       4.170947           2021.939941  ...   \n",
       "4  2019-11-29        314.660004       1.894490           1921.839966  ...   \n",
       "7  2019-11-29         30.910000      -0.150357           2020.579956  ...   \n",
       "5  2019-11-29        119.089996       0.743631           1685.390015  ...   \n",
       "\n",
       "   Abs. Return Compare  Ticker Share Value  SP 500 Value  Abs Value Compare  \\\n",
       "0             2.005432        33406.250000  17011.846568       16394.403432   \n",
       "6             2.012448        30245.999908  14150.439720       16095.560188   \n",
       "1            -0.015144        13749.000549  13873.032534        -124.031985   \n",
       "2             0.362918        19447.999573  16363.562612        3084.436961   \n",
       "3             3.617498        42288.002014  12704.103497       29583.898517   \n",
       "4             1.260129        23599.500275  13325.352517       10274.147758   \n",
       "7            -0.704852         6954.749966  12724.312915       -5769.562949   \n",
       "5            -0.120021        14886.249542  15910.926462       -1024.676920   \n",
       "\n",
       "   Stock Gain / (Loss)  SP 500 Gain / (Loss)  Ticker Start Year Close  \\\n",
       "0         25231.250000           8836.846568               153.917389   \n",
       "6         22247.999908           6152.439720               133.199997   \n",
       "1          5559.000549           5683.032534               123.780724   \n",
       "2         10948.999573           7864.562612               171.422867   \n",
       "3         34110.002014           4526.103497                42.070000   \n",
       "4         15446.250275           5172.102517               256.079987   \n",
       "7         -1230.750034           4538.812915                28.430000   \n",
       "5          6348.749542           7373.426462                90.706215   \n",
       "\n",
       "   SP Start Year Close  Share YTD  SP 500 YTD  \n",
       "0           2485.73999   0.736321      0.2636  \n",
       "6           2485.73999   0.513814      0.2636  \n",
       "1           2485.73999   0.110755      0.2636  \n",
       "2           2485.73999   0.134504      0.2636  \n",
       "3           2485.73999   0.675303      0.2636  \n",
       "4           2485.73999   0.228757      0.2636  \n",
       "7           2485.73999   0.087232      0.2636  \n",
       "5           2485.73999   0.312920      0.2636  \n",
       "\n",
       "[8 rows x 23 columns]"
      ]
     },
     "execution_count": 57,
     "metadata": {},
     "output_type": "execute_result"
    }
   ],
   "source": [
    "merged_portfolio_sp_latest_YTD_sp = merged_portfolio_sp_latest_YTD_sp.sort_values(by='Ticker', ascending=True)\n",
    "merged_portfolio_sp_latest_YTD_sp"
   ]
  },
  {
   "cell_type": "code",
   "execution_count": 58,
   "metadata": {},
   "outputs": [
    {
     "data": {
      "text/html": [
       "<div>\n",
       "<style scoped>\n",
       "    .dataframe tbody tr th:only-of-type {\n",
       "        vertical-align: middle;\n",
       "    }\n",
       "\n",
       "    .dataframe tbody tr th {\n",
       "        vertical-align: top;\n",
       "    }\n",
       "\n",
       "    .dataframe thead th {\n",
       "        text-align: right;\n",
       "    }\n",
       "</style>\n",
       "<table border=\"1\" class=\"dataframe\">\n",
       "  <thead>\n",
       "    <tr style=\"text-align: right;\">\n",
       "      <th></th>\n",
       "      <th>Ticker</th>\n",
       "      <th>Acquisition Date</th>\n",
       "      <th>Quantity</th>\n",
       "      <th>Unit Cost</th>\n",
       "      <th>Cost Basis</th>\n",
       "      <th>Start of Year</th>\n",
       "      <th>Latest Date</th>\n",
       "      <th>Ticker Adj Close</th>\n",
       "      <th>ticker return</th>\n",
       "      <th>SP 500 Initial Close</th>\n",
       "      <th>...</th>\n",
       "      <th>Stock Gain / (Loss)</th>\n",
       "      <th>SP 500 Gain / (Loss)</th>\n",
       "      <th>Ticker Start Year Close</th>\n",
       "      <th>SP Start Year Close</th>\n",
       "      <th>Share YTD</th>\n",
       "      <th>SP 500 YTD</th>\n",
       "      <th>Cum Invst</th>\n",
       "      <th>Cum Ticker Returns</th>\n",
       "      <th>Cum SP Returns</th>\n",
       "      <th>Cum Ticker ROI Mult</th>\n",
       "    </tr>\n",
       "  </thead>\n",
       "  <tbody>\n",
       "    <tr>\n",
       "      <th>0</th>\n",
       "      <td>AAPL</td>\n",
       "      <td>2013-02-07</td>\n",
       "      <td>125</td>\n",
       "      <td>65.40</td>\n",
       "      <td>8175.0</td>\n",
       "      <td>2018-12-28</td>\n",
       "      <td>2019-11-29</td>\n",
       "      <td>267.250000</td>\n",
       "      <td>3.086391</td>\n",
       "      <td>1509.390015</td>\n",
       "      <td>...</td>\n",
       "      <td>25231.250000</td>\n",
       "      <td>8836.846568</td>\n",
       "      <td>153.917389</td>\n",
       "      <td>2485.73999</td>\n",
       "      <td>0.736321</td>\n",
       "      <td>0.2636</td>\n",
       "      <td>8175.0</td>\n",
       "      <td>33406.250000</td>\n",
       "      <td>17011.846568</td>\n",
       "      <td>4.086391</td>\n",
       "    </tr>\n",
       "    <tr>\n",
       "      <th>6</th>\n",
       "      <td>FB</td>\n",
       "      <td>2013-12-13</td>\n",
       "      <td>150</td>\n",
       "      <td>53.32</td>\n",
       "      <td>7998.0</td>\n",
       "      <td>2018-12-28</td>\n",
       "      <td>2019-11-29</td>\n",
       "      <td>201.639999</td>\n",
       "      <td>2.781695</td>\n",
       "      <td>1775.319946</td>\n",
       "      <td>...</td>\n",
       "      <td>22247.999908</td>\n",
       "      <td>6152.439720</td>\n",
       "      <td>133.199997</td>\n",
       "      <td>2485.73999</td>\n",
       "      <td>0.513814</td>\n",
       "      <td>0.2636</td>\n",
       "      <td>16173.0</td>\n",
       "      <td>63652.249908</td>\n",
       "      <td>31162.286288</td>\n",
       "      <td>3.935711</td>\n",
       "    </tr>\n",
       "    <tr>\n",
       "      <th>1</th>\n",
       "      <td>JNJ</td>\n",
       "      <td>2014-02-27</td>\n",
       "      <td>100</td>\n",
       "      <td>81.90</td>\n",
       "      <td>8190.0</td>\n",
       "      <td>2018-12-28</td>\n",
       "      <td>2019-11-29</td>\n",
       "      <td>137.490005</td>\n",
       "      <td>0.678755</td>\n",
       "      <td>1854.290039</td>\n",
       "      <td>...</td>\n",
       "      <td>5559.000549</td>\n",
       "      <td>5683.032534</td>\n",
       "      <td>123.780724</td>\n",
       "      <td>2485.73999</td>\n",
       "      <td>0.110755</td>\n",
       "      <td>0.2636</td>\n",
       "      <td>24363.0</td>\n",
       "      <td>77401.250458</td>\n",
       "      <td>45035.318822</td>\n",
       "      <td>3.177000</td>\n",
       "    </tr>\n",
       "    <tr>\n",
       "      <th>2</th>\n",
       "      <td>MCD</td>\n",
       "      <td>2013-06-04</td>\n",
       "      <td>100</td>\n",
       "      <td>84.99</td>\n",
       "      <td>8499.0</td>\n",
       "      <td>2018-12-28</td>\n",
       "      <td>2019-11-29</td>\n",
       "      <td>194.479996</td>\n",
       "      <td>1.288269</td>\n",
       "      <td>1631.380005</td>\n",
       "      <td>...</td>\n",
       "      <td>10948.999573</td>\n",
       "      <td>7864.562612</td>\n",
       "      <td>171.422867</td>\n",
       "      <td>2485.73999</td>\n",
       "      <td>0.134504</td>\n",
       "      <td>0.2636</td>\n",
       "      <td>32862.0</td>\n",
       "      <td>96849.250031</td>\n",
       "      <td>61398.881434</td>\n",
       "      <td>2.947150</td>\n",
       "    </tr>\n",
       "    <tr>\n",
       "      <th>3</th>\n",
       "      <td>MTCH</td>\n",
       "      <td>2015-12-14</td>\n",
       "      <td>600</td>\n",
       "      <td>13.63</td>\n",
       "      <td>8178.0</td>\n",
       "      <td>2018-12-28</td>\n",
       "      <td>2019-11-29</td>\n",
       "      <td>70.480003</td>\n",
       "      <td>4.170947</td>\n",
       "      <td>2021.939941</td>\n",
       "      <td>...</td>\n",
       "      <td>34110.002014</td>\n",
       "      <td>4526.103497</td>\n",
       "      <td>42.070000</td>\n",
       "      <td>2485.73999</td>\n",
       "      <td>0.675303</td>\n",
       "      <td>0.2636</td>\n",
       "      <td>41040.0</td>\n",
       "      <td>139137.252045</td>\n",
       "      <td>74102.984931</td>\n",
       "      <td>3.390284</td>\n",
       "    </tr>\n",
       "  </tbody>\n",
       "</table>\n",
       "<p>5 rows × 27 columns</p>\n",
       "</div>"
      ],
      "text/plain": [
       "  Ticker Acquisition Date  Quantity  Unit Cost  Cost Basis Start of Year  \\\n",
       "0   AAPL       2013-02-07       125      65.40      8175.0    2018-12-28   \n",
       "6     FB       2013-12-13       150      53.32      7998.0    2018-12-28   \n",
       "1    JNJ       2014-02-27       100      81.90      8190.0    2018-12-28   \n",
       "2    MCD       2013-06-04       100      84.99      8499.0    2018-12-28   \n",
       "3   MTCH       2015-12-14       600      13.63      8178.0    2018-12-28   \n",
       "\n",
       "  Latest Date  Ticker Adj Close  ticker return  SP 500 Initial Close  ...  \\\n",
       "0  2019-11-29        267.250000       3.086391           1509.390015  ...   \n",
       "6  2019-11-29        201.639999       2.781695           1775.319946  ...   \n",
       "1  2019-11-29        137.490005       0.678755           1854.290039  ...   \n",
       "2  2019-11-29        194.479996       1.288269           1631.380005  ...   \n",
       "3  2019-11-29         70.480003       4.170947           2021.939941  ...   \n",
       "\n",
       "   Stock Gain / (Loss)  SP 500 Gain / (Loss)  Ticker Start Year Close  \\\n",
       "0         25231.250000           8836.846568               153.917389   \n",
       "6         22247.999908           6152.439720               133.199997   \n",
       "1          5559.000549           5683.032534               123.780724   \n",
       "2         10948.999573           7864.562612               171.422867   \n",
       "3         34110.002014           4526.103497                42.070000   \n",
       "\n",
       "   SP Start Year Close  Share YTD  SP 500 YTD  Cum Invst  Cum Ticker Returns  \\\n",
       "0           2485.73999   0.736321      0.2636     8175.0        33406.250000   \n",
       "6           2485.73999   0.513814      0.2636    16173.0        63652.249908   \n",
       "1           2485.73999   0.110755      0.2636    24363.0        77401.250458   \n",
       "2           2485.73999   0.134504      0.2636    32862.0        96849.250031   \n",
       "3           2485.73999   0.675303      0.2636    41040.0       139137.252045   \n",
       "\n",
       "   Cum SP Returns  Cum Ticker ROI Mult  \n",
       "0    17011.846568             4.086391  \n",
       "6    31162.286288             3.935711  \n",
       "1    45035.318822             3.177000  \n",
       "2    61398.881434             2.947150  \n",
       "3    74102.984931             3.390284  \n",
       "\n",
       "[5 rows x 27 columns]"
      ]
     },
     "execution_count": 58,
     "metadata": {},
     "output_type": "execute_result"
    }
   ],
   "source": [
    "merged_portfolio_sp_latest_YTD_sp['Cum Invst'] = merged_portfolio_sp_latest_YTD_sp['Cost Basis'].cumsum()\n",
    "\n",
    "merged_portfolio_sp_latest_YTD_sp['Cum Ticker Returns'] = merged_portfolio_sp_latest_YTD_sp['Ticker Share Value'].cumsum()\n",
    "\n",
    "merged_portfolio_sp_latest_YTD_sp['Cum SP Returns'] = merged_portfolio_sp_latest_YTD_sp['SP 500 Value'].cumsum()\n",
    "\n",
    "merged_portfolio_sp_latest_YTD_sp['Cum Ticker ROI Mult'] = merged_portfolio_sp_latest_YTD_sp['Cum Ticker Returns'] / merged_portfolio_sp_latest_YTD_sp['Cum Invst']\n",
    "\n",
    "merged_portfolio_sp_latest_YTD_sp.head()\n"
   ]
  },
  {
   "cell_type": "code",
   "execution_count": 59,
   "metadata": {},
   "outputs": [
    {
     "data": {
      "text/html": [
       "<div>\n",
       "<style scoped>\n",
       "    .dataframe tbody tr th:only-of-type {\n",
       "        vertical-align: middle;\n",
       "    }\n",
       "\n",
       "    .dataframe tbody tr th {\n",
       "        vertical-align: top;\n",
       "    }\n",
       "\n",
       "    .dataframe thead th {\n",
       "        text-align: right;\n",
       "    }\n",
       "</style>\n",
       "<table border=\"1\" class=\"dataframe\">\n",
       "  <thead>\n",
       "    <tr style=\"text-align: right;\">\n",
       "      <th></th>\n",
       "      <th>Ticker</th>\n",
       "      <th>Date</th>\n",
       "      <th>Adj Close</th>\n",
       "    </tr>\n",
       "  </thead>\n",
       "  <tbody>\n",
       "    <tr>\n",
       "      <th>0</th>\n",
       "      <td>AAPL</td>\n",
       "      <td>2010-01-04</td>\n",
       "      <td>26.601469</td>\n",
       "    </tr>\n",
       "    <tr>\n",
       "      <th>1</th>\n",
       "      <td>AAPL</td>\n",
       "      <td>2010-01-05</td>\n",
       "      <td>26.647457</td>\n",
       "    </tr>\n",
       "    <tr>\n",
       "      <th>2</th>\n",
       "      <td>AAPL</td>\n",
       "      <td>2010-01-06</td>\n",
       "      <td>26.223597</td>\n",
       "    </tr>\n",
       "    <tr>\n",
       "      <th>3</th>\n",
       "      <td>AAPL</td>\n",
       "      <td>2010-01-07</td>\n",
       "      <td>26.175119</td>\n",
       "    </tr>\n",
       "    <tr>\n",
       "      <th>4</th>\n",
       "      <td>AAPL</td>\n",
       "      <td>2010-01-08</td>\n",
       "      <td>26.349140</td>\n",
       "    </tr>\n",
       "  </tbody>\n",
       "</table>\n",
       "</div>"
      ],
      "text/plain": [
       "  Ticker       Date  Adj Close\n",
       "0   AAPL 2010-01-04  26.601469\n",
       "1   AAPL 2010-01-05  26.647457\n",
       "2   AAPL 2010-01-06  26.223597\n",
       "3   AAPL 2010-01-07  26.175119\n",
       "4   AAPL 2010-01-08  26.349140"
      ]
     },
     "execution_count": 59,
     "metadata": {},
     "output_type": "execute_result"
    }
   ],
   "source": [
    "adj_close.head()"
   ]
  },
  {
   "cell_type": "code",
   "execution_count": 60,
   "metadata": {},
   "outputs": [
    {
     "data": {
      "text/html": [
       "<div>\n",
       "<style scoped>\n",
       "    .dataframe tbody tr th:only-of-type {\n",
       "        vertical-align: middle;\n",
       "    }\n",
       "\n",
       "    .dataframe tbody tr th {\n",
       "        vertical-align: top;\n",
       "    }\n",
       "\n",
       "    .dataframe thead th {\n",
       "        text-align: right;\n",
       "    }\n",
       "</style>\n",
       "<table border=\"1\" class=\"dataframe\">\n",
       "  <thead>\n",
       "    <tr style=\"text-align: right;\">\n",
       "      <th></th>\n",
       "      <th>Acquisition Date</th>\n",
       "      <th>Quantity</th>\n",
       "      <th>Unit Cost</th>\n",
       "      <th>Cost Basis</th>\n",
       "      <th>Start of Year</th>\n",
       "    </tr>\n",
       "    <tr>\n",
       "      <th>Ticker</th>\n",
       "      <th></th>\n",
       "      <th></th>\n",
       "      <th></th>\n",
       "      <th></th>\n",
       "      <th></th>\n",
       "    </tr>\n",
       "  </thead>\n",
       "  <tbody>\n",
       "    <tr>\n",
       "      <th>AAPL</th>\n",
       "      <td>2013-02-07</td>\n",
       "      <td>125</td>\n",
       "      <td>65.40</td>\n",
       "      <td>8175.00</td>\n",
       "      <td>2018-12-28</td>\n",
       "    </tr>\n",
       "    <tr>\n",
       "      <th>JNJ</th>\n",
       "      <td>2014-02-27</td>\n",
       "      <td>100</td>\n",
       "      <td>81.90</td>\n",
       "      <td>8190.00</td>\n",
       "      <td>2018-12-28</td>\n",
       "    </tr>\n",
       "    <tr>\n",
       "      <th>MCD</th>\n",
       "      <td>2013-06-04</td>\n",
       "      <td>100</td>\n",
       "      <td>84.99</td>\n",
       "      <td>8499.00</td>\n",
       "      <td>2018-12-28</td>\n",
       "    </tr>\n",
       "    <tr>\n",
       "      <th>MTCH</th>\n",
       "      <td>2015-12-14</td>\n",
       "      <td>600</td>\n",
       "      <td>13.63</td>\n",
       "      <td>8178.00</td>\n",
       "      <td>2018-12-28</td>\n",
       "    </tr>\n",
       "    <tr>\n",
       "      <th>NFLX</th>\n",
       "      <td>2016-01-14</td>\n",
       "      <td>75</td>\n",
       "      <td>108.71</td>\n",
       "      <td>8153.25</td>\n",
       "      <td>2018-12-28</td>\n",
       "    </tr>\n",
       "  </tbody>\n",
       "</table>\n",
       "</div>"
      ],
      "text/plain": [
       "       Acquisition Date  Quantity  Unit Cost  Cost Basis Start of Year\n",
       "Ticker                                                                \n",
       "AAPL         2013-02-07       125      65.40     8175.00    2018-12-28\n",
       "JNJ          2014-02-27       100      81.90     8190.00    2018-12-28\n",
       "MCD          2013-06-04       100      84.99     8499.00    2018-12-28\n",
       "MTCH         2015-12-14       600      13.63     8178.00    2018-12-28\n",
       "NFLX         2016-01-14        75     108.71     8153.25    2018-12-28"
      ]
     },
     "execution_count": 60,
     "metadata": {},
     "output_type": "execute_result"
    }
   ],
   "source": [
    "portfolio_df.head()"
   ]
  },
  {
   "cell_type": "code",
   "execution_count": 61,
   "metadata": {},
   "outputs": [
    {
     "data": {
      "text/html": [
       "<div>\n",
       "<style scoped>\n",
       "    .dataframe tbody tr th:only-of-type {\n",
       "        vertical-align: middle;\n",
       "    }\n",
       "\n",
       "    .dataframe tbody tr th {\n",
       "        vertical-align: top;\n",
       "    }\n",
       "\n",
       "    .dataframe thead th {\n",
       "        text-align: right;\n",
       "    }\n",
       "</style>\n",
       "<table border=\"1\" class=\"dataframe\">\n",
       "  <thead>\n",
       "    <tr style=\"text-align: right;\">\n",
       "      <th></th>\n",
       "      <th>Ticker</th>\n",
       "      <th>Date</th>\n",
       "      <th>Adj Close</th>\n",
       "      <th>Acquisition Date</th>\n",
       "      <th>Quantity</th>\n",
       "      <th>Unit Cost</th>\n",
       "      <th>Cost Basis</th>\n",
       "      <th>Start of Year</th>\n",
       "    </tr>\n",
       "  </thead>\n",
       "  <tbody>\n",
       "    <tr>\n",
       "      <th>0</th>\n",
       "      <td>AAPL</td>\n",
       "      <td>2010-01-04</td>\n",
       "      <td>26.601469</td>\n",
       "      <td>2013-02-07</td>\n",
       "      <td>125</td>\n",
       "      <td>65.4</td>\n",
       "      <td>8175.0</td>\n",
       "      <td>2018-12-28</td>\n",
       "    </tr>\n",
       "    <tr>\n",
       "      <th>1</th>\n",
       "      <td>AAPL</td>\n",
       "      <td>2010-01-05</td>\n",
       "      <td>26.647457</td>\n",
       "      <td>2013-02-07</td>\n",
       "      <td>125</td>\n",
       "      <td>65.4</td>\n",
       "      <td>8175.0</td>\n",
       "      <td>2018-12-28</td>\n",
       "    </tr>\n",
       "    <tr>\n",
       "      <th>2</th>\n",
       "      <td>AAPL</td>\n",
       "      <td>2010-01-06</td>\n",
       "      <td>26.223597</td>\n",
       "      <td>2013-02-07</td>\n",
       "      <td>125</td>\n",
       "      <td>65.4</td>\n",
       "      <td>8175.0</td>\n",
       "      <td>2018-12-28</td>\n",
       "    </tr>\n",
       "    <tr>\n",
       "      <th>3</th>\n",
       "      <td>AAPL</td>\n",
       "      <td>2010-01-07</td>\n",
       "      <td>26.175119</td>\n",
       "      <td>2013-02-07</td>\n",
       "      <td>125</td>\n",
       "      <td>65.4</td>\n",
       "      <td>8175.0</td>\n",
       "      <td>2018-12-28</td>\n",
       "    </tr>\n",
       "    <tr>\n",
       "      <th>4</th>\n",
       "      <td>AAPL</td>\n",
       "      <td>2010-01-08</td>\n",
       "      <td>26.349140</td>\n",
       "      <td>2013-02-07</td>\n",
       "      <td>125</td>\n",
       "      <td>65.4</td>\n",
       "      <td>8175.0</td>\n",
       "      <td>2018-12-28</td>\n",
       "    </tr>\n",
       "  </tbody>\n",
       "</table>\n",
       "</div>"
      ],
      "text/plain": [
       "  Ticker       Date  Adj Close Acquisition Date  Quantity  Unit Cost  \\\n",
       "0   AAPL 2010-01-04  26.601469       2013-02-07       125       65.4   \n",
       "1   AAPL 2010-01-05  26.647457       2013-02-07       125       65.4   \n",
       "2   AAPL 2010-01-06  26.223597       2013-02-07       125       65.4   \n",
       "3   AAPL 2010-01-07  26.175119       2013-02-07       125       65.4   \n",
       "4   AAPL 2010-01-08  26.349140       2013-02-07       125       65.4   \n",
       "\n",
       "   Cost Basis Start of Year  \n",
       "0      8175.0    2018-12-28  \n",
       "1      8175.0    2018-12-28  \n",
       "2      8175.0    2018-12-28  \n",
       "3      8175.0    2018-12-28  \n",
       "4      8175.0    2018-12-28  "
      ]
     },
     "execution_count": 61,
     "metadata": {},
     "output_type": "execute_result"
    }
   ],
   "source": [
    "portfolio_df.reset_index(inplace=True)\n",
    "\n",
    "adj_close_acq_date = pd.merge(adj_close, portfolio_df, on='Ticker')\n",
    "\n",
    "adj_close_acq_date.head()"
   ]
  },
  {
   "cell_type": "code",
   "execution_count": 62,
   "metadata": {},
   "outputs": [],
   "source": [
    "del adj_close_acq_date['Quantity']\n",
    "del adj_close_acq_date['Unit Cost']\n",
    "del adj_close_acq_date['Cost Basis']\n",
    "del adj_close_acq_date['Start of Year']\n",
    "\n",
    "adj_close_acq_date.sort_values(by=['Ticker', 'Acquisition Date', 'Date'], ascending=[True, True, True], inplace=True)"
   ]
  },
  {
   "cell_type": "code",
   "execution_count": 63,
   "metadata": {},
   "outputs": [
    {
     "data": {
      "text/html": [
       "<div>\n",
       "<style scoped>\n",
       "    .dataframe tbody tr th:only-of-type {\n",
       "        vertical-align: middle;\n",
       "    }\n",
       "\n",
       "    .dataframe tbody tr th {\n",
       "        vertical-align: top;\n",
       "    }\n",
       "\n",
       "    .dataframe thead th {\n",
       "        text-align: right;\n",
       "    }\n",
       "</style>\n",
       "<table border=\"1\" class=\"dataframe\">\n",
       "  <thead>\n",
       "    <tr style=\"text-align: right;\">\n",
       "      <th></th>\n",
       "      <th>Ticker</th>\n",
       "      <th>Date</th>\n",
       "      <th>Adj Close</th>\n",
       "      <th>Acquisition Date</th>\n",
       "      <th>Date Delta</th>\n",
       "    </tr>\n",
       "  </thead>\n",
       "  <tbody>\n",
       "    <tr>\n",
       "      <th>0</th>\n",
       "      <td>AAPL</td>\n",
       "      <td>2010-01-04</td>\n",
       "      <td>26.601469</td>\n",
       "      <td>2013-02-07</td>\n",
       "      <td>-97632000000000000</td>\n",
       "    </tr>\n",
       "    <tr>\n",
       "      <th>1</th>\n",
       "      <td>AAPL</td>\n",
       "      <td>2010-01-05</td>\n",
       "      <td>26.647457</td>\n",
       "      <td>2013-02-07</td>\n",
       "      <td>-97545600000000000</td>\n",
       "    </tr>\n",
       "    <tr>\n",
       "      <th>2</th>\n",
       "      <td>AAPL</td>\n",
       "      <td>2010-01-06</td>\n",
       "      <td>26.223597</td>\n",
       "      <td>2013-02-07</td>\n",
       "      <td>-97459200000000000</td>\n",
       "    </tr>\n",
       "    <tr>\n",
       "      <th>3</th>\n",
       "      <td>AAPL</td>\n",
       "      <td>2010-01-07</td>\n",
       "      <td>26.175119</td>\n",
       "      <td>2013-02-07</td>\n",
       "      <td>-97372800000000000</td>\n",
       "    </tr>\n",
       "    <tr>\n",
       "      <th>4</th>\n",
       "      <td>AAPL</td>\n",
       "      <td>2010-01-08</td>\n",
       "      <td>26.349140</td>\n",
       "      <td>2013-02-07</td>\n",
       "      <td>-97286400000000000</td>\n",
       "    </tr>\n",
       "  </tbody>\n",
       "</table>\n",
       "</div>"
      ],
      "text/plain": [
       "  Ticker       Date  Adj Close Acquisition Date         Date Delta\n",
       "0   AAPL 2010-01-04  26.601469       2013-02-07 -97632000000000000\n",
       "1   AAPL 2010-01-05  26.647457       2013-02-07 -97545600000000000\n",
       "2   AAPL 2010-01-06  26.223597       2013-02-07 -97459200000000000\n",
       "3   AAPL 2010-01-07  26.175119       2013-02-07 -97372800000000000\n",
       "4   AAPL 2010-01-08  26.349140       2013-02-07 -97286400000000000"
      ]
     },
     "execution_count": 63,
     "metadata": {},
     "output_type": "execute_result"
    }
   ],
   "source": [
    "adj_close_acq_date['Date Delta'] = adj_close_acq_date['Date'] - adj_close_acq_date['Acquisition Date']\n",
    "\n",
    "adj_close_acq_date['Date Delta'] = adj_close_acq_date[['Date Delta']].apply(pd.to_numeric)  \n",
    "\n",
    "adj_close_acq_date.head()"
   ]
  },
  {
   "cell_type": "code",
   "execution_count": 64,
   "metadata": {
    "scrolled": true
   },
   "outputs": [
    {
     "data": {
      "text/html": [
       "<div>\n",
       "<style scoped>\n",
       "    .dataframe tbody tr th:only-of-type {\n",
       "        vertical-align: middle;\n",
       "    }\n",
       "\n",
       "    .dataframe tbody tr th {\n",
       "        vertical-align: top;\n",
       "    }\n",
       "\n",
       "    .dataframe thead th {\n",
       "        text-align: right;\n",
       "    }\n",
       "</style>\n",
       "<table border=\"1\" class=\"dataframe\">\n",
       "  <thead>\n",
       "    <tr style=\"text-align: right;\">\n",
       "      <th></th>\n",
       "      <th>Ticker</th>\n",
       "      <th>Date</th>\n",
       "      <th>Adj Close</th>\n",
       "      <th>Acquisition Date</th>\n",
       "      <th>Date Delta</th>\n",
       "    </tr>\n",
       "  </thead>\n",
       "  <tbody>\n",
       "    <tr>\n",
       "      <th>779</th>\n",
       "      <td>AAPL</td>\n",
       "      <td>2013-02-07</td>\n",
       "      <td>59.058853</td>\n",
       "      <td>2013-02-07</td>\n",
       "      <td>0</td>\n",
       "    </tr>\n",
       "    <tr>\n",
       "      <th>780</th>\n",
       "      <td>AAPL</td>\n",
       "      <td>2013-02-08</td>\n",
       "      <td>59.911518</td>\n",
       "      <td>2013-02-07</td>\n",
       "      <td>86400000000000</td>\n",
       "    </tr>\n",
       "    <tr>\n",
       "      <th>781</th>\n",
       "      <td>AAPL</td>\n",
       "      <td>2013-02-11</td>\n",
       "      <td>60.535877</td>\n",
       "      <td>2013-02-07</td>\n",
       "      <td>345600000000000</td>\n",
       "    </tr>\n",
       "    <tr>\n",
       "      <th>782</th>\n",
       "      <td>AAPL</td>\n",
       "      <td>2013-02-12</td>\n",
       "      <td>59.018475</td>\n",
       "      <td>2013-02-07</td>\n",
       "      <td>432000000000000</td>\n",
       "    </tr>\n",
       "    <tr>\n",
       "      <th>783</th>\n",
       "      <td>AAPL</td>\n",
       "      <td>2013-02-13</td>\n",
       "      <td>58.906216</td>\n",
       "      <td>2013-02-07</td>\n",
       "      <td>518400000000000</td>\n",
       "    </tr>\n",
       "  </tbody>\n",
       "</table>\n",
       "</div>"
      ],
      "text/plain": [
       "    Ticker       Date  Adj Close Acquisition Date       Date Delta\n",
       "779   AAPL 2013-02-07  59.058853       2013-02-07                0\n",
       "780   AAPL 2013-02-08  59.911518       2013-02-07   86400000000000\n",
       "781   AAPL 2013-02-11  60.535877       2013-02-07  345600000000000\n",
       "782   AAPL 2013-02-12  59.018475       2013-02-07  432000000000000\n",
       "783   AAPL 2013-02-13  58.906216       2013-02-07  518400000000000"
      ]
     },
     "execution_count": 64,
     "metadata": {},
     "output_type": "execute_result"
    }
   ],
   "source": [
    "adj_close_acq_date_modified = adj_close_acq_date[adj_close_acq_date['Date Delta']>=0]\n",
    "\n",
    "adj_close_acq_date_modified.head()"
   ]
  },
  {
   "cell_type": "code",
   "execution_count": 65,
   "metadata": {},
   "outputs": [
    {
     "data": {
      "text/html": [
       "<div>\n",
       "<style scoped>\n",
       "    .dataframe tbody tr th:only-of-type {\n",
       "        vertical-align: middle;\n",
       "    }\n",
       "\n",
       "    .dataframe tbody tr th {\n",
       "        vertical-align: top;\n",
       "    }\n",
       "\n",
       "    .dataframe thead th {\n",
       "        text-align: right;\n",
       "    }\n",
       "</style>\n",
       "<table border=\"1\" class=\"dataframe\">\n",
       "  <thead>\n",
       "    <tr style=\"text-align: right;\">\n",
       "      <th></th>\n",
       "      <th>Ticker</th>\n",
       "      <th>Acquisition Date</th>\n",
       "      <th>Adj Close</th>\n",
       "    </tr>\n",
       "  </thead>\n",
       "  <tbody>\n",
       "    <tr>\n",
       "      <th>0</th>\n",
       "      <td>AAPL</td>\n",
       "      <td>2013-02-07</td>\n",
       "      <td>267.839996</td>\n",
       "    </tr>\n",
       "    <tr>\n",
       "      <th>1</th>\n",
       "      <td>FB</td>\n",
       "      <td>2013-12-13</td>\n",
       "      <td>217.500000</td>\n",
       "    </tr>\n",
       "    <tr>\n",
       "      <th>2</th>\n",
       "      <td>JNJ</td>\n",
       "      <td>2014-02-27</td>\n",
       "      <td>143.786758</td>\n",
       "    </tr>\n",
       "    <tr>\n",
       "      <th>3</th>\n",
       "      <td>MCD</td>\n",
       "      <td>2013-06-04</td>\n",
       "      <td>218.628891</td>\n",
       "    </tr>\n",
       "    <tr>\n",
       "      <th>4</th>\n",
       "      <td>MTCH</td>\n",
       "      <td>2015-12-14</td>\n",
       "      <td>91.769997</td>\n",
       "    </tr>\n",
       "    <tr>\n",
       "      <th>5</th>\n",
       "      <td>NFLX</td>\n",
       "      <td>2016-01-14</td>\n",
       "      <td>418.970001</td>\n",
       "    </tr>\n",
       "    <tr>\n",
       "      <th>6</th>\n",
       "      <td>TWTR</td>\n",
       "      <td>2015-01-05</td>\n",
       "      <td>52.869999</td>\n",
       "    </tr>\n",
       "    <tr>\n",
       "      <th>7</th>\n",
       "      <td>WMT</td>\n",
       "      <td>2013-08-14</td>\n",
       "      <td>120.980003</td>\n",
       "    </tr>\n",
       "  </tbody>\n",
       "</table>\n",
       "</div>"
      ],
      "text/plain": [
       "  Ticker Acquisition Date   Adj Close\n",
       "0   AAPL       2013-02-07  267.839996\n",
       "1     FB       2013-12-13  217.500000\n",
       "2    JNJ       2014-02-27  143.786758\n",
       "3    MCD       2013-06-04  218.628891\n",
       "4   MTCH       2015-12-14   91.769997\n",
       "5   NFLX       2016-01-14  418.970001\n",
       "6   TWTR       2015-01-05   52.869999\n",
       "7    WMT       2013-08-14  120.980003"
      ]
     },
     "execution_count": 65,
     "metadata": {},
     "output_type": "execute_result"
    }
   ],
   "source": [
    "adj_close_pivot = adj_close_acq_date_modified.pivot_table(index=['Ticker', 'Acquisition Date'], values='Adj Close', aggfunc=np.max)\n",
    "\n",
    "adj_close_pivot.reset_index(inplace=True)\n",
    "\n",
    "adj_close_pivot"
   ]
  },
  {
   "cell_type": "code",
   "execution_count": 66,
   "metadata": {},
   "outputs": [
    {
     "data": {
      "text/html": [
       "<div>\n",
       "<style scoped>\n",
       "    .dataframe tbody tr th:only-of-type {\n",
       "        vertical-align: middle;\n",
       "    }\n",
       "\n",
       "    .dataframe tbody tr th {\n",
       "        vertical-align: top;\n",
       "    }\n",
       "\n",
       "    .dataframe thead th {\n",
       "        text-align: right;\n",
       "    }\n",
       "</style>\n",
       "<table border=\"1\" class=\"dataframe\">\n",
       "  <thead>\n",
       "    <tr style=\"text-align: right;\">\n",
       "      <th></th>\n",
       "      <th>Ticker</th>\n",
       "      <th>Acquisition Date</th>\n",
       "      <th>Adj Close</th>\n",
       "      <th>Date</th>\n",
       "    </tr>\n",
       "  </thead>\n",
       "  <tbody>\n",
       "    <tr>\n",
       "      <th>0</th>\n",
       "      <td>AAPL</td>\n",
       "      <td>2013-02-07</td>\n",
       "      <td>267.839996</td>\n",
       "      <td>2019-11-27</td>\n",
       "    </tr>\n",
       "    <tr>\n",
       "      <th>1</th>\n",
       "      <td>FB</td>\n",
       "      <td>2013-12-13</td>\n",
       "      <td>217.500000</td>\n",
       "      <td>2018-07-25</td>\n",
       "    </tr>\n",
       "    <tr>\n",
       "      <th>2</th>\n",
       "      <td>JNJ</td>\n",
       "      <td>2014-02-27</td>\n",
       "      <td>143.786758</td>\n",
       "      <td>2018-12-13</td>\n",
       "    </tr>\n",
       "    <tr>\n",
       "      <th>3</th>\n",
       "      <td>MCD</td>\n",
       "      <td>2013-06-04</td>\n",
       "      <td>218.628891</td>\n",
       "      <td>2019-09-06</td>\n",
       "    </tr>\n",
       "    <tr>\n",
       "      <th>4</th>\n",
       "      <td>MTCH</td>\n",
       "      <td>2015-12-14</td>\n",
       "      <td>91.769997</td>\n",
       "      <td>2019-08-07</td>\n",
       "    </tr>\n",
       "  </tbody>\n",
       "</table>\n",
       "</div>"
      ],
      "text/plain": [
       "  Ticker Acquisition Date   Adj Close       Date\n",
       "0   AAPL       2013-02-07  267.839996 2019-11-27\n",
       "1     FB       2013-12-13  217.500000 2018-07-25\n",
       "2    JNJ       2014-02-27  143.786758 2018-12-13\n",
       "3    MCD       2013-06-04  218.628891 2019-09-06\n",
       "4   MTCH       2015-12-14   91.769997 2019-08-07"
      ]
     },
     "execution_count": 66,
     "metadata": {},
     "output_type": "execute_result"
    }
   ],
   "source": [
    "adj_close_pivot_merged = pd.merge(adj_close_pivot, adj_close\n",
    "                                             , on=['Ticker', 'Adj Close'])\n",
    "\n",
    "adj_close_pivot_merged.head()"
   ]
  },
  {
   "cell_type": "code",
   "execution_count": 67,
   "metadata": {},
   "outputs": [
    {
     "data": {
      "text/html": [
       "<div>\n",
       "<style scoped>\n",
       "    .dataframe tbody tr th:only-of-type {\n",
       "        vertical-align: middle;\n",
       "    }\n",
       "\n",
       "    .dataframe tbody tr th {\n",
       "        vertical-align: top;\n",
       "    }\n",
       "\n",
       "    .dataframe thead th {\n",
       "        text-align: right;\n",
       "    }\n",
       "</style>\n",
       "<table border=\"1\" class=\"dataframe\">\n",
       "  <thead>\n",
       "    <tr style=\"text-align: right;\">\n",
       "      <th></th>\n",
       "      <th>Ticker</th>\n",
       "      <th>Acquisition Date</th>\n",
       "      <th>Quantity</th>\n",
       "      <th>Unit Cost</th>\n",
       "      <th>Cost Basis</th>\n",
       "      <th>Start of Year</th>\n",
       "      <th>Latest Date</th>\n",
       "      <th>Ticker Adj Close</th>\n",
       "      <th>ticker return</th>\n",
       "      <th>SP 500 Initial Close</th>\n",
       "      <th>...</th>\n",
       "      <th>SP Start Year Close</th>\n",
       "      <th>Share YTD</th>\n",
       "      <th>SP 500 YTD</th>\n",
       "      <th>Cum Invst</th>\n",
       "      <th>Cum Ticker Returns</th>\n",
       "      <th>Cum SP Returns</th>\n",
       "      <th>Cum Ticker ROI Mult</th>\n",
       "      <th>Closing High Adj Close</th>\n",
       "      <th>Closing High Adj Close Date</th>\n",
       "      <th>Pct off High</th>\n",
       "    </tr>\n",
       "  </thead>\n",
       "  <tbody>\n",
       "    <tr>\n",
       "      <th>0</th>\n",
       "      <td>AAPL</td>\n",
       "      <td>2013-02-07</td>\n",
       "      <td>125</td>\n",
       "      <td>65.40</td>\n",
       "      <td>8175.00</td>\n",
       "      <td>2018-12-28</td>\n",
       "      <td>2019-11-29</td>\n",
       "      <td>267.250000</td>\n",
       "      <td>3.086391</td>\n",
       "      <td>1509.390015</td>\n",
       "      <td>...</td>\n",
       "      <td>2485.73999</td>\n",
       "      <td>0.736321</td>\n",
       "      <td>0.2636</td>\n",
       "      <td>8175.00</td>\n",
       "      <td>33406.250000</td>\n",
       "      <td>17011.846568</td>\n",
       "      <td>4.086391</td>\n",
       "      <td>267.839996</td>\n",
       "      <td>2019-11-27</td>\n",
       "      <td>-0.002203</td>\n",
       "    </tr>\n",
       "    <tr>\n",
       "      <th>1</th>\n",
       "      <td>FB</td>\n",
       "      <td>2013-12-13</td>\n",
       "      <td>150</td>\n",
       "      <td>53.32</td>\n",
       "      <td>7998.00</td>\n",
       "      <td>2018-12-28</td>\n",
       "      <td>2019-11-29</td>\n",
       "      <td>201.639999</td>\n",
       "      <td>2.781695</td>\n",
       "      <td>1775.319946</td>\n",
       "      <td>...</td>\n",
       "      <td>2485.73999</td>\n",
       "      <td>0.513814</td>\n",
       "      <td>0.2636</td>\n",
       "      <td>16173.00</td>\n",
       "      <td>63652.249908</td>\n",
       "      <td>31162.286288</td>\n",
       "      <td>3.935711</td>\n",
       "      <td>217.500000</td>\n",
       "      <td>2018-07-25</td>\n",
       "      <td>-0.072920</td>\n",
       "    </tr>\n",
       "    <tr>\n",
       "      <th>2</th>\n",
       "      <td>JNJ</td>\n",
       "      <td>2014-02-27</td>\n",
       "      <td>100</td>\n",
       "      <td>81.90</td>\n",
       "      <td>8190.00</td>\n",
       "      <td>2018-12-28</td>\n",
       "      <td>2019-11-29</td>\n",
       "      <td>137.490005</td>\n",
       "      <td>0.678755</td>\n",
       "      <td>1854.290039</td>\n",
       "      <td>...</td>\n",
       "      <td>2485.73999</td>\n",
       "      <td>0.110755</td>\n",
       "      <td>0.2636</td>\n",
       "      <td>24363.00</td>\n",
       "      <td>77401.250458</td>\n",
       "      <td>45035.318822</td>\n",
       "      <td>3.177000</td>\n",
       "      <td>143.786758</td>\n",
       "      <td>2018-12-13</td>\n",
       "      <td>-0.043792</td>\n",
       "    </tr>\n",
       "    <tr>\n",
       "      <th>3</th>\n",
       "      <td>MCD</td>\n",
       "      <td>2013-06-04</td>\n",
       "      <td>100</td>\n",
       "      <td>84.99</td>\n",
       "      <td>8499.00</td>\n",
       "      <td>2018-12-28</td>\n",
       "      <td>2019-11-29</td>\n",
       "      <td>194.479996</td>\n",
       "      <td>1.288269</td>\n",
       "      <td>1631.380005</td>\n",
       "      <td>...</td>\n",
       "      <td>2485.73999</td>\n",
       "      <td>0.134504</td>\n",
       "      <td>0.2636</td>\n",
       "      <td>32862.00</td>\n",
       "      <td>96849.250031</td>\n",
       "      <td>61398.881434</td>\n",
       "      <td>2.947150</td>\n",
       "      <td>218.628891</td>\n",
       "      <td>2019-09-06</td>\n",
       "      <td>-0.110456</td>\n",
       "    </tr>\n",
       "    <tr>\n",
       "      <th>4</th>\n",
       "      <td>MTCH</td>\n",
       "      <td>2015-12-14</td>\n",
       "      <td>600</td>\n",
       "      <td>13.63</td>\n",
       "      <td>8178.00</td>\n",
       "      <td>2018-12-28</td>\n",
       "      <td>2019-11-29</td>\n",
       "      <td>70.480003</td>\n",
       "      <td>4.170947</td>\n",
       "      <td>2021.939941</td>\n",
       "      <td>...</td>\n",
       "      <td>2485.73999</td>\n",
       "      <td>0.675303</td>\n",
       "      <td>0.2636</td>\n",
       "      <td>41040.00</td>\n",
       "      <td>139137.252045</td>\n",
       "      <td>74102.984931</td>\n",
       "      <td>3.390284</td>\n",
       "      <td>91.769997</td>\n",
       "      <td>2019-08-07</td>\n",
       "      <td>-0.231993</td>\n",
       "    </tr>\n",
       "    <tr>\n",
       "      <th>5</th>\n",
       "      <td>NFLX</td>\n",
       "      <td>2016-01-14</td>\n",
       "      <td>75</td>\n",
       "      <td>108.71</td>\n",
       "      <td>8153.25</td>\n",
       "      <td>2018-12-28</td>\n",
       "      <td>2019-11-29</td>\n",
       "      <td>314.660004</td>\n",
       "      <td>1.894490</td>\n",
       "      <td>1921.839966</td>\n",
       "      <td>...</td>\n",
       "      <td>2485.73999</td>\n",
       "      <td>0.228757</td>\n",
       "      <td>0.2636</td>\n",
       "      <td>49193.25</td>\n",
       "      <td>162736.752319</td>\n",
       "      <td>87428.337448</td>\n",
       "      <td>3.308111</td>\n",
       "      <td>418.970001</td>\n",
       "      <td>2018-07-09</td>\n",
       "      <td>-0.248968</td>\n",
       "    </tr>\n",
       "    <tr>\n",
       "      <th>6</th>\n",
       "      <td>TWTR</td>\n",
       "      <td>2015-01-05</td>\n",
       "      <td>225</td>\n",
       "      <td>36.38</td>\n",
       "      <td>8185.50</td>\n",
       "      <td>2018-12-28</td>\n",
       "      <td>2019-11-29</td>\n",
       "      <td>30.910000</td>\n",
       "      <td>-0.150357</td>\n",
       "      <td>2020.579956</td>\n",
       "      <td>...</td>\n",
       "      <td>2485.73999</td>\n",
       "      <td>0.087232</td>\n",
       "      <td>0.2636</td>\n",
       "      <td>57378.75</td>\n",
       "      <td>169691.502285</td>\n",
       "      <td>100152.650363</td>\n",
       "      <td>2.957393</td>\n",
       "      <td>52.869999</td>\n",
       "      <td>2015-04-07</td>\n",
       "      <td>-0.415358</td>\n",
       "    </tr>\n",
       "    <tr>\n",
       "      <th>7</th>\n",
       "      <td>WMT</td>\n",
       "      <td>2013-08-14</td>\n",
       "      <td>125</td>\n",
       "      <td>68.30</td>\n",
       "      <td>8537.50</td>\n",
       "      <td>2018-12-28</td>\n",
       "      <td>2019-11-29</td>\n",
       "      <td>119.089996</td>\n",
       "      <td>0.743631</td>\n",
       "      <td>1685.390015</td>\n",
       "      <td>...</td>\n",
       "      <td>2485.73999</td>\n",
       "      <td>0.312920</td>\n",
       "      <td>0.2636</td>\n",
       "      <td>65916.25</td>\n",
       "      <td>184577.751827</td>\n",
       "      <td>116063.576825</td>\n",
       "      <td>2.800186</td>\n",
       "      <td>120.980003</td>\n",
       "      <td>2019-11-13</td>\n",
       "      <td>-0.015622</td>\n",
       "    </tr>\n",
       "  </tbody>\n",
       "</table>\n",
       "<p>8 rows × 30 columns</p>\n",
       "</div>"
      ],
      "text/plain": [
       "  Ticker Acquisition Date  Quantity  Unit Cost  Cost Basis Start of Year  \\\n",
       "0   AAPL       2013-02-07       125      65.40     8175.00    2018-12-28   \n",
       "1     FB       2013-12-13       150      53.32     7998.00    2018-12-28   \n",
       "2    JNJ       2014-02-27       100      81.90     8190.00    2018-12-28   \n",
       "3    MCD       2013-06-04       100      84.99     8499.00    2018-12-28   \n",
       "4   MTCH       2015-12-14       600      13.63     8178.00    2018-12-28   \n",
       "5   NFLX       2016-01-14        75     108.71     8153.25    2018-12-28   \n",
       "6   TWTR       2015-01-05       225      36.38     8185.50    2018-12-28   \n",
       "7    WMT       2013-08-14       125      68.30     8537.50    2018-12-28   \n",
       "\n",
       "  Latest Date  Ticker Adj Close  ticker return  SP 500 Initial Close  ...  \\\n",
       "0  2019-11-29        267.250000       3.086391           1509.390015  ...   \n",
       "1  2019-11-29        201.639999       2.781695           1775.319946  ...   \n",
       "2  2019-11-29        137.490005       0.678755           1854.290039  ...   \n",
       "3  2019-11-29        194.479996       1.288269           1631.380005  ...   \n",
       "4  2019-11-29         70.480003       4.170947           2021.939941  ...   \n",
       "5  2019-11-29        314.660004       1.894490           1921.839966  ...   \n",
       "6  2019-11-29         30.910000      -0.150357           2020.579956  ...   \n",
       "7  2019-11-29        119.089996       0.743631           1685.390015  ...   \n",
       "\n",
       "   SP Start Year Close  Share YTD  SP 500 YTD  Cum Invst  Cum Ticker Returns  \\\n",
       "0           2485.73999   0.736321      0.2636    8175.00        33406.250000   \n",
       "1           2485.73999   0.513814      0.2636   16173.00        63652.249908   \n",
       "2           2485.73999   0.110755      0.2636   24363.00        77401.250458   \n",
       "3           2485.73999   0.134504      0.2636   32862.00        96849.250031   \n",
       "4           2485.73999   0.675303      0.2636   41040.00       139137.252045   \n",
       "5           2485.73999   0.228757      0.2636   49193.25       162736.752319   \n",
       "6           2485.73999   0.087232      0.2636   57378.75       169691.502285   \n",
       "7           2485.73999   0.312920      0.2636   65916.25       184577.751827   \n",
       "\n",
       "   Cum SP Returns  Cum Ticker ROI Mult  Closing High Adj Close  \\\n",
       "0    17011.846568             4.086391              267.839996   \n",
       "1    31162.286288             3.935711              217.500000   \n",
       "2    45035.318822             3.177000              143.786758   \n",
       "3    61398.881434             2.947150              218.628891   \n",
       "4    74102.984931             3.390284               91.769997   \n",
       "5    87428.337448             3.308111              418.970001   \n",
       "6   100152.650363             2.957393               52.869999   \n",
       "7   116063.576825             2.800186              120.980003   \n",
       "\n",
       "   Closing High Adj Close Date  Pct off High  \n",
       "0                   2019-11-27     -0.002203  \n",
       "1                   2018-07-25     -0.072920  \n",
       "2                   2018-12-13     -0.043792  \n",
       "3                   2019-09-06     -0.110456  \n",
       "4                   2019-08-07     -0.231993  \n",
       "5                   2018-07-09     -0.248968  \n",
       "6                   2015-04-07     -0.415358  \n",
       "7                   2019-11-13     -0.015622  \n",
       "\n",
       "[8 rows x 30 columns]"
      ]
     },
     "execution_count": 67,
     "metadata": {},
     "output_type": "execute_result"
    }
   ],
   "source": [
    "merged_portfolio_sp_latest_YTD_sp_closing_high = pd.merge(merged_portfolio_sp_latest_YTD_sp, adj_close_pivot_merged\n",
    "                                             , on=['Ticker', 'Acquisition Date'])\n",
    "\n",
    "merged_portfolio_sp_latest_YTD_sp_closing_high.rename(columns={'Adj Close': 'Closing High Adj Close', 'Date': 'Closing High Adj Close Date'}, inplace=True)\n",
    "\n",
    "merged_portfolio_sp_latest_YTD_sp_closing_high['Pct off High'] = merged_portfolio_sp_latest_YTD_sp_closing_high['Ticker Adj Close'] / merged_portfolio_sp_latest_YTD_sp_closing_high['Closing High Adj Close'] - 1 \n",
    "\n",
    "merged_portfolio_sp_latest_YTD_sp_closing_high"
   ]
  },
  {
   "cell_type": "code",
   "execution_count": 68,
   "metadata": {
    "scrolled": true
   },
   "outputs": [
    {
     "data": {
      "application/vnd.plotly.v1+json": {
       "config": {
        "linkText": "Export to plot.ly",
        "plotlyServerURL": "https://plot.ly",
        "showLink": false
       },
       "data": [
        {
         "name": "Ticker YTD",
         "type": "bar",
         "x": [
          "AAPL",
          "FB",
          "JNJ",
          "MCD",
          "MTCH",
          "NFLX",
          "TWTR",
          "WMT"
         ],
         "y": [
          0.736321034823582,
          0.5138138439147273,
          0.11075457895055085,
          0.13450439450582397,
          0.6753031582646909,
          0.228756717281819,
          0.08723178035931412,
          0.3129199191356413
         ]
        },
        {
         "name": "SP500 YTD",
         "type": "scatter",
         "x": [
          "AAPL",
          "FB",
          "JNJ",
          "MCD",
          "MTCH",
          "NFLX",
          "TWTR",
          "WMT"
         ],
         "y": [
          0.26359956906538473,
          0.26359956906538473,
          0.26359956906538473,
          0.26359956906538473,
          0.26359956906538473,
          0.26359956906538473,
          0.26359956906538473,
          0.26359956906538473
         ]
        }
       ],
       "layout": {
        "barmode": "group",
        "legend": {
         "x": 0.8,
         "y": 1
        },
        "template": {
         "data": {
          "bar": [
           {
            "error_x": {
             "color": "#2a3f5f"
            },
            "error_y": {
             "color": "#2a3f5f"
            },
            "marker": {
             "line": {
              "color": "#E5ECF6",
              "width": 0.5
             }
            },
            "type": "bar"
           }
          ],
          "barpolar": [
           {
            "marker": {
             "line": {
              "color": "#E5ECF6",
              "width": 0.5
             }
            },
            "type": "barpolar"
           }
          ],
          "carpet": [
           {
            "aaxis": {
             "endlinecolor": "#2a3f5f",
             "gridcolor": "white",
             "linecolor": "white",
             "minorgridcolor": "white",
             "startlinecolor": "#2a3f5f"
            },
            "baxis": {
             "endlinecolor": "#2a3f5f",
             "gridcolor": "white",
             "linecolor": "white",
             "minorgridcolor": "white",
             "startlinecolor": "#2a3f5f"
            },
            "type": "carpet"
           }
          ],
          "choropleth": [
           {
            "colorbar": {
             "outlinewidth": 0,
             "ticks": ""
            },
            "type": "choropleth"
           }
          ],
          "contour": [
           {
            "colorbar": {
             "outlinewidth": 0,
             "ticks": ""
            },
            "colorscale": [
             [
              0,
              "#0d0887"
             ],
             [
              0.1111111111111111,
              "#46039f"
             ],
             [
              0.2222222222222222,
              "#7201a8"
             ],
             [
              0.3333333333333333,
              "#9c179e"
             ],
             [
              0.4444444444444444,
              "#bd3786"
             ],
             [
              0.5555555555555556,
              "#d8576b"
             ],
             [
              0.6666666666666666,
              "#ed7953"
             ],
             [
              0.7777777777777778,
              "#fb9f3a"
             ],
             [
              0.8888888888888888,
              "#fdca26"
             ],
             [
              1,
              "#f0f921"
             ]
            ],
            "type": "contour"
           }
          ],
          "contourcarpet": [
           {
            "colorbar": {
             "outlinewidth": 0,
             "ticks": ""
            },
            "type": "contourcarpet"
           }
          ],
          "heatmap": [
           {
            "colorbar": {
             "outlinewidth": 0,
             "ticks": ""
            },
            "colorscale": [
             [
              0,
              "#0d0887"
             ],
             [
              0.1111111111111111,
              "#46039f"
             ],
             [
              0.2222222222222222,
              "#7201a8"
             ],
             [
              0.3333333333333333,
              "#9c179e"
             ],
             [
              0.4444444444444444,
              "#bd3786"
             ],
             [
              0.5555555555555556,
              "#d8576b"
             ],
             [
              0.6666666666666666,
              "#ed7953"
             ],
             [
              0.7777777777777778,
              "#fb9f3a"
             ],
             [
              0.8888888888888888,
              "#fdca26"
             ],
             [
              1,
              "#f0f921"
             ]
            ],
            "type": "heatmap"
           }
          ],
          "heatmapgl": [
           {
            "colorbar": {
             "outlinewidth": 0,
             "ticks": ""
            },
            "colorscale": [
             [
              0,
              "#0d0887"
             ],
             [
              0.1111111111111111,
              "#46039f"
             ],
             [
              0.2222222222222222,
              "#7201a8"
             ],
             [
              0.3333333333333333,
              "#9c179e"
             ],
             [
              0.4444444444444444,
              "#bd3786"
             ],
             [
              0.5555555555555556,
              "#d8576b"
             ],
             [
              0.6666666666666666,
              "#ed7953"
             ],
             [
              0.7777777777777778,
              "#fb9f3a"
             ],
             [
              0.8888888888888888,
              "#fdca26"
             ],
             [
              1,
              "#f0f921"
             ]
            ],
            "type": "heatmapgl"
           }
          ],
          "histogram": [
           {
            "marker": {
             "colorbar": {
              "outlinewidth": 0,
              "ticks": ""
             }
            },
            "type": "histogram"
           }
          ],
          "histogram2d": [
           {
            "colorbar": {
             "outlinewidth": 0,
             "ticks": ""
            },
            "colorscale": [
             [
              0,
              "#0d0887"
             ],
             [
              0.1111111111111111,
              "#46039f"
             ],
             [
              0.2222222222222222,
              "#7201a8"
             ],
             [
              0.3333333333333333,
              "#9c179e"
             ],
             [
              0.4444444444444444,
              "#bd3786"
             ],
             [
              0.5555555555555556,
              "#d8576b"
             ],
             [
              0.6666666666666666,
              "#ed7953"
             ],
             [
              0.7777777777777778,
              "#fb9f3a"
             ],
             [
              0.8888888888888888,
              "#fdca26"
             ],
             [
              1,
              "#f0f921"
             ]
            ],
            "type": "histogram2d"
           }
          ],
          "histogram2dcontour": [
           {
            "colorbar": {
             "outlinewidth": 0,
             "ticks": ""
            },
            "colorscale": [
             [
              0,
              "#0d0887"
             ],
             [
              0.1111111111111111,
              "#46039f"
             ],
             [
              0.2222222222222222,
              "#7201a8"
             ],
             [
              0.3333333333333333,
              "#9c179e"
             ],
             [
              0.4444444444444444,
              "#bd3786"
             ],
             [
              0.5555555555555556,
              "#d8576b"
             ],
             [
              0.6666666666666666,
              "#ed7953"
             ],
             [
              0.7777777777777778,
              "#fb9f3a"
             ],
             [
              0.8888888888888888,
              "#fdca26"
             ],
             [
              1,
              "#f0f921"
             ]
            ],
            "type": "histogram2dcontour"
           }
          ],
          "mesh3d": [
           {
            "colorbar": {
             "outlinewidth": 0,
             "ticks": ""
            },
            "type": "mesh3d"
           }
          ],
          "parcoords": [
           {
            "line": {
             "colorbar": {
              "outlinewidth": 0,
              "ticks": ""
             }
            },
            "type": "parcoords"
           }
          ],
          "pie": [
           {
            "automargin": true,
            "type": "pie"
           }
          ],
          "scatter": [
           {
            "marker": {
             "colorbar": {
              "outlinewidth": 0,
              "ticks": ""
             }
            },
            "type": "scatter"
           }
          ],
          "scatter3d": [
           {
            "line": {
             "colorbar": {
              "outlinewidth": 0,
              "ticks": ""
             }
            },
            "marker": {
             "colorbar": {
              "outlinewidth": 0,
              "ticks": ""
             }
            },
            "type": "scatter3d"
           }
          ],
          "scattercarpet": [
           {
            "marker": {
             "colorbar": {
              "outlinewidth": 0,
              "ticks": ""
             }
            },
            "type": "scattercarpet"
           }
          ],
          "scattergeo": [
           {
            "marker": {
             "colorbar": {
              "outlinewidth": 0,
              "ticks": ""
             }
            },
            "type": "scattergeo"
           }
          ],
          "scattergl": [
           {
            "marker": {
             "colorbar": {
              "outlinewidth": 0,
              "ticks": ""
             }
            },
            "type": "scattergl"
           }
          ],
          "scattermapbox": [
           {
            "marker": {
             "colorbar": {
              "outlinewidth": 0,
              "ticks": ""
             }
            },
            "type": "scattermapbox"
           }
          ],
          "scatterpolar": [
           {
            "marker": {
             "colorbar": {
              "outlinewidth": 0,
              "ticks": ""
             }
            },
            "type": "scatterpolar"
           }
          ],
          "scatterpolargl": [
           {
            "marker": {
             "colorbar": {
              "outlinewidth": 0,
              "ticks": ""
             }
            },
            "type": "scatterpolargl"
           }
          ],
          "scatterternary": [
           {
            "marker": {
             "colorbar": {
              "outlinewidth": 0,
              "ticks": ""
             }
            },
            "type": "scatterternary"
           }
          ],
          "surface": [
           {
            "colorbar": {
             "outlinewidth": 0,
             "ticks": ""
            },
            "colorscale": [
             [
              0,
              "#0d0887"
             ],
             [
              0.1111111111111111,
              "#46039f"
             ],
             [
              0.2222222222222222,
              "#7201a8"
             ],
             [
              0.3333333333333333,
              "#9c179e"
             ],
             [
              0.4444444444444444,
              "#bd3786"
             ],
             [
              0.5555555555555556,
              "#d8576b"
             ],
             [
              0.6666666666666666,
              "#ed7953"
             ],
             [
              0.7777777777777778,
              "#fb9f3a"
             ],
             [
              0.8888888888888888,
              "#fdca26"
             ],
             [
              1,
              "#f0f921"
             ]
            ],
            "type": "surface"
           }
          ],
          "table": [
           {
            "cells": {
             "fill": {
              "color": "#EBF0F8"
             },
             "line": {
              "color": "white"
             }
            },
            "header": {
             "fill": {
              "color": "#C8D4E3"
             },
             "line": {
              "color": "white"
             }
            },
            "type": "table"
           }
          ]
         },
         "layout": {
          "annotationdefaults": {
           "arrowcolor": "#2a3f5f",
           "arrowhead": 0,
           "arrowwidth": 1
          },
          "coloraxis": {
           "colorbar": {
            "outlinewidth": 0,
            "ticks": ""
           }
          },
          "colorscale": {
           "diverging": [
            [
             0,
             "#8e0152"
            ],
            [
             0.1,
             "#c51b7d"
            ],
            [
             0.2,
             "#de77ae"
            ],
            [
             0.3,
             "#f1b6da"
            ],
            [
             0.4,
             "#fde0ef"
            ],
            [
             0.5,
             "#f7f7f7"
            ],
            [
             0.6,
             "#e6f5d0"
            ],
            [
             0.7,
             "#b8e186"
            ],
            [
             0.8,
             "#7fbc41"
            ],
            [
             0.9,
             "#4d9221"
            ],
            [
             1,
             "#276419"
            ]
           ],
           "sequential": [
            [
             0,
             "#0d0887"
            ],
            [
             0.1111111111111111,
             "#46039f"
            ],
            [
             0.2222222222222222,
             "#7201a8"
            ],
            [
             0.3333333333333333,
             "#9c179e"
            ],
            [
             0.4444444444444444,
             "#bd3786"
            ],
            [
             0.5555555555555556,
             "#d8576b"
            ],
            [
             0.6666666666666666,
             "#ed7953"
            ],
            [
             0.7777777777777778,
             "#fb9f3a"
            ],
            [
             0.8888888888888888,
             "#fdca26"
            ],
            [
             1,
             "#f0f921"
            ]
           ],
           "sequentialminus": [
            [
             0,
             "#0d0887"
            ],
            [
             0.1111111111111111,
             "#46039f"
            ],
            [
             0.2222222222222222,
             "#7201a8"
            ],
            [
             0.3333333333333333,
             "#9c179e"
            ],
            [
             0.4444444444444444,
             "#bd3786"
            ],
            [
             0.5555555555555556,
             "#d8576b"
            ],
            [
             0.6666666666666666,
             "#ed7953"
            ],
            [
             0.7777777777777778,
             "#fb9f3a"
            ],
            [
             0.8888888888888888,
             "#fdca26"
            ],
            [
             1,
             "#f0f921"
            ]
           ]
          },
          "colorway": [
           "#636efa",
           "#EF553B",
           "#00cc96",
           "#ab63fa",
           "#FFA15A",
           "#19d3f3",
           "#FF6692",
           "#B6E880",
           "#FF97FF",
           "#FECB52"
          ],
          "font": {
           "color": "#2a3f5f"
          },
          "geo": {
           "bgcolor": "white",
           "lakecolor": "white",
           "landcolor": "#E5ECF6",
           "showlakes": true,
           "showland": true,
           "subunitcolor": "white"
          },
          "hoverlabel": {
           "align": "left"
          },
          "hovermode": "closest",
          "mapbox": {
           "style": "light"
          },
          "paper_bgcolor": "white",
          "plot_bgcolor": "#E5ECF6",
          "polar": {
           "angularaxis": {
            "gridcolor": "white",
            "linecolor": "white",
            "ticks": ""
           },
           "bgcolor": "#E5ECF6",
           "radialaxis": {
            "gridcolor": "white",
            "linecolor": "white",
            "ticks": ""
           }
          },
          "scene": {
           "xaxis": {
            "backgroundcolor": "#E5ECF6",
            "gridcolor": "white",
            "gridwidth": 2,
            "linecolor": "white",
            "showbackground": true,
            "ticks": "",
            "zerolinecolor": "white"
           },
           "yaxis": {
            "backgroundcolor": "#E5ECF6",
            "gridcolor": "white",
            "gridwidth": 2,
            "linecolor": "white",
            "showbackground": true,
            "ticks": "",
            "zerolinecolor": "white"
           },
           "zaxis": {
            "backgroundcolor": "#E5ECF6",
            "gridcolor": "white",
            "gridwidth": 2,
            "linecolor": "white",
            "showbackground": true,
            "ticks": "",
            "zerolinecolor": "white"
           }
          },
          "shapedefaults": {
           "line": {
            "color": "#2a3f5f"
           }
          },
          "ternary": {
           "aaxis": {
            "gridcolor": "white",
            "linecolor": "white",
            "ticks": ""
           },
           "baxis": {
            "gridcolor": "white",
            "linecolor": "white",
            "ticks": ""
           },
           "bgcolor": "#E5ECF6",
           "caxis": {
            "gridcolor": "white",
            "linecolor": "white",
            "ticks": ""
           }
          },
          "title": {
           "x": 0.05
          },
          "xaxis": {
           "automargin": true,
           "gridcolor": "white",
           "linecolor": "white",
           "ticks": "",
           "title": {
            "standoff": 15
           },
           "zerolinecolor": "white",
           "zerolinewidth": 2
          },
          "yaxis": {
           "automargin": true,
           "gridcolor": "white",
           "linecolor": "white",
           "ticks": "",
           "title": {
            "standoff": 15
           },
           "zerolinecolor": "white",
           "zerolinewidth": 2
          }
         }
        },
        "title": {
         "text": "YTD Return vs S&P 500 YTD"
        },
        "xaxis": {
         "title": {
          "text": "Ticker"
         }
        },
        "yaxis": {
         "tickformat": ".2%",
         "title": {
          "text": "Returns"
         }
        }
       }
      },
      "text/html": [
       "<div>\n",
       "        \n",
       "        \n",
       "            <div id=\"21d1d6d0-4b4f-4c45-a077-d342477f7c26\" class=\"plotly-graph-div\" style=\"height:525px; width:100%;\"></div>\n",
       "            <script type=\"text/javascript\">\n",
       "                require([\"plotly\"], function(Plotly) {\n",
       "                    window.PLOTLYENV=window.PLOTLYENV || {};\n",
       "                    \n",
       "                if (document.getElementById(\"21d1d6d0-4b4f-4c45-a077-d342477f7c26\")) {\n",
       "                    Plotly.newPlot(\n",
       "                        '21d1d6d0-4b4f-4c45-a077-d342477f7c26',\n",
       "                        [{\"name\": \"Ticker YTD\", \"type\": \"bar\", \"x\": [\"AAPL\", \"FB\", \"JNJ\", \"MCD\", \"MTCH\", \"NFLX\", \"TWTR\", \"WMT\"], \"y\": [0.736321034823582, 0.5138138439147273, 0.11075457895055085, 0.13450439450582397, 0.6753031582646909, 0.228756717281819, 0.08723178035931412, 0.3129199191356413]}, {\"name\": \"SP500 YTD\", \"type\": \"scatter\", \"x\": [\"AAPL\", \"FB\", \"JNJ\", \"MCD\", \"MTCH\", \"NFLX\", \"TWTR\", \"WMT\"], \"y\": [0.26359956906538473, 0.26359956906538473, 0.26359956906538473, 0.26359956906538473, 0.26359956906538473, 0.26359956906538473, 0.26359956906538473, 0.26359956906538473]}],\n",
       "                        {\"barmode\": \"group\", \"legend\": {\"x\": 0.8, \"y\": 1}, \"template\": {\"data\": {\"bar\": [{\"error_x\": {\"color\": \"#2a3f5f\"}, \"error_y\": {\"color\": \"#2a3f5f\"}, \"marker\": {\"line\": {\"color\": \"#E5ECF6\", \"width\": 0.5}}, \"type\": \"bar\"}], \"barpolar\": [{\"marker\": {\"line\": {\"color\": \"#E5ECF6\", \"width\": 0.5}}, \"type\": \"barpolar\"}], \"carpet\": [{\"aaxis\": {\"endlinecolor\": \"#2a3f5f\", \"gridcolor\": \"white\", \"linecolor\": \"white\", \"minorgridcolor\": \"white\", \"startlinecolor\": \"#2a3f5f\"}, \"baxis\": {\"endlinecolor\": \"#2a3f5f\", \"gridcolor\": \"white\", \"linecolor\": \"white\", \"minorgridcolor\": \"white\", \"startlinecolor\": \"#2a3f5f\"}, \"type\": \"carpet\"}], \"choropleth\": [{\"colorbar\": {\"outlinewidth\": 0, \"ticks\": \"\"}, \"type\": \"choropleth\"}], \"contour\": [{\"colorbar\": {\"outlinewidth\": 0, \"ticks\": \"\"}, \"colorscale\": [[0.0, \"#0d0887\"], [0.1111111111111111, \"#46039f\"], [0.2222222222222222, \"#7201a8\"], [0.3333333333333333, \"#9c179e\"], [0.4444444444444444, \"#bd3786\"], [0.5555555555555556, \"#d8576b\"], [0.6666666666666666, \"#ed7953\"], [0.7777777777777778, \"#fb9f3a\"], [0.8888888888888888, \"#fdca26\"], [1.0, \"#f0f921\"]], \"type\": \"contour\"}], \"contourcarpet\": [{\"colorbar\": {\"outlinewidth\": 0, \"ticks\": \"\"}, \"type\": \"contourcarpet\"}], \"heatmap\": [{\"colorbar\": {\"outlinewidth\": 0, \"ticks\": \"\"}, \"colorscale\": [[0.0, \"#0d0887\"], [0.1111111111111111, \"#46039f\"], [0.2222222222222222, \"#7201a8\"], [0.3333333333333333, \"#9c179e\"], [0.4444444444444444, \"#bd3786\"], [0.5555555555555556, \"#d8576b\"], [0.6666666666666666, \"#ed7953\"], [0.7777777777777778, \"#fb9f3a\"], [0.8888888888888888, \"#fdca26\"], [1.0, \"#f0f921\"]], \"type\": \"heatmap\"}], \"heatmapgl\": [{\"colorbar\": {\"outlinewidth\": 0, \"ticks\": \"\"}, \"colorscale\": [[0.0, \"#0d0887\"], [0.1111111111111111, \"#46039f\"], [0.2222222222222222, \"#7201a8\"], [0.3333333333333333, \"#9c179e\"], [0.4444444444444444, \"#bd3786\"], [0.5555555555555556, \"#d8576b\"], [0.6666666666666666, \"#ed7953\"], [0.7777777777777778, \"#fb9f3a\"], [0.8888888888888888, \"#fdca26\"], [1.0, \"#f0f921\"]], \"type\": \"heatmapgl\"}], \"histogram\": [{\"marker\": {\"colorbar\": {\"outlinewidth\": 0, \"ticks\": \"\"}}, \"type\": \"histogram\"}], \"histogram2d\": [{\"colorbar\": {\"outlinewidth\": 0, \"ticks\": \"\"}, \"colorscale\": [[0.0, \"#0d0887\"], [0.1111111111111111, \"#46039f\"], [0.2222222222222222, \"#7201a8\"], [0.3333333333333333, \"#9c179e\"], [0.4444444444444444, \"#bd3786\"], [0.5555555555555556, \"#d8576b\"], [0.6666666666666666, \"#ed7953\"], [0.7777777777777778, \"#fb9f3a\"], [0.8888888888888888, \"#fdca26\"], [1.0, \"#f0f921\"]], \"type\": \"histogram2d\"}], \"histogram2dcontour\": [{\"colorbar\": {\"outlinewidth\": 0, \"ticks\": \"\"}, \"colorscale\": [[0.0, \"#0d0887\"], [0.1111111111111111, \"#46039f\"], [0.2222222222222222, \"#7201a8\"], [0.3333333333333333, \"#9c179e\"], [0.4444444444444444, \"#bd3786\"], [0.5555555555555556, \"#d8576b\"], [0.6666666666666666, \"#ed7953\"], [0.7777777777777778, \"#fb9f3a\"], [0.8888888888888888, \"#fdca26\"], [1.0, \"#f0f921\"]], \"type\": \"histogram2dcontour\"}], \"mesh3d\": [{\"colorbar\": {\"outlinewidth\": 0, \"ticks\": \"\"}, \"type\": \"mesh3d\"}], \"parcoords\": [{\"line\": {\"colorbar\": {\"outlinewidth\": 0, \"ticks\": \"\"}}, \"type\": \"parcoords\"}], \"pie\": [{\"automargin\": true, \"type\": \"pie\"}], \"scatter\": [{\"marker\": {\"colorbar\": {\"outlinewidth\": 0, \"ticks\": \"\"}}, \"type\": \"scatter\"}], \"scatter3d\": [{\"line\": {\"colorbar\": {\"outlinewidth\": 0, \"ticks\": \"\"}}, \"marker\": {\"colorbar\": {\"outlinewidth\": 0, \"ticks\": \"\"}}, \"type\": \"scatter3d\"}], \"scattercarpet\": [{\"marker\": {\"colorbar\": {\"outlinewidth\": 0, \"ticks\": \"\"}}, \"type\": \"scattercarpet\"}], \"scattergeo\": [{\"marker\": {\"colorbar\": {\"outlinewidth\": 0, \"ticks\": \"\"}}, \"type\": \"scattergeo\"}], \"scattergl\": [{\"marker\": {\"colorbar\": {\"outlinewidth\": 0, \"ticks\": \"\"}}, \"type\": \"scattergl\"}], \"scattermapbox\": [{\"marker\": {\"colorbar\": {\"outlinewidth\": 0, \"ticks\": \"\"}}, \"type\": \"scattermapbox\"}], \"scatterpolar\": [{\"marker\": {\"colorbar\": {\"outlinewidth\": 0, \"ticks\": \"\"}}, \"type\": \"scatterpolar\"}], \"scatterpolargl\": [{\"marker\": {\"colorbar\": {\"outlinewidth\": 0, \"ticks\": \"\"}}, \"type\": \"scatterpolargl\"}], \"scatterternary\": [{\"marker\": {\"colorbar\": {\"outlinewidth\": 0, \"ticks\": \"\"}}, \"type\": \"scatterternary\"}], \"surface\": [{\"colorbar\": {\"outlinewidth\": 0, \"ticks\": \"\"}, \"colorscale\": [[0.0, \"#0d0887\"], [0.1111111111111111, \"#46039f\"], [0.2222222222222222, \"#7201a8\"], [0.3333333333333333, \"#9c179e\"], [0.4444444444444444, \"#bd3786\"], [0.5555555555555556, \"#d8576b\"], [0.6666666666666666, \"#ed7953\"], [0.7777777777777778, \"#fb9f3a\"], [0.8888888888888888, \"#fdca26\"], [1.0, \"#f0f921\"]], \"type\": \"surface\"}], \"table\": [{\"cells\": {\"fill\": {\"color\": \"#EBF0F8\"}, \"line\": {\"color\": \"white\"}}, \"header\": {\"fill\": {\"color\": \"#C8D4E3\"}, \"line\": {\"color\": \"white\"}}, \"type\": \"table\"}]}, \"layout\": {\"annotationdefaults\": {\"arrowcolor\": \"#2a3f5f\", \"arrowhead\": 0, \"arrowwidth\": 1}, \"coloraxis\": {\"colorbar\": {\"outlinewidth\": 0, \"ticks\": \"\"}}, \"colorscale\": {\"diverging\": [[0, \"#8e0152\"], [0.1, \"#c51b7d\"], [0.2, \"#de77ae\"], [0.3, \"#f1b6da\"], [0.4, \"#fde0ef\"], [0.5, \"#f7f7f7\"], [0.6, \"#e6f5d0\"], [0.7, \"#b8e186\"], [0.8, \"#7fbc41\"], [0.9, \"#4d9221\"], [1, \"#276419\"]], \"sequential\": [[0.0, \"#0d0887\"], [0.1111111111111111, \"#46039f\"], [0.2222222222222222, \"#7201a8\"], [0.3333333333333333, \"#9c179e\"], [0.4444444444444444, \"#bd3786\"], [0.5555555555555556, \"#d8576b\"], [0.6666666666666666, \"#ed7953\"], [0.7777777777777778, \"#fb9f3a\"], [0.8888888888888888, \"#fdca26\"], [1.0, \"#f0f921\"]], \"sequentialminus\": [[0.0, \"#0d0887\"], [0.1111111111111111, \"#46039f\"], [0.2222222222222222, \"#7201a8\"], [0.3333333333333333, \"#9c179e\"], [0.4444444444444444, \"#bd3786\"], [0.5555555555555556, \"#d8576b\"], [0.6666666666666666, \"#ed7953\"], [0.7777777777777778, \"#fb9f3a\"], [0.8888888888888888, \"#fdca26\"], [1.0, \"#f0f921\"]]}, \"colorway\": [\"#636efa\", \"#EF553B\", \"#00cc96\", \"#ab63fa\", \"#FFA15A\", \"#19d3f3\", \"#FF6692\", \"#B6E880\", \"#FF97FF\", \"#FECB52\"], \"font\": {\"color\": \"#2a3f5f\"}, \"geo\": {\"bgcolor\": \"white\", \"lakecolor\": \"white\", \"landcolor\": \"#E5ECF6\", \"showlakes\": true, \"showland\": true, \"subunitcolor\": \"white\"}, \"hoverlabel\": {\"align\": \"left\"}, \"hovermode\": \"closest\", \"mapbox\": {\"style\": \"light\"}, \"paper_bgcolor\": \"white\", \"plot_bgcolor\": \"#E5ECF6\", \"polar\": {\"angularaxis\": {\"gridcolor\": \"white\", \"linecolor\": \"white\", \"ticks\": \"\"}, \"bgcolor\": \"#E5ECF6\", \"radialaxis\": {\"gridcolor\": \"white\", \"linecolor\": \"white\", \"ticks\": \"\"}}, \"scene\": {\"xaxis\": {\"backgroundcolor\": \"#E5ECF6\", \"gridcolor\": \"white\", \"gridwidth\": 2, \"linecolor\": \"white\", \"showbackground\": true, \"ticks\": \"\", \"zerolinecolor\": \"white\"}, \"yaxis\": {\"backgroundcolor\": \"#E5ECF6\", \"gridcolor\": \"white\", \"gridwidth\": 2, \"linecolor\": \"white\", \"showbackground\": true, \"ticks\": \"\", \"zerolinecolor\": \"white\"}, \"zaxis\": {\"backgroundcolor\": \"#E5ECF6\", \"gridcolor\": \"white\", \"gridwidth\": 2, \"linecolor\": \"white\", \"showbackground\": true, \"ticks\": \"\", \"zerolinecolor\": \"white\"}}, \"shapedefaults\": {\"line\": {\"color\": \"#2a3f5f\"}}, \"ternary\": {\"aaxis\": {\"gridcolor\": \"white\", \"linecolor\": \"white\", \"ticks\": \"\"}, \"baxis\": {\"gridcolor\": \"white\", \"linecolor\": \"white\", \"ticks\": \"\"}, \"bgcolor\": \"#E5ECF6\", \"caxis\": {\"gridcolor\": \"white\", \"linecolor\": \"white\", \"ticks\": \"\"}}, \"title\": {\"x\": 0.05}, \"xaxis\": {\"automargin\": true, \"gridcolor\": \"white\", \"linecolor\": \"white\", \"ticks\": \"\", \"title\": {\"standoff\": 15}, \"zerolinecolor\": \"white\", \"zerolinewidth\": 2}, \"yaxis\": {\"automargin\": true, \"gridcolor\": \"white\", \"linecolor\": \"white\", \"ticks\": \"\", \"title\": {\"standoff\": 15}, \"zerolinecolor\": \"white\", \"zerolinewidth\": 2}}}, \"title\": {\"text\": \"YTD Return vs S&P 500 YTD\"}, \"xaxis\": {\"title\": {\"text\": \"Ticker\"}}, \"yaxis\": {\"tickformat\": \".2%\", \"title\": {\"text\": \"Returns\"}}},\n",
       "                        {\"responsive\": true}\n",
       "                    ).then(function(){\n",
       "                            \n",
       "var gd = document.getElementById('21d1d6d0-4b4f-4c45-a077-d342477f7c26');\n",
       "var x = new MutationObserver(function (mutations, observer) {{\n",
       "        var display = window.getComputedStyle(gd).display;\n",
       "        if (!display || display === 'none') {{\n",
       "            console.log([gd, 'removed!']);\n",
       "            Plotly.purge(gd);\n",
       "            observer.disconnect();\n",
       "        }}\n",
       "}});\n",
       "\n",
       "// Listen for the removal of the full notebook cells\n",
       "var notebookContainer = gd.closest('#notebook-container');\n",
       "if (notebookContainer) {{\n",
       "    x.observe(notebookContainer, {childList: true});\n",
       "}}\n",
       "\n",
       "// Listen for the clearing of the current output cell\n",
       "var outputEl = gd.closest('.output');\n",
       "if (outputEl) {{\n",
       "    x.observe(outputEl, {childList: true});\n",
       "}}\n",
       "\n",
       "                        })\n",
       "                };\n",
       "                });\n",
       "            </script>\n",
       "        </div>"
      ]
     },
     "metadata": {},
     "output_type": "display_data"
    }
   ],
   "source": [
    "trace1 = go.Bar(\n",
    "    x = merged_portfolio_sp_latest_YTD_sp['Ticker'][0:10],\n",
    "    y = merged_portfolio_sp_latest_YTD_sp['Share YTD'][0:10],\n",
    "    name = 'Ticker YTD')\n",
    "\n",
    "trace2 = go.Scatter(\n",
    "    x = merged_portfolio_sp_latest_YTD_sp['Ticker'][0:10],\n",
    "    y = merged_portfolio_sp_latest_YTD_sp['SP 500 YTD'][0:10],\n",
    "    name = 'SP500 YTD')\n",
    "    \n",
    "data = [trace1, trace2]\n",
    "\n",
    "layout = go.Layout(title = 'YTD Return vs S&P 500 YTD'\n",
    "    , barmode = 'group'\n",
    "    , yaxis=dict(title='Returns', tickformat=\".2%\")\n",
    "    , xaxis=dict(title='Ticker')\n",
    "    , legend=dict(x=.8,y=1)\n",
    "    )\n",
    "\n",
    "fig = go.Figure(data=data, layout=layout)\n",
    "iplot(fig)"
   ]
  },
  {
   "cell_type": "code",
   "execution_count": 69,
   "metadata": {},
   "outputs": [
    {
     "data": {
      "application/vnd.plotly.v1+json": {
       "config": {
        "linkText": "Export to plot.ly",
        "plotlyServerURL": "https://plot.ly",
        "showLink": false
       },
       "data": [
        {
         "name": "Pct off High",
         "type": "bar",
         "x": [
          "AAPL",
          "FB",
          "JNJ",
          "MCD",
          "MTCH",
          "NFLX",
          "TWTR",
          "WMT"
         ],
         "y": [
          -0.002202794003724251,
          -0.07291954303609915,
          -0.04379230047853122,
          -0.1104561028242268,
          -0.23199296136992242,
          -0.24896769996581636,
          -0.415358417403505,
          -0.015622474513137363
         ]
        }
       ],
       "layout": {
        "barmode": "group",
        "legend": {
         "x": 0.8,
         "y": 1
        },
        "template": {
         "data": {
          "bar": [
           {
            "error_x": {
             "color": "#2a3f5f"
            },
            "error_y": {
             "color": "#2a3f5f"
            },
            "marker": {
             "line": {
              "color": "#E5ECF6",
              "width": 0.5
             }
            },
            "type": "bar"
           }
          ],
          "barpolar": [
           {
            "marker": {
             "line": {
              "color": "#E5ECF6",
              "width": 0.5
             }
            },
            "type": "barpolar"
           }
          ],
          "carpet": [
           {
            "aaxis": {
             "endlinecolor": "#2a3f5f",
             "gridcolor": "white",
             "linecolor": "white",
             "minorgridcolor": "white",
             "startlinecolor": "#2a3f5f"
            },
            "baxis": {
             "endlinecolor": "#2a3f5f",
             "gridcolor": "white",
             "linecolor": "white",
             "minorgridcolor": "white",
             "startlinecolor": "#2a3f5f"
            },
            "type": "carpet"
           }
          ],
          "choropleth": [
           {
            "colorbar": {
             "outlinewidth": 0,
             "ticks": ""
            },
            "type": "choropleth"
           }
          ],
          "contour": [
           {
            "colorbar": {
             "outlinewidth": 0,
             "ticks": ""
            },
            "colorscale": [
             [
              0,
              "#0d0887"
             ],
             [
              0.1111111111111111,
              "#46039f"
             ],
             [
              0.2222222222222222,
              "#7201a8"
             ],
             [
              0.3333333333333333,
              "#9c179e"
             ],
             [
              0.4444444444444444,
              "#bd3786"
             ],
             [
              0.5555555555555556,
              "#d8576b"
             ],
             [
              0.6666666666666666,
              "#ed7953"
             ],
             [
              0.7777777777777778,
              "#fb9f3a"
             ],
             [
              0.8888888888888888,
              "#fdca26"
             ],
             [
              1,
              "#f0f921"
             ]
            ],
            "type": "contour"
           }
          ],
          "contourcarpet": [
           {
            "colorbar": {
             "outlinewidth": 0,
             "ticks": ""
            },
            "type": "contourcarpet"
           }
          ],
          "heatmap": [
           {
            "colorbar": {
             "outlinewidth": 0,
             "ticks": ""
            },
            "colorscale": [
             [
              0,
              "#0d0887"
             ],
             [
              0.1111111111111111,
              "#46039f"
             ],
             [
              0.2222222222222222,
              "#7201a8"
             ],
             [
              0.3333333333333333,
              "#9c179e"
             ],
             [
              0.4444444444444444,
              "#bd3786"
             ],
             [
              0.5555555555555556,
              "#d8576b"
             ],
             [
              0.6666666666666666,
              "#ed7953"
             ],
             [
              0.7777777777777778,
              "#fb9f3a"
             ],
             [
              0.8888888888888888,
              "#fdca26"
             ],
             [
              1,
              "#f0f921"
             ]
            ],
            "type": "heatmap"
           }
          ],
          "heatmapgl": [
           {
            "colorbar": {
             "outlinewidth": 0,
             "ticks": ""
            },
            "colorscale": [
             [
              0,
              "#0d0887"
             ],
             [
              0.1111111111111111,
              "#46039f"
             ],
             [
              0.2222222222222222,
              "#7201a8"
             ],
             [
              0.3333333333333333,
              "#9c179e"
             ],
             [
              0.4444444444444444,
              "#bd3786"
             ],
             [
              0.5555555555555556,
              "#d8576b"
             ],
             [
              0.6666666666666666,
              "#ed7953"
             ],
             [
              0.7777777777777778,
              "#fb9f3a"
             ],
             [
              0.8888888888888888,
              "#fdca26"
             ],
             [
              1,
              "#f0f921"
             ]
            ],
            "type": "heatmapgl"
           }
          ],
          "histogram": [
           {
            "marker": {
             "colorbar": {
              "outlinewidth": 0,
              "ticks": ""
             }
            },
            "type": "histogram"
           }
          ],
          "histogram2d": [
           {
            "colorbar": {
             "outlinewidth": 0,
             "ticks": ""
            },
            "colorscale": [
             [
              0,
              "#0d0887"
             ],
             [
              0.1111111111111111,
              "#46039f"
             ],
             [
              0.2222222222222222,
              "#7201a8"
             ],
             [
              0.3333333333333333,
              "#9c179e"
             ],
             [
              0.4444444444444444,
              "#bd3786"
             ],
             [
              0.5555555555555556,
              "#d8576b"
             ],
             [
              0.6666666666666666,
              "#ed7953"
             ],
             [
              0.7777777777777778,
              "#fb9f3a"
             ],
             [
              0.8888888888888888,
              "#fdca26"
             ],
             [
              1,
              "#f0f921"
             ]
            ],
            "type": "histogram2d"
           }
          ],
          "histogram2dcontour": [
           {
            "colorbar": {
             "outlinewidth": 0,
             "ticks": ""
            },
            "colorscale": [
             [
              0,
              "#0d0887"
             ],
             [
              0.1111111111111111,
              "#46039f"
             ],
             [
              0.2222222222222222,
              "#7201a8"
             ],
             [
              0.3333333333333333,
              "#9c179e"
             ],
             [
              0.4444444444444444,
              "#bd3786"
             ],
             [
              0.5555555555555556,
              "#d8576b"
             ],
             [
              0.6666666666666666,
              "#ed7953"
             ],
             [
              0.7777777777777778,
              "#fb9f3a"
             ],
             [
              0.8888888888888888,
              "#fdca26"
             ],
             [
              1,
              "#f0f921"
             ]
            ],
            "type": "histogram2dcontour"
           }
          ],
          "mesh3d": [
           {
            "colorbar": {
             "outlinewidth": 0,
             "ticks": ""
            },
            "type": "mesh3d"
           }
          ],
          "parcoords": [
           {
            "line": {
             "colorbar": {
              "outlinewidth": 0,
              "ticks": ""
             }
            },
            "type": "parcoords"
           }
          ],
          "pie": [
           {
            "automargin": true,
            "type": "pie"
           }
          ],
          "scatter": [
           {
            "marker": {
             "colorbar": {
              "outlinewidth": 0,
              "ticks": ""
             }
            },
            "type": "scatter"
           }
          ],
          "scatter3d": [
           {
            "line": {
             "colorbar": {
              "outlinewidth": 0,
              "ticks": ""
             }
            },
            "marker": {
             "colorbar": {
              "outlinewidth": 0,
              "ticks": ""
             }
            },
            "type": "scatter3d"
           }
          ],
          "scattercarpet": [
           {
            "marker": {
             "colorbar": {
              "outlinewidth": 0,
              "ticks": ""
             }
            },
            "type": "scattercarpet"
           }
          ],
          "scattergeo": [
           {
            "marker": {
             "colorbar": {
              "outlinewidth": 0,
              "ticks": ""
             }
            },
            "type": "scattergeo"
           }
          ],
          "scattergl": [
           {
            "marker": {
             "colorbar": {
              "outlinewidth": 0,
              "ticks": ""
             }
            },
            "type": "scattergl"
           }
          ],
          "scattermapbox": [
           {
            "marker": {
             "colorbar": {
              "outlinewidth": 0,
              "ticks": ""
             }
            },
            "type": "scattermapbox"
           }
          ],
          "scatterpolar": [
           {
            "marker": {
             "colorbar": {
              "outlinewidth": 0,
              "ticks": ""
             }
            },
            "type": "scatterpolar"
           }
          ],
          "scatterpolargl": [
           {
            "marker": {
             "colorbar": {
              "outlinewidth": 0,
              "ticks": ""
             }
            },
            "type": "scatterpolargl"
           }
          ],
          "scatterternary": [
           {
            "marker": {
             "colorbar": {
              "outlinewidth": 0,
              "ticks": ""
             }
            },
            "type": "scatterternary"
           }
          ],
          "surface": [
           {
            "colorbar": {
             "outlinewidth": 0,
             "ticks": ""
            },
            "colorscale": [
             [
              0,
              "#0d0887"
             ],
             [
              0.1111111111111111,
              "#46039f"
             ],
             [
              0.2222222222222222,
              "#7201a8"
             ],
             [
              0.3333333333333333,
              "#9c179e"
             ],
             [
              0.4444444444444444,
              "#bd3786"
             ],
             [
              0.5555555555555556,
              "#d8576b"
             ],
             [
              0.6666666666666666,
              "#ed7953"
             ],
             [
              0.7777777777777778,
              "#fb9f3a"
             ],
             [
              0.8888888888888888,
              "#fdca26"
             ],
             [
              1,
              "#f0f921"
             ]
            ],
            "type": "surface"
           }
          ],
          "table": [
           {
            "cells": {
             "fill": {
              "color": "#EBF0F8"
             },
             "line": {
              "color": "white"
             }
            },
            "header": {
             "fill": {
              "color": "#C8D4E3"
             },
             "line": {
              "color": "white"
             }
            },
            "type": "table"
           }
          ]
         },
         "layout": {
          "annotationdefaults": {
           "arrowcolor": "#2a3f5f",
           "arrowhead": 0,
           "arrowwidth": 1
          },
          "coloraxis": {
           "colorbar": {
            "outlinewidth": 0,
            "ticks": ""
           }
          },
          "colorscale": {
           "diverging": [
            [
             0,
             "#8e0152"
            ],
            [
             0.1,
             "#c51b7d"
            ],
            [
             0.2,
             "#de77ae"
            ],
            [
             0.3,
             "#f1b6da"
            ],
            [
             0.4,
             "#fde0ef"
            ],
            [
             0.5,
             "#f7f7f7"
            ],
            [
             0.6,
             "#e6f5d0"
            ],
            [
             0.7,
             "#b8e186"
            ],
            [
             0.8,
             "#7fbc41"
            ],
            [
             0.9,
             "#4d9221"
            ],
            [
             1,
             "#276419"
            ]
           ],
           "sequential": [
            [
             0,
             "#0d0887"
            ],
            [
             0.1111111111111111,
             "#46039f"
            ],
            [
             0.2222222222222222,
             "#7201a8"
            ],
            [
             0.3333333333333333,
             "#9c179e"
            ],
            [
             0.4444444444444444,
             "#bd3786"
            ],
            [
             0.5555555555555556,
             "#d8576b"
            ],
            [
             0.6666666666666666,
             "#ed7953"
            ],
            [
             0.7777777777777778,
             "#fb9f3a"
            ],
            [
             0.8888888888888888,
             "#fdca26"
            ],
            [
             1,
             "#f0f921"
            ]
           ],
           "sequentialminus": [
            [
             0,
             "#0d0887"
            ],
            [
             0.1111111111111111,
             "#46039f"
            ],
            [
             0.2222222222222222,
             "#7201a8"
            ],
            [
             0.3333333333333333,
             "#9c179e"
            ],
            [
             0.4444444444444444,
             "#bd3786"
            ],
            [
             0.5555555555555556,
             "#d8576b"
            ],
            [
             0.6666666666666666,
             "#ed7953"
            ],
            [
             0.7777777777777778,
             "#fb9f3a"
            ],
            [
             0.8888888888888888,
             "#fdca26"
            ],
            [
             1,
             "#f0f921"
            ]
           ]
          },
          "colorway": [
           "#636efa",
           "#EF553B",
           "#00cc96",
           "#ab63fa",
           "#FFA15A",
           "#19d3f3",
           "#FF6692",
           "#B6E880",
           "#FF97FF",
           "#FECB52"
          ],
          "font": {
           "color": "#2a3f5f"
          },
          "geo": {
           "bgcolor": "white",
           "lakecolor": "white",
           "landcolor": "#E5ECF6",
           "showlakes": true,
           "showland": true,
           "subunitcolor": "white"
          },
          "hoverlabel": {
           "align": "left"
          },
          "hovermode": "closest",
          "mapbox": {
           "style": "light"
          },
          "paper_bgcolor": "white",
          "plot_bgcolor": "#E5ECF6",
          "polar": {
           "angularaxis": {
            "gridcolor": "white",
            "linecolor": "white",
            "ticks": ""
           },
           "bgcolor": "#E5ECF6",
           "radialaxis": {
            "gridcolor": "white",
            "linecolor": "white",
            "ticks": ""
           }
          },
          "scene": {
           "xaxis": {
            "backgroundcolor": "#E5ECF6",
            "gridcolor": "white",
            "gridwidth": 2,
            "linecolor": "white",
            "showbackground": true,
            "ticks": "",
            "zerolinecolor": "white"
           },
           "yaxis": {
            "backgroundcolor": "#E5ECF6",
            "gridcolor": "white",
            "gridwidth": 2,
            "linecolor": "white",
            "showbackground": true,
            "ticks": "",
            "zerolinecolor": "white"
           },
           "zaxis": {
            "backgroundcolor": "#E5ECF6",
            "gridcolor": "white",
            "gridwidth": 2,
            "linecolor": "white",
            "showbackground": true,
            "ticks": "",
            "zerolinecolor": "white"
           }
          },
          "shapedefaults": {
           "line": {
            "color": "#2a3f5f"
           }
          },
          "ternary": {
           "aaxis": {
            "gridcolor": "white",
            "linecolor": "white",
            "ticks": ""
           },
           "baxis": {
            "gridcolor": "white",
            "linecolor": "white",
            "ticks": ""
           },
           "bgcolor": "#E5ECF6",
           "caxis": {
            "gridcolor": "white",
            "linecolor": "white",
            "ticks": ""
           }
          },
          "title": {
           "x": 0.05
          },
          "xaxis": {
           "automargin": true,
           "gridcolor": "white",
           "linecolor": "white",
           "ticks": "",
           "title": {
            "standoff": 15
           },
           "zerolinecolor": "white",
           "zerolinewidth": 2
          },
          "yaxis": {
           "automargin": true,
           "gridcolor": "white",
           "linecolor": "white",
           "ticks": "",
           "title": {
            "standoff": 15
           },
           "zerolinecolor": "white",
           "zerolinewidth": 2
          }
         }
        },
        "title": {
         "text": "Adj Close % off of High"
        },
        "xaxis": {
         "title": {
          "text": "Ticker"
         }
        },
        "yaxis": {
         "tickformat": ".2%",
         "title": {
          "text": "% Below Adj Close High"
         }
        }
       }
      },
      "text/html": [
       "<div>\n",
       "        \n",
       "        \n",
       "            <div id=\"b23e3e7c-ebd9-422a-a0bf-6aad52de6293\" class=\"plotly-graph-div\" style=\"height:525px; width:100%;\"></div>\n",
       "            <script type=\"text/javascript\">\n",
       "                require([\"plotly\"], function(Plotly) {\n",
       "                    window.PLOTLYENV=window.PLOTLYENV || {};\n",
       "                    \n",
       "                if (document.getElementById(\"b23e3e7c-ebd9-422a-a0bf-6aad52de6293\")) {\n",
       "                    Plotly.newPlot(\n",
       "                        'b23e3e7c-ebd9-422a-a0bf-6aad52de6293',\n",
       "                        [{\"name\": \"Pct off High\", \"type\": \"bar\", \"x\": [\"AAPL\", \"FB\", \"JNJ\", \"MCD\", \"MTCH\", \"NFLX\", \"TWTR\", \"WMT\"], \"y\": [-0.002202794003724251, -0.07291954303609915, -0.04379230047853122, -0.1104561028242268, -0.23199296136992242, -0.24896769996581636, -0.415358417403505, -0.015622474513137363]}],\n",
       "                        {\"barmode\": \"group\", \"legend\": {\"x\": 0.8, \"y\": 1}, \"template\": {\"data\": {\"bar\": [{\"error_x\": {\"color\": \"#2a3f5f\"}, \"error_y\": {\"color\": \"#2a3f5f\"}, \"marker\": {\"line\": {\"color\": \"#E5ECF6\", \"width\": 0.5}}, \"type\": \"bar\"}], \"barpolar\": [{\"marker\": {\"line\": {\"color\": \"#E5ECF6\", \"width\": 0.5}}, \"type\": \"barpolar\"}], \"carpet\": [{\"aaxis\": {\"endlinecolor\": \"#2a3f5f\", \"gridcolor\": \"white\", \"linecolor\": \"white\", \"minorgridcolor\": \"white\", \"startlinecolor\": \"#2a3f5f\"}, \"baxis\": {\"endlinecolor\": \"#2a3f5f\", \"gridcolor\": \"white\", \"linecolor\": \"white\", \"minorgridcolor\": \"white\", \"startlinecolor\": \"#2a3f5f\"}, \"type\": \"carpet\"}], \"choropleth\": [{\"colorbar\": {\"outlinewidth\": 0, \"ticks\": \"\"}, \"type\": \"choropleth\"}], \"contour\": [{\"colorbar\": {\"outlinewidth\": 0, \"ticks\": \"\"}, \"colorscale\": [[0.0, \"#0d0887\"], [0.1111111111111111, \"#46039f\"], [0.2222222222222222, \"#7201a8\"], [0.3333333333333333, \"#9c179e\"], [0.4444444444444444, \"#bd3786\"], [0.5555555555555556, \"#d8576b\"], [0.6666666666666666, \"#ed7953\"], [0.7777777777777778, \"#fb9f3a\"], [0.8888888888888888, \"#fdca26\"], [1.0, \"#f0f921\"]], \"type\": \"contour\"}], \"contourcarpet\": [{\"colorbar\": {\"outlinewidth\": 0, \"ticks\": \"\"}, \"type\": \"contourcarpet\"}], \"heatmap\": [{\"colorbar\": {\"outlinewidth\": 0, \"ticks\": \"\"}, \"colorscale\": [[0.0, \"#0d0887\"], [0.1111111111111111, \"#46039f\"], [0.2222222222222222, \"#7201a8\"], [0.3333333333333333, \"#9c179e\"], [0.4444444444444444, \"#bd3786\"], [0.5555555555555556, \"#d8576b\"], [0.6666666666666666, \"#ed7953\"], [0.7777777777777778, \"#fb9f3a\"], [0.8888888888888888, \"#fdca26\"], [1.0, \"#f0f921\"]], \"type\": \"heatmap\"}], \"heatmapgl\": [{\"colorbar\": {\"outlinewidth\": 0, \"ticks\": \"\"}, \"colorscale\": [[0.0, \"#0d0887\"], [0.1111111111111111, \"#46039f\"], [0.2222222222222222, \"#7201a8\"], [0.3333333333333333, \"#9c179e\"], [0.4444444444444444, \"#bd3786\"], [0.5555555555555556, \"#d8576b\"], [0.6666666666666666, \"#ed7953\"], [0.7777777777777778, \"#fb9f3a\"], [0.8888888888888888, \"#fdca26\"], [1.0, \"#f0f921\"]], \"type\": \"heatmapgl\"}], \"histogram\": [{\"marker\": {\"colorbar\": {\"outlinewidth\": 0, \"ticks\": \"\"}}, \"type\": \"histogram\"}], \"histogram2d\": [{\"colorbar\": {\"outlinewidth\": 0, \"ticks\": \"\"}, \"colorscale\": [[0.0, \"#0d0887\"], [0.1111111111111111, \"#46039f\"], [0.2222222222222222, \"#7201a8\"], [0.3333333333333333, \"#9c179e\"], [0.4444444444444444, \"#bd3786\"], [0.5555555555555556, \"#d8576b\"], [0.6666666666666666, \"#ed7953\"], [0.7777777777777778, \"#fb9f3a\"], [0.8888888888888888, \"#fdca26\"], [1.0, \"#f0f921\"]], \"type\": \"histogram2d\"}], \"histogram2dcontour\": [{\"colorbar\": {\"outlinewidth\": 0, \"ticks\": \"\"}, \"colorscale\": [[0.0, \"#0d0887\"], [0.1111111111111111, \"#46039f\"], [0.2222222222222222, \"#7201a8\"], [0.3333333333333333, \"#9c179e\"], [0.4444444444444444, \"#bd3786\"], [0.5555555555555556, \"#d8576b\"], [0.6666666666666666, \"#ed7953\"], [0.7777777777777778, \"#fb9f3a\"], [0.8888888888888888, \"#fdca26\"], [1.0, \"#f0f921\"]], \"type\": \"histogram2dcontour\"}], \"mesh3d\": [{\"colorbar\": {\"outlinewidth\": 0, \"ticks\": \"\"}, \"type\": \"mesh3d\"}], \"parcoords\": [{\"line\": {\"colorbar\": {\"outlinewidth\": 0, \"ticks\": \"\"}}, \"type\": \"parcoords\"}], \"pie\": [{\"automargin\": true, \"type\": \"pie\"}], \"scatter\": [{\"marker\": {\"colorbar\": {\"outlinewidth\": 0, \"ticks\": \"\"}}, \"type\": \"scatter\"}], \"scatter3d\": [{\"line\": {\"colorbar\": {\"outlinewidth\": 0, \"ticks\": \"\"}}, \"marker\": {\"colorbar\": {\"outlinewidth\": 0, \"ticks\": \"\"}}, \"type\": \"scatter3d\"}], \"scattercarpet\": [{\"marker\": {\"colorbar\": {\"outlinewidth\": 0, \"ticks\": \"\"}}, \"type\": \"scattercarpet\"}], \"scattergeo\": [{\"marker\": {\"colorbar\": {\"outlinewidth\": 0, \"ticks\": \"\"}}, \"type\": \"scattergeo\"}], \"scattergl\": [{\"marker\": {\"colorbar\": {\"outlinewidth\": 0, \"ticks\": \"\"}}, \"type\": \"scattergl\"}], \"scattermapbox\": [{\"marker\": {\"colorbar\": {\"outlinewidth\": 0, \"ticks\": \"\"}}, \"type\": \"scattermapbox\"}], \"scatterpolar\": [{\"marker\": {\"colorbar\": {\"outlinewidth\": 0, \"ticks\": \"\"}}, \"type\": \"scatterpolar\"}], \"scatterpolargl\": [{\"marker\": {\"colorbar\": {\"outlinewidth\": 0, \"ticks\": \"\"}}, \"type\": \"scatterpolargl\"}], \"scatterternary\": [{\"marker\": {\"colorbar\": {\"outlinewidth\": 0, \"ticks\": \"\"}}, \"type\": \"scatterternary\"}], \"surface\": [{\"colorbar\": {\"outlinewidth\": 0, \"ticks\": \"\"}, \"colorscale\": [[0.0, \"#0d0887\"], [0.1111111111111111, \"#46039f\"], [0.2222222222222222, \"#7201a8\"], [0.3333333333333333, \"#9c179e\"], [0.4444444444444444, \"#bd3786\"], [0.5555555555555556, \"#d8576b\"], [0.6666666666666666, \"#ed7953\"], [0.7777777777777778, \"#fb9f3a\"], [0.8888888888888888, \"#fdca26\"], [1.0, \"#f0f921\"]], \"type\": \"surface\"}], \"table\": [{\"cells\": {\"fill\": {\"color\": \"#EBF0F8\"}, \"line\": {\"color\": \"white\"}}, \"header\": {\"fill\": {\"color\": \"#C8D4E3\"}, \"line\": {\"color\": \"white\"}}, \"type\": \"table\"}]}, \"layout\": {\"annotationdefaults\": {\"arrowcolor\": \"#2a3f5f\", \"arrowhead\": 0, \"arrowwidth\": 1}, \"coloraxis\": {\"colorbar\": {\"outlinewidth\": 0, \"ticks\": \"\"}}, \"colorscale\": {\"diverging\": [[0, \"#8e0152\"], [0.1, \"#c51b7d\"], [0.2, \"#de77ae\"], [0.3, \"#f1b6da\"], [0.4, \"#fde0ef\"], [0.5, \"#f7f7f7\"], [0.6, \"#e6f5d0\"], [0.7, \"#b8e186\"], [0.8, \"#7fbc41\"], [0.9, \"#4d9221\"], [1, \"#276419\"]], \"sequential\": [[0.0, \"#0d0887\"], [0.1111111111111111, \"#46039f\"], [0.2222222222222222, \"#7201a8\"], [0.3333333333333333, \"#9c179e\"], [0.4444444444444444, \"#bd3786\"], [0.5555555555555556, \"#d8576b\"], [0.6666666666666666, \"#ed7953\"], [0.7777777777777778, \"#fb9f3a\"], [0.8888888888888888, \"#fdca26\"], [1.0, \"#f0f921\"]], \"sequentialminus\": [[0.0, \"#0d0887\"], [0.1111111111111111, \"#46039f\"], [0.2222222222222222, \"#7201a8\"], [0.3333333333333333, \"#9c179e\"], [0.4444444444444444, \"#bd3786\"], [0.5555555555555556, \"#d8576b\"], [0.6666666666666666, \"#ed7953\"], [0.7777777777777778, \"#fb9f3a\"], [0.8888888888888888, \"#fdca26\"], [1.0, \"#f0f921\"]]}, \"colorway\": [\"#636efa\", \"#EF553B\", \"#00cc96\", \"#ab63fa\", \"#FFA15A\", \"#19d3f3\", \"#FF6692\", \"#B6E880\", \"#FF97FF\", \"#FECB52\"], \"font\": {\"color\": \"#2a3f5f\"}, \"geo\": {\"bgcolor\": \"white\", \"lakecolor\": \"white\", \"landcolor\": \"#E5ECF6\", \"showlakes\": true, \"showland\": true, \"subunitcolor\": \"white\"}, \"hoverlabel\": {\"align\": \"left\"}, \"hovermode\": \"closest\", \"mapbox\": {\"style\": \"light\"}, \"paper_bgcolor\": \"white\", \"plot_bgcolor\": \"#E5ECF6\", \"polar\": {\"angularaxis\": {\"gridcolor\": \"white\", \"linecolor\": \"white\", \"ticks\": \"\"}, \"bgcolor\": \"#E5ECF6\", \"radialaxis\": {\"gridcolor\": \"white\", \"linecolor\": \"white\", \"ticks\": \"\"}}, \"scene\": {\"xaxis\": {\"backgroundcolor\": \"#E5ECF6\", \"gridcolor\": \"white\", \"gridwidth\": 2, \"linecolor\": \"white\", \"showbackground\": true, \"ticks\": \"\", \"zerolinecolor\": \"white\"}, \"yaxis\": {\"backgroundcolor\": \"#E5ECF6\", \"gridcolor\": \"white\", \"gridwidth\": 2, \"linecolor\": \"white\", \"showbackground\": true, \"ticks\": \"\", \"zerolinecolor\": \"white\"}, \"zaxis\": {\"backgroundcolor\": \"#E5ECF6\", \"gridcolor\": \"white\", \"gridwidth\": 2, \"linecolor\": \"white\", \"showbackground\": true, \"ticks\": \"\", \"zerolinecolor\": \"white\"}}, \"shapedefaults\": {\"line\": {\"color\": \"#2a3f5f\"}}, \"ternary\": {\"aaxis\": {\"gridcolor\": \"white\", \"linecolor\": \"white\", \"ticks\": \"\"}, \"baxis\": {\"gridcolor\": \"white\", \"linecolor\": \"white\", \"ticks\": \"\"}, \"bgcolor\": \"#E5ECF6\", \"caxis\": {\"gridcolor\": \"white\", \"linecolor\": \"white\", \"ticks\": \"\"}}, \"title\": {\"x\": 0.05}, \"xaxis\": {\"automargin\": true, \"gridcolor\": \"white\", \"linecolor\": \"white\", \"ticks\": \"\", \"title\": {\"standoff\": 15}, \"zerolinecolor\": \"white\", \"zerolinewidth\": 2}, \"yaxis\": {\"automargin\": true, \"gridcolor\": \"white\", \"linecolor\": \"white\", \"ticks\": \"\", \"title\": {\"standoff\": 15}, \"zerolinecolor\": \"white\", \"zerolinewidth\": 2}}}, \"title\": {\"text\": \"Adj Close % off of High\"}, \"xaxis\": {\"title\": {\"text\": \"Ticker\"}}, \"yaxis\": {\"tickformat\": \".2%\", \"title\": {\"text\": \"% Below Adj Close High\"}}},\n",
       "                        {\"responsive\": true}\n",
       "                    ).then(function(){\n",
       "                            \n",
       "var gd = document.getElementById('b23e3e7c-ebd9-422a-a0bf-6aad52de6293');\n",
       "var x = new MutationObserver(function (mutations, observer) {{\n",
       "        var display = window.getComputedStyle(gd).display;\n",
       "        if (!display || display === 'none') {{\n",
       "            console.log([gd, 'removed!']);\n",
       "            Plotly.purge(gd);\n",
       "            observer.disconnect();\n",
       "        }}\n",
       "}});\n",
       "\n",
       "// Listen for the removal of the full notebook cells\n",
       "var notebookContainer = gd.closest('#notebook-container');\n",
       "if (notebookContainer) {{\n",
       "    x.observe(notebookContainer, {childList: true});\n",
       "}}\n",
       "\n",
       "// Listen for the clearing of the current output cell\n",
       "var outputEl = gd.closest('.output');\n",
       "if (outputEl) {{\n",
       "    x.observe(outputEl, {childList: true});\n",
       "}}\n",
       "\n",
       "                        })\n",
       "                };\n",
       "                });\n",
       "            </script>\n",
       "        </div>"
      ]
     },
     "metadata": {},
     "output_type": "display_data"
    }
   ],
   "source": [
    "trace1 = go.Bar(\n",
    "    x = merged_portfolio_sp_latest_YTD_sp_closing_high['Ticker'][0:10],\n",
    "    y = merged_portfolio_sp_latest_YTD_sp_closing_high['Pct off High'][0:10],\n",
    "    name = 'Pct off High')\n",
    "    \n",
    "data = [trace1]\n",
    "\n",
    "layout = go.Layout(title = 'Adj Close % off of High'\n",
    "    , barmode = 'group'\n",
    "    , yaxis=dict(title='% Below Adj Close High', tickformat=\".2%\")\n",
    "    , xaxis=dict(title='Ticker')\n",
    "    , legend=dict(x=.8,y=1)\n",
    "    )\n",
    "\n",
    "fig = go.Figure(data=data, layout=layout)\n",
    "iplot(fig)"
   ]
  },
  {
   "cell_type": "code",
   "execution_count": 70,
   "metadata": {},
   "outputs": [
    {
     "data": {
      "application/vnd.plotly.v1+json": {
       "config": {
        "linkText": "Export to plot.ly",
        "plotlyServerURL": "https://plot.ly",
        "showLink": false
       },
       "data": [
        {
         "name": "Ticker Total Return",
         "type": "bar",
         "x": [
          "AAPL",
          "FB",
          "JNJ",
          "MCD",
          "MTCH",
          "NFLX",
          "TWTR",
          "WMT"
         ],
         "y": [
          3.086391437308868,
          2.7816954124090105,
          0.6787546458261788,
          1.2882691578719738,
          4.170946687962846,
          1.8944899610165522,
          -0.15035734339164086,
          0.7436309859134793
         ]
        },
        {
         "name": "SP500 Total Return",
         "type": "scatter",
         "x": [
          "AAPL",
          "FB",
          "JNJ",
          "MCD",
          "MTCH",
          "NFLX",
          "TWTR",
          "WMT"
         ],
         "y": [
          1.0809598248205834,
          0.7692472768270959,
          0.6938989663433559,
          0.9253515251306375,
          0.5534487034685178,
          0.6343608397841094,
          0.5544942782673721,
          0.8636517086070075
         ]
        }
       ],
       "layout": {
        "barmode": "group",
        "legend": {
         "x": 0.8,
         "y": 1
        },
        "template": {
         "data": {
          "bar": [
           {
            "error_x": {
             "color": "#2a3f5f"
            },
            "error_y": {
             "color": "#2a3f5f"
            },
            "marker": {
             "line": {
              "color": "#E5ECF6",
              "width": 0.5
             }
            },
            "type": "bar"
           }
          ],
          "barpolar": [
           {
            "marker": {
             "line": {
              "color": "#E5ECF6",
              "width": 0.5
             }
            },
            "type": "barpolar"
           }
          ],
          "carpet": [
           {
            "aaxis": {
             "endlinecolor": "#2a3f5f",
             "gridcolor": "white",
             "linecolor": "white",
             "minorgridcolor": "white",
             "startlinecolor": "#2a3f5f"
            },
            "baxis": {
             "endlinecolor": "#2a3f5f",
             "gridcolor": "white",
             "linecolor": "white",
             "minorgridcolor": "white",
             "startlinecolor": "#2a3f5f"
            },
            "type": "carpet"
           }
          ],
          "choropleth": [
           {
            "colorbar": {
             "outlinewidth": 0,
             "ticks": ""
            },
            "type": "choropleth"
           }
          ],
          "contour": [
           {
            "colorbar": {
             "outlinewidth": 0,
             "ticks": ""
            },
            "colorscale": [
             [
              0,
              "#0d0887"
             ],
             [
              0.1111111111111111,
              "#46039f"
             ],
             [
              0.2222222222222222,
              "#7201a8"
             ],
             [
              0.3333333333333333,
              "#9c179e"
             ],
             [
              0.4444444444444444,
              "#bd3786"
             ],
             [
              0.5555555555555556,
              "#d8576b"
             ],
             [
              0.6666666666666666,
              "#ed7953"
             ],
             [
              0.7777777777777778,
              "#fb9f3a"
             ],
             [
              0.8888888888888888,
              "#fdca26"
             ],
             [
              1,
              "#f0f921"
             ]
            ],
            "type": "contour"
           }
          ],
          "contourcarpet": [
           {
            "colorbar": {
             "outlinewidth": 0,
             "ticks": ""
            },
            "type": "contourcarpet"
           }
          ],
          "heatmap": [
           {
            "colorbar": {
             "outlinewidth": 0,
             "ticks": ""
            },
            "colorscale": [
             [
              0,
              "#0d0887"
             ],
             [
              0.1111111111111111,
              "#46039f"
             ],
             [
              0.2222222222222222,
              "#7201a8"
             ],
             [
              0.3333333333333333,
              "#9c179e"
             ],
             [
              0.4444444444444444,
              "#bd3786"
             ],
             [
              0.5555555555555556,
              "#d8576b"
             ],
             [
              0.6666666666666666,
              "#ed7953"
             ],
             [
              0.7777777777777778,
              "#fb9f3a"
             ],
             [
              0.8888888888888888,
              "#fdca26"
             ],
             [
              1,
              "#f0f921"
             ]
            ],
            "type": "heatmap"
           }
          ],
          "heatmapgl": [
           {
            "colorbar": {
             "outlinewidth": 0,
             "ticks": ""
            },
            "colorscale": [
             [
              0,
              "#0d0887"
             ],
             [
              0.1111111111111111,
              "#46039f"
             ],
             [
              0.2222222222222222,
              "#7201a8"
             ],
             [
              0.3333333333333333,
              "#9c179e"
             ],
             [
              0.4444444444444444,
              "#bd3786"
             ],
             [
              0.5555555555555556,
              "#d8576b"
             ],
             [
              0.6666666666666666,
              "#ed7953"
             ],
             [
              0.7777777777777778,
              "#fb9f3a"
             ],
             [
              0.8888888888888888,
              "#fdca26"
             ],
             [
              1,
              "#f0f921"
             ]
            ],
            "type": "heatmapgl"
           }
          ],
          "histogram": [
           {
            "marker": {
             "colorbar": {
              "outlinewidth": 0,
              "ticks": ""
             }
            },
            "type": "histogram"
           }
          ],
          "histogram2d": [
           {
            "colorbar": {
             "outlinewidth": 0,
             "ticks": ""
            },
            "colorscale": [
             [
              0,
              "#0d0887"
             ],
             [
              0.1111111111111111,
              "#46039f"
             ],
             [
              0.2222222222222222,
              "#7201a8"
             ],
             [
              0.3333333333333333,
              "#9c179e"
             ],
             [
              0.4444444444444444,
              "#bd3786"
             ],
             [
              0.5555555555555556,
              "#d8576b"
             ],
             [
              0.6666666666666666,
              "#ed7953"
             ],
             [
              0.7777777777777778,
              "#fb9f3a"
             ],
             [
              0.8888888888888888,
              "#fdca26"
             ],
             [
              1,
              "#f0f921"
             ]
            ],
            "type": "histogram2d"
           }
          ],
          "histogram2dcontour": [
           {
            "colorbar": {
             "outlinewidth": 0,
             "ticks": ""
            },
            "colorscale": [
             [
              0,
              "#0d0887"
             ],
             [
              0.1111111111111111,
              "#46039f"
             ],
             [
              0.2222222222222222,
              "#7201a8"
             ],
             [
              0.3333333333333333,
              "#9c179e"
             ],
             [
              0.4444444444444444,
              "#bd3786"
             ],
             [
              0.5555555555555556,
              "#d8576b"
             ],
             [
              0.6666666666666666,
              "#ed7953"
             ],
             [
              0.7777777777777778,
              "#fb9f3a"
             ],
             [
              0.8888888888888888,
              "#fdca26"
             ],
             [
              1,
              "#f0f921"
             ]
            ],
            "type": "histogram2dcontour"
           }
          ],
          "mesh3d": [
           {
            "colorbar": {
             "outlinewidth": 0,
             "ticks": ""
            },
            "type": "mesh3d"
           }
          ],
          "parcoords": [
           {
            "line": {
             "colorbar": {
              "outlinewidth": 0,
              "ticks": ""
             }
            },
            "type": "parcoords"
           }
          ],
          "pie": [
           {
            "automargin": true,
            "type": "pie"
           }
          ],
          "scatter": [
           {
            "marker": {
             "colorbar": {
              "outlinewidth": 0,
              "ticks": ""
             }
            },
            "type": "scatter"
           }
          ],
          "scatter3d": [
           {
            "line": {
             "colorbar": {
              "outlinewidth": 0,
              "ticks": ""
             }
            },
            "marker": {
             "colorbar": {
              "outlinewidth": 0,
              "ticks": ""
             }
            },
            "type": "scatter3d"
           }
          ],
          "scattercarpet": [
           {
            "marker": {
             "colorbar": {
              "outlinewidth": 0,
              "ticks": ""
             }
            },
            "type": "scattercarpet"
           }
          ],
          "scattergeo": [
           {
            "marker": {
             "colorbar": {
              "outlinewidth": 0,
              "ticks": ""
             }
            },
            "type": "scattergeo"
           }
          ],
          "scattergl": [
           {
            "marker": {
             "colorbar": {
              "outlinewidth": 0,
              "ticks": ""
             }
            },
            "type": "scattergl"
           }
          ],
          "scattermapbox": [
           {
            "marker": {
             "colorbar": {
              "outlinewidth": 0,
              "ticks": ""
             }
            },
            "type": "scattermapbox"
           }
          ],
          "scatterpolar": [
           {
            "marker": {
             "colorbar": {
              "outlinewidth": 0,
              "ticks": ""
             }
            },
            "type": "scatterpolar"
           }
          ],
          "scatterpolargl": [
           {
            "marker": {
             "colorbar": {
              "outlinewidth": 0,
              "ticks": ""
             }
            },
            "type": "scatterpolargl"
           }
          ],
          "scatterternary": [
           {
            "marker": {
             "colorbar": {
              "outlinewidth": 0,
              "ticks": ""
             }
            },
            "type": "scatterternary"
           }
          ],
          "surface": [
           {
            "colorbar": {
             "outlinewidth": 0,
             "ticks": ""
            },
            "colorscale": [
             [
              0,
              "#0d0887"
             ],
             [
              0.1111111111111111,
              "#46039f"
             ],
             [
              0.2222222222222222,
              "#7201a8"
             ],
             [
              0.3333333333333333,
              "#9c179e"
             ],
             [
              0.4444444444444444,
              "#bd3786"
             ],
             [
              0.5555555555555556,
              "#d8576b"
             ],
             [
              0.6666666666666666,
              "#ed7953"
             ],
             [
              0.7777777777777778,
              "#fb9f3a"
             ],
             [
              0.8888888888888888,
              "#fdca26"
             ],
             [
              1,
              "#f0f921"
             ]
            ],
            "type": "surface"
           }
          ],
          "table": [
           {
            "cells": {
             "fill": {
              "color": "#EBF0F8"
             },
             "line": {
              "color": "white"
             }
            },
            "header": {
             "fill": {
              "color": "#C8D4E3"
             },
             "line": {
              "color": "white"
             }
            },
            "type": "table"
           }
          ]
         },
         "layout": {
          "annotationdefaults": {
           "arrowcolor": "#2a3f5f",
           "arrowhead": 0,
           "arrowwidth": 1
          },
          "coloraxis": {
           "colorbar": {
            "outlinewidth": 0,
            "ticks": ""
           }
          },
          "colorscale": {
           "diverging": [
            [
             0,
             "#8e0152"
            ],
            [
             0.1,
             "#c51b7d"
            ],
            [
             0.2,
             "#de77ae"
            ],
            [
             0.3,
             "#f1b6da"
            ],
            [
             0.4,
             "#fde0ef"
            ],
            [
             0.5,
             "#f7f7f7"
            ],
            [
             0.6,
             "#e6f5d0"
            ],
            [
             0.7,
             "#b8e186"
            ],
            [
             0.8,
             "#7fbc41"
            ],
            [
             0.9,
             "#4d9221"
            ],
            [
             1,
             "#276419"
            ]
           ],
           "sequential": [
            [
             0,
             "#0d0887"
            ],
            [
             0.1111111111111111,
             "#46039f"
            ],
            [
             0.2222222222222222,
             "#7201a8"
            ],
            [
             0.3333333333333333,
             "#9c179e"
            ],
            [
             0.4444444444444444,
             "#bd3786"
            ],
            [
             0.5555555555555556,
             "#d8576b"
            ],
            [
             0.6666666666666666,
             "#ed7953"
            ],
            [
             0.7777777777777778,
             "#fb9f3a"
            ],
            [
             0.8888888888888888,
             "#fdca26"
            ],
            [
             1,
             "#f0f921"
            ]
           ],
           "sequentialminus": [
            [
             0,
             "#0d0887"
            ],
            [
             0.1111111111111111,
             "#46039f"
            ],
            [
             0.2222222222222222,
             "#7201a8"
            ],
            [
             0.3333333333333333,
             "#9c179e"
            ],
            [
             0.4444444444444444,
             "#bd3786"
            ],
            [
             0.5555555555555556,
             "#d8576b"
            ],
            [
             0.6666666666666666,
             "#ed7953"
            ],
            [
             0.7777777777777778,
             "#fb9f3a"
            ],
            [
             0.8888888888888888,
             "#fdca26"
            ],
            [
             1,
             "#f0f921"
            ]
           ]
          },
          "colorway": [
           "#636efa",
           "#EF553B",
           "#00cc96",
           "#ab63fa",
           "#FFA15A",
           "#19d3f3",
           "#FF6692",
           "#B6E880",
           "#FF97FF",
           "#FECB52"
          ],
          "font": {
           "color": "#2a3f5f"
          },
          "geo": {
           "bgcolor": "white",
           "lakecolor": "white",
           "landcolor": "#E5ECF6",
           "showlakes": true,
           "showland": true,
           "subunitcolor": "white"
          },
          "hoverlabel": {
           "align": "left"
          },
          "hovermode": "closest",
          "mapbox": {
           "style": "light"
          },
          "paper_bgcolor": "white",
          "plot_bgcolor": "#E5ECF6",
          "polar": {
           "angularaxis": {
            "gridcolor": "white",
            "linecolor": "white",
            "ticks": ""
           },
           "bgcolor": "#E5ECF6",
           "radialaxis": {
            "gridcolor": "white",
            "linecolor": "white",
            "ticks": ""
           }
          },
          "scene": {
           "xaxis": {
            "backgroundcolor": "#E5ECF6",
            "gridcolor": "white",
            "gridwidth": 2,
            "linecolor": "white",
            "showbackground": true,
            "ticks": "",
            "zerolinecolor": "white"
           },
           "yaxis": {
            "backgroundcolor": "#E5ECF6",
            "gridcolor": "white",
            "gridwidth": 2,
            "linecolor": "white",
            "showbackground": true,
            "ticks": "",
            "zerolinecolor": "white"
           },
           "zaxis": {
            "backgroundcolor": "#E5ECF6",
            "gridcolor": "white",
            "gridwidth": 2,
            "linecolor": "white",
            "showbackground": true,
            "ticks": "",
            "zerolinecolor": "white"
           }
          },
          "shapedefaults": {
           "line": {
            "color": "#2a3f5f"
           }
          },
          "ternary": {
           "aaxis": {
            "gridcolor": "white",
            "linecolor": "white",
            "ticks": ""
           },
           "baxis": {
            "gridcolor": "white",
            "linecolor": "white",
            "ticks": ""
           },
           "bgcolor": "#E5ECF6",
           "caxis": {
            "gridcolor": "white",
            "linecolor": "white",
            "ticks": ""
           }
          },
          "title": {
           "x": 0.05
          },
          "xaxis": {
           "automargin": true,
           "gridcolor": "white",
           "linecolor": "white",
           "ticks": "",
           "title": {
            "standoff": 15
           },
           "zerolinecolor": "white",
           "zerolinewidth": 2
          },
          "yaxis": {
           "automargin": true,
           "gridcolor": "white",
           "linecolor": "white",
           "ticks": "",
           "title": {
            "standoff": 15
           },
           "zerolinecolor": "white",
           "zerolinewidth": 2
          }
         }
        },
        "title": {
         "text": "Total Return vs S&P 500"
        },
        "xaxis": {
         "tickformat": ".2%",
         "title": {
          "text": "Ticker"
         }
        },
        "yaxis": {
         "tickformat": ".2%",
         "title": {
          "text": "Returns"
         }
        }
       }
      },
      "text/html": [
       "<div>\n",
       "        \n",
       "        \n",
       "            <div id=\"21cab038-41fd-47c1-8353-e83cbfdd9f5d\" class=\"plotly-graph-div\" style=\"height:525px; width:100%;\"></div>\n",
       "            <script type=\"text/javascript\">\n",
       "                require([\"plotly\"], function(Plotly) {\n",
       "                    window.PLOTLYENV=window.PLOTLYENV || {};\n",
       "                    \n",
       "                if (document.getElementById(\"21cab038-41fd-47c1-8353-e83cbfdd9f5d\")) {\n",
       "                    Plotly.newPlot(\n",
       "                        '21cab038-41fd-47c1-8353-e83cbfdd9f5d',\n",
       "                        [{\"name\": \"Ticker Total Return\", \"type\": \"bar\", \"x\": [\"AAPL\", \"FB\", \"JNJ\", \"MCD\", \"MTCH\", \"NFLX\", \"TWTR\", \"WMT\"], \"y\": [3.086391437308868, 2.7816954124090105, 0.6787546458261788, 1.2882691578719738, 4.170946687962846, 1.8944899610165522, -0.15035734339164086, 0.7436309859134793]}, {\"name\": \"SP500 Total Return\", \"type\": \"scatter\", \"x\": [\"AAPL\", \"FB\", \"JNJ\", \"MCD\", \"MTCH\", \"NFLX\", \"TWTR\", \"WMT\"], \"y\": [1.0809598248205834, 0.7692472768270959, 0.6938989663433559, 0.9253515251306375, 0.5534487034685178, 0.6343608397841094, 0.5544942782673721, 0.8636517086070075]}],\n",
       "                        {\"barmode\": \"group\", \"legend\": {\"x\": 0.8, \"y\": 1}, \"template\": {\"data\": {\"bar\": [{\"error_x\": {\"color\": \"#2a3f5f\"}, \"error_y\": {\"color\": \"#2a3f5f\"}, \"marker\": {\"line\": {\"color\": \"#E5ECF6\", \"width\": 0.5}}, \"type\": \"bar\"}], \"barpolar\": [{\"marker\": {\"line\": {\"color\": \"#E5ECF6\", \"width\": 0.5}}, \"type\": \"barpolar\"}], \"carpet\": [{\"aaxis\": {\"endlinecolor\": \"#2a3f5f\", \"gridcolor\": \"white\", \"linecolor\": \"white\", \"minorgridcolor\": \"white\", \"startlinecolor\": \"#2a3f5f\"}, \"baxis\": {\"endlinecolor\": \"#2a3f5f\", \"gridcolor\": \"white\", \"linecolor\": \"white\", \"minorgridcolor\": \"white\", \"startlinecolor\": \"#2a3f5f\"}, \"type\": \"carpet\"}], \"choropleth\": [{\"colorbar\": {\"outlinewidth\": 0, \"ticks\": \"\"}, \"type\": \"choropleth\"}], \"contour\": [{\"colorbar\": {\"outlinewidth\": 0, \"ticks\": \"\"}, \"colorscale\": [[0.0, \"#0d0887\"], [0.1111111111111111, \"#46039f\"], [0.2222222222222222, \"#7201a8\"], [0.3333333333333333, \"#9c179e\"], [0.4444444444444444, \"#bd3786\"], [0.5555555555555556, \"#d8576b\"], [0.6666666666666666, \"#ed7953\"], [0.7777777777777778, \"#fb9f3a\"], [0.8888888888888888, \"#fdca26\"], [1.0, \"#f0f921\"]], \"type\": \"contour\"}], \"contourcarpet\": [{\"colorbar\": {\"outlinewidth\": 0, \"ticks\": \"\"}, \"type\": \"contourcarpet\"}], \"heatmap\": [{\"colorbar\": {\"outlinewidth\": 0, \"ticks\": \"\"}, \"colorscale\": [[0.0, \"#0d0887\"], [0.1111111111111111, \"#46039f\"], [0.2222222222222222, \"#7201a8\"], [0.3333333333333333, \"#9c179e\"], [0.4444444444444444, \"#bd3786\"], [0.5555555555555556, \"#d8576b\"], [0.6666666666666666, \"#ed7953\"], [0.7777777777777778, \"#fb9f3a\"], [0.8888888888888888, \"#fdca26\"], [1.0, \"#f0f921\"]], \"type\": \"heatmap\"}], \"heatmapgl\": [{\"colorbar\": {\"outlinewidth\": 0, \"ticks\": \"\"}, \"colorscale\": [[0.0, \"#0d0887\"], [0.1111111111111111, \"#46039f\"], [0.2222222222222222, \"#7201a8\"], [0.3333333333333333, \"#9c179e\"], [0.4444444444444444, \"#bd3786\"], [0.5555555555555556, \"#d8576b\"], [0.6666666666666666, \"#ed7953\"], [0.7777777777777778, \"#fb9f3a\"], [0.8888888888888888, \"#fdca26\"], [1.0, \"#f0f921\"]], \"type\": \"heatmapgl\"}], \"histogram\": [{\"marker\": {\"colorbar\": {\"outlinewidth\": 0, \"ticks\": \"\"}}, \"type\": \"histogram\"}], \"histogram2d\": [{\"colorbar\": {\"outlinewidth\": 0, \"ticks\": \"\"}, \"colorscale\": [[0.0, \"#0d0887\"], [0.1111111111111111, \"#46039f\"], [0.2222222222222222, \"#7201a8\"], [0.3333333333333333, \"#9c179e\"], [0.4444444444444444, \"#bd3786\"], [0.5555555555555556, \"#d8576b\"], [0.6666666666666666, \"#ed7953\"], [0.7777777777777778, \"#fb9f3a\"], [0.8888888888888888, \"#fdca26\"], [1.0, \"#f0f921\"]], \"type\": \"histogram2d\"}], \"histogram2dcontour\": [{\"colorbar\": {\"outlinewidth\": 0, \"ticks\": \"\"}, \"colorscale\": [[0.0, \"#0d0887\"], [0.1111111111111111, \"#46039f\"], [0.2222222222222222, \"#7201a8\"], [0.3333333333333333, \"#9c179e\"], [0.4444444444444444, \"#bd3786\"], [0.5555555555555556, \"#d8576b\"], [0.6666666666666666, \"#ed7953\"], [0.7777777777777778, \"#fb9f3a\"], [0.8888888888888888, \"#fdca26\"], [1.0, \"#f0f921\"]], \"type\": \"histogram2dcontour\"}], \"mesh3d\": [{\"colorbar\": {\"outlinewidth\": 0, \"ticks\": \"\"}, \"type\": \"mesh3d\"}], \"parcoords\": [{\"line\": {\"colorbar\": {\"outlinewidth\": 0, \"ticks\": \"\"}}, \"type\": \"parcoords\"}], \"pie\": [{\"automargin\": true, \"type\": \"pie\"}], \"scatter\": [{\"marker\": {\"colorbar\": {\"outlinewidth\": 0, \"ticks\": \"\"}}, \"type\": \"scatter\"}], \"scatter3d\": [{\"line\": {\"colorbar\": {\"outlinewidth\": 0, \"ticks\": \"\"}}, \"marker\": {\"colorbar\": {\"outlinewidth\": 0, \"ticks\": \"\"}}, \"type\": \"scatter3d\"}], \"scattercarpet\": [{\"marker\": {\"colorbar\": {\"outlinewidth\": 0, \"ticks\": \"\"}}, \"type\": \"scattercarpet\"}], \"scattergeo\": [{\"marker\": {\"colorbar\": {\"outlinewidth\": 0, \"ticks\": \"\"}}, \"type\": \"scattergeo\"}], \"scattergl\": [{\"marker\": {\"colorbar\": {\"outlinewidth\": 0, \"ticks\": \"\"}}, \"type\": \"scattergl\"}], \"scattermapbox\": [{\"marker\": {\"colorbar\": {\"outlinewidth\": 0, \"ticks\": \"\"}}, \"type\": \"scattermapbox\"}], \"scatterpolar\": [{\"marker\": {\"colorbar\": {\"outlinewidth\": 0, \"ticks\": \"\"}}, \"type\": \"scatterpolar\"}], \"scatterpolargl\": [{\"marker\": {\"colorbar\": {\"outlinewidth\": 0, \"ticks\": \"\"}}, \"type\": \"scatterpolargl\"}], \"scatterternary\": [{\"marker\": {\"colorbar\": {\"outlinewidth\": 0, \"ticks\": \"\"}}, \"type\": \"scatterternary\"}], \"surface\": [{\"colorbar\": {\"outlinewidth\": 0, \"ticks\": \"\"}, \"colorscale\": [[0.0, \"#0d0887\"], [0.1111111111111111, \"#46039f\"], [0.2222222222222222, \"#7201a8\"], [0.3333333333333333, \"#9c179e\"], [0.4444444444444444, \"#bd3786\"], [0.5555555555555556, \"#d8576b\"], [0.6666666666666666, \"#ed7953\"], [0.7777777777777778, \"#fb9f3a\"], [0.8888888888888888, \"#fdca26\"], [1.0, \"#f0f921\"]], \"type\": \"surface\"}], \"table\": [{\"cells\": {\"fill\": {\"color\": \"#EBF0F8\"}, \"line\": {\"color\": \"white\"}}, \"header\": {\"fill\": {\"color\": \"#C8D4E3\"}, \"line\": {\"color\": \"white\"}}, \"type\": \"table\"}]}, \"layout\": {\"annotationdefaults\": {\"arrowcolor\": \"#2a3f5f\", \"arrowhead\": 0, \"arrowwidth\": 1}, \"coloraxis\": {\"colorbar\": {\"outlinewidth\": 0, \"ticks\": \"\"}}, \"colorscale\": {\"diverging\": [[0, \"#8e0152\"], [0.1, \"#c51b7d\"], [0.2, \"#de77ae\"], [0.3, \"#f1b6da\"], [0.4, \"#fde0ef\"], [0.5, \"#f7f7f7\"], [0.6, \"#e6f5d0\"], [0.7, \"#b8e186\"], [0.8, \"#7fbc41\"], [0.9, \"#4d9221\"], [1, \"#276419\"]], \"sequential\": [[0.0, \"#0d0887\"], [0.1111111111111111, \"#46039f\"], [0.2222222222222222, \"#7201a8\"], [0.3333333333333333, \"#9c179e\"], [0.4444444444444444, \"#bd3786\"], [0.5555555555555556, \"#d8576b\"], [0.6666666666666666, \"#ed7953\"], [0.7777777777777778, \"#fb9f3a\"], [0.8888888888888888, \"#fdca26\"], [1.0, \"#f0f921\"]], \"sequentialminus\": [[0.0, \"#0d0887\"], [0.1111111111111111, \"#46039f\"], [0.2222222222222222, \"#7201a8\"], [0.3333333333333333, \"#9c179e\"], [0.4444444444444444, \"#bd3786\"], [0.5555555555555556, \"#d8576b\"], [0.6666666666666666, \"#ed7953\"], [0.7777777777777778, \"#fb9f3a\"], [0.8888888888888888, \"#fdca26\"], [1.0, \"#f0f921\"]]}, \"colorway\": [\"#636efa\", \"#EF553B\", \"#00cc96\", \"#ab63fa\", \"#FFA15A\", \"#19d3f3\", \"#FF6692\", \"#B6E880\", \"#FF97FF\", \"#FECB52\"], \"font\": {\"color\": \"#2a3f5f\"}, \"geo\": {\"bgcolor\": \"white\", \"lakecolor\": \"white\", \"landcolor\": \"#E5ECF6\", \"showlakes\": true, \"showland\": true, \"subunitcolor\": \"white\"}, \"hoverlabel\": {\"align\": \"left\"}, \"hovermode\": \"closest\", \"mapbox\": {\"style\": \"light\"}, \"paper_bgcolor\": \"white\", \"plot_bgcolor\": \"#E5ECF6\", \"polar\": {\"angularaxis\": {\"gridcolor\": \"white\", \"linecolor\": \"white\", \"ticks\": \"\"}, \"bgcolor\": \"#E5ECF6\", \"radialaxis\": {\"gridcolor\": \"white\", \"linecolor\": \"white\", \"ticks\": \"\"}}, \"scene\": {\"xaxis\": {\"backgroundcolor\": \"#E5ECF6\", \"gridcolor\": \"white\", \"gridwidth\": 2, \"linecolor\": \"white\", \"showbackground\": true, \"ticks\": \"\", \"zerolinecolor\": \"white\"}, \"yaxis\": {\"backgroundcolor\": \"#E5ECF6\", \"gridcolor\": \"white\", \"gridwidth\": 2, \"linecolor\": \"white\", \"showbackground\": true, \"ticks\": \"\", \"zerolinecolor\": \"white\"}, \"zaxis\": {\"backgroundcolor\": \"#E5ECF6\", \"gridcolor\": \"white\", \"gridwidth\": 2, \"linecolor\": \"white\", \"showbackground\": true, \"ticks\": \"\", \"zerolinecolor\": \"white\"}}, \"shapedefaults\": {\"line\": {\"color\": \"#2a3f5f\"}}, \"ternary\": {\"aaxis\": {\"gridcolor\": \"white\", \"linecolor\": \"white\", \"ticks\": \"\"}, \"baxis\": {\"gridcolor\": \"white\", \"linecolor\": \"white\", \"ticks\": \"\"}, \"bgcolor\": \"#E5ECF6\", \"caxis\": {\"gridcolor\": \"white\", \"linecolor\": \"white\", \"ticks\": \"\"}}, \"title\": {\"x\": 0.05}, \"xaxis\": {\"automargin\": true, \"gridcolor\": \"white\", \"linecolor\": \"white\", \"ticks\": \"\", \"title\": {\"standoff\": 15}, \"zerolinecolor\": \"white\", \"zerolinewidth\": 2}, \"yaxis\": {\"automargin\": true, \"gridcolor\": \"white\", \"linecolor\": \"white\", \"ticks\": \"\", \"title\": {\"standoff\": 15}, \"zerolinecolor\": \"white\", \"zerolinewidth\": 2}}}, \"title\": {\"text\": \"Total Return vs S&P 500\"}, \"xaxis\": {\"tickformat\": \".2%\", \"title\": {\"text\": \"Ticker\"}}, \"yaxis\": {\"tickformat\": \".2%\", \"title\": {\"text\": \"Returns\"}}},\n",
       "                        {\"responsive\": true}\n",
       "                    ).then(function(){\n",
       "                            \n",
       "var gd = document.getElementById('21cab038-41fd-47c1-8353-e83cbfdd9f5d');\n",
       "var x = new MutationObserver(function (mutations, observer) {{\n",
       "        var display = window.getComputedStyle(gd).display;\n",
       "        if (!display || display === 'none') {{\n",
       "            console.log([gd, 'removed!']);\n",
       "            Plotly.purge(gd);\n",
       "            observer.disconnect();\n",
       "        }}\n",
       "}});\n",
       "\n",
       "// Listen for the removal of the full notebook cells\n",
       "var notebookContainer = gd.closest('#notebook-container');\n",
       "if (notebookContainer) {{\n",
       "    x.observe(notebookContainer, {childList: true});\n",
       "}}\n",
       "\n",
       "// Listen for the clearing of the current output cell\n",
       "var outputEl = gd.closest('.output');\n",
       "if (outputEl) {{\n",
       "    x.observe(outputEl, {childList: true});\n",
       "}}\n",
       "\n",
       "                        })\n",
       "                };\n",
       "                });\n",
       "            </script>\n",
       "        </div>"
      ]
     },
     "metadata": {},
     "output_type": "display_data"
    }
   ],
   "source": [
    "trace1 = go.Bar(\n",
    "    x = merged_portfolio_sp_latest_YTD_sp_closing_high['Ticker'][0:10],\n",
    "    y = merged_portfolio_sp_latest_YTD_sp_closing_high['ticker return'][0:10],\n",
    "    name = 'Ticker Total Return')\n",
    "\n",
    "trace2 = go.Scatter(\n",
    "    x = merged_portfolio_sp_latest_YTD_sp_closing_high['Ticker'][0:10],\n",
    "    y = merged_portfolio_sp_latest_YTD_sp_closing_high['SP Return'][0:10],\n",
    "    name = 'SP500 Total Return')\n",
    "    \n",
    "data = [trace1, trace2]\n",
    "\n",
    "layout = go.Layout(title = 'Total Return vs S&P 500'\n",
    "    , barmode = 'group'\n",
    "    , yaxis=dict(title='Returns', tickformat=\".2%\")\n",
    "    , xaxis=dict(title='Ticker', tickformat=\".2%\")\n",
    "    , legend=dict(x=.8,y=1)\n",
    "    )\n",
    "\n",
    "fig = go.Figure(data=data, layout=layout)\n",
    "iplot(fig)"
   ]
  },
  {
   "cell_type": "code",
   "execution_count": 71,
   "metadata": {},
   "outputs": [
    {
     "data": {
      "application/vnd.plotly.v1+json": {
       "config": {
        "linkText": "Export to plot.ly",
        "plotlyServerURL": "https://plot.ly",
        "showLink": false
       },
       "data": [
        {
         "name": "Ticker Total Return ($)",
         "type": "bar",
         "x": [
          "AAPL",
          "FB",
          "JNJ",
          "MCD",
          "MTCH",
          "NFLX",
          "TWTR",
          "WMT"
         ],
         "y": [
          25231.25,
          22247.999908447266,
          5559.000549316405,
          10948.999572753906,
          34110.002014160156,
          15446.250274658203,
          -1230.7500343322763,
          6348.749542236328
         ]
        },
        {
         "name": "SP 500 Total Return ($)",
         "type": "bar",
         "x": [
          "AAPL",
          "FB",
          "JNJ",
          "MCD",
          "MTCH",
          "NFLX",
          "TWTR",
          "WMT"
         ],
         "y": [
          8836.84656790827,
          6152.439720063114,
          5683.032534352086,
          7864.5626120852885,
          4526.103496965538,
          5172.102516969789,
          4538.8129147575755,
          7373.426462232328
         ]
        },
        {
         "name": "Ticker Total Return %",
         "type": "scatter",
         "x": [
          "AAPL",
          "FB",
          "JNJ",
          "MCD",
          "MTCH",
          "NFLX",
          "TWTR",
          "WMT"
         ],
         "y": [
          3.086391437308868,
          2.7816954124090105,
          0.6787546458261788,
          1.2882691578719738,
          4.170946687962846,
          1.8944899610165522,
          -0.15035734339164086,
          0.7436309859134793
         ],
         "yaxis": "y2"
        }
       ],
       "layout": {
        "barmode": "group",
        "legend": {
         "x": 0.75,
         "y": 1
        },
        "template": {
         "data": {
          "bar": [
           {
            "error_x": {
             "color": "#2a3f5f"
            },
            "error_y": {
             "color": "#2a3f5f"
            },
            "marker": {
             "line": {
              "color": "#E5ECF6",
              "width": 0.5
             }
            },
            "type": "bar"
           }
          ],
          "barpolar": [
           {
            "marker": {
             "line": {
              "color": "#E5ECF6",
              "width": 0.5
             }
            },
            "type": "barpolar"
           }
          ],
          "carpet": [
           {
            "aaxis": {
             "endlinecolor": "#2a3f5f",
             "gridcolor": "white",
             "linecolor": "white",
             "minorgridcolor": "white",
             "startlinecolor": "#2a3f5f"
            },
            "baxis": {
             "endlinecolor": "#2a3f5f",
             "gridcolor": "white",
             "linecolor": "white",
             "minorgridcolor": "white",
             "startlinecolor": "#2a3f5f"
            },
            "type": "carpet"
           }
          ],
          "choropleth": [
           {
            "colorbar": {
             "outlinewidth": 0,
             "ticks": ""
            },
            "type": "choropleth"
           }
          ],
          "contour": [
           {
            "colorbar": {
             "outlinewidth": 0,
             "ticks": ""
            },
            "colorscale": [
             [
              0,
              "#0d0887"
             ],
             [
              0.1111111111111111,
              "#46039f"
             ],
             [
              0.2222222222222222,
              "#7201a8"
             ],
             [
              0.3333333333333333,
              "#9c179e"
             ],
             [
              0.4444444444444444,
              "#bd3786"
             ],
             [
              0.5555555555555556,
              "#d8576b"
             ],
             [
              0.6666666666666666,
              "#ed7953"
             ],
             [
              0.7777777777777778,
              "#fb9f3a"
             ],
             [
              0.8888888888888888,
              "#fdca26"
             ],
             [
              1,
              "#f0f921"
             ]
            ],
            "type": "contour"
           }
          ],
          "contourcarpet": [
           {
            "colorbar": {
             "outlinewidth": 0,
             "ticks": ""
            },
            "type": "contourcarpet"
           }
          ],
          "heatmap": [
           {
            "colorbar": {
             "outlinewidth": 0,
             "ticks": ""
            },
            "colorscale": [
             [
              0,
              "#0d0887"
             ],
             [
              0.1111111111111111,
              "#46039f"
             ],
             [
              0.2222222222222222,
              "#7201a8"
             ],
             [
              0.3333333333333333,
              "#9c179e"
             ],
             [
              0.4444444444444444,
              "#bd3786"
             ],
             [
              0.5555555555555556,
              "#d8576b"
             ],
             [
              0.6666666666666666,
              "#ed7953"
             ],
             [
              0.7777777777777778,
              "#fb9f3a"
             ],
             [
              0.8888888888888888,
              "#fdca26"
             ],
             [
              1,
              "#f0f921"
             ]
            ],
            "type": "heatmap"
           }
          ],
          "heatmapgl": [
           {
            "colorbar": {
             "outlinewidth": 0,
             "ticks": ""
            },
            "colorscale": [
             [
              0,
              "#0d0887"
             ],
             [
              0.1111111111111111,
              "#46039f"
             ],
             [
              0.2222222222222222,
              "#7201a8"
             ],
             [
              0.3333333333333333,
              "#9c179e"
             ],
             [
              0.4444444444444444,
              "#bd3786"
             ],
             [
              0.5555555555555556,
              "#d8576b"
             ],
             [
              0.6666666666666666,
              "#ed7953"
             ],
             [
              0.7777777777777778,
              "#fb9f3a"
             ],
             [
              0.8888888888888888,
              "#fdca26"
             ],
             [
              1,
              "#f0f921"
             ]
            ],
            "type": "heatmapgl"
           }
          ],
          "histogram": [
           {
            "marker": {
             "colorbar": {
              "outlinewidth": 0,
              "ticks": ""
             }
            },
            "type": "histogram"
           }
          ],
          "histogram2d": [
           {
            "colorbar": {
             "outlinewidth": 0,
             "ticks": ""
            },
            "colorscale": [
             [
              0,
              "#0d0887"
             ],
             [
              0.1111111111111111,
              "#46039f"
             ],
             [
              0.2222222222222222,
              "#7201a8"
             ],
             [
              0.3333333333333333,
              "#9c179e"
             ],
             [
              0.4444444444444444,
              "#bd3786"
             ],
             [
              0.5555555555555556,
              "#d8576b"
             ],
             [
              0.6666666666666666,
              "#ed7953"
             ],
             [
              0.7777777777777778,
              "#fb9f3a"
             ],
             [
              0.8888888888888888,
              "#fdca26"
             ],
             [
              1,
              "#f0f921"
             ]
            ],
            "type": "histogram2d"
           }
          ],
          "histogram2dcontour": [
           {
            "colorbar": {
             "outlinewidth": 0,
             "ticks": ""
            },
            "colorscale": [
             [
              0,
              "#0d0887"
             ],
             [
              0.1111111111111111,
              "#46039f"
             ],
             [
              0.2222222222222222,
              "#7201a8"
             ],
             [
              0.3333333333333333,
              "#9c179e"
             ],
             [
              0.4444444444444444,
              "#bd3786"
             ],
             [
              0.5555555555555556,
              "#d8576b"
             ],
             [
              0.6666666666666666,
              "#ed7953"
             ],
             [
              0.7777777777777778,
              "#fb9f3a"
             ],
             [
              0.8888888888888888,
              "#fdca26"
             ],
             [
              1,
              "#f0f921"
             ]
            ],
            "type": "histogram2dcontour"
           }
          ],
          "mesh3d": [
           {
            "colorbar": {
             "outlinewidth": 0,
             "ticks": ""
            },
            "type": "mesh3d"
           }
          ],
          "parcoords": [
           {
            "line": {
             "colorbar": {
              "outlinewidth": 0,
              "ticks": ""
             }
            },
            "type": "parcoords"
           }
          ],
          "pie": [
           {
            "automargin": true,
            "type": "pie"
           }
          ],
          "scatter": [
           {
            "marker": {
             "colorbar": {
              "outlinewidth": 0,
              "ticks": ""
             }
            },
            "type": "scatter"
           }
          ],
          "scatter3d": [
           {
            "line": {
             "colorbar": {
              "outlinewidth": 0,
              "ticks": ""
             }
            },
            "marker": {
             "colorbar": {
              "outlinewidth": 0,
              "ticks": ""
             }
            },
            "type": "scatter3d"
           }
          ],
          "scattercarpet": [
           {
            "marker": {
             "colorbar": {
              "outlinewidth": 0,
              "ticks": ""
             }
            },
            "type": "scattercarpet"
           }
          ],
          "scattergeo": [
           {
            "marker": {
             "colorbar": {
              "outlinewidth": 0,
              "ticks": ""
             }
            },
            "type": "scattergeo"
           }
          ],
          "scattergl": [
           {
            "marker": {
             "colorbar": {
              "outlinewidth": 0,
              "ticks": ""
             }
            },
            "type": "scattergl"
           }
          ],
          "scattermapbox": [
           {
            "marker": {
             "colorbar": {
              "outlinewidth": 0,
              "ticks": ""
             }
            },
            "type": "scattermapbox"
           }
          ],
          "scatterpolar": [
           {
            "marker": {
             "colorbar": {
              "outlinewidth": 0,
              "ticks": ""
             }
            },
            "type": "scatterpolar"
           }
          ],
          "scatterpolargl": [
           {
            "marker": {
             "colorbar": {
              "outlinewidth": 0,
              "ticks": ""
             }
            },
            "type": "scatterpolargl"
           }
          ],
          "scatterternary": [
           {
            "marker": {
             "colorbar": {
              "outlinewidth": 0,
              "ticks": ""
             }
            },
            "type": "scatterternary"
           }
          ],
          "surface": [
           {
            "colorbar": {
             "outlinewidth": 0,
             "ticks": ""
            },
            "colorscale": [
             [
              0,
              "#0d0887"
             ],
             [
              0.1111111111111111,
              "#46039f"
             ],
             [
              0.2222222222222222,
              "#7201a8"
             ],
             [
              0.3333333333333333,
              "#9c179e"
             ],
             [
              0.4444444444444444,
              "#bd3786"
             ],
             [
              0.5555555555555556,
              "#d8576b"
             ],
             [
              0.6666666666666666,
              "#ed7953"
             ],
             [
              0.7777777777777778,
              "#fb9f3a"
             ],
             [
              0.8888888888888888,
              "#fdca26"
             ],
             [
              1,
              "#f0f921"
             ]
            ],
            "type": "surface"
           }
          ],
          "table": [
           {
            "cells": {
             "fill": {
              "color": "#EBF0F8"
             },
             "line": {
              "color": "white"
             }
            },
            "header": {
             "fill": {
              "color": "#C8D4E3"
             },
             "line": {
              "color": "white"
             }
            },
            "type": "table"
           }
          ]
         },
         "layout": {
          "annotationdefaults": {
           "arrowcolor": "#2a3f5f",
           "arrowhead": 0,
           "arrowwidth": 1
          },
          "coloraxis": {
           "colorbar": {
            "outlinewidth": 0,
            "ticks": ""
           }
          },
          "colorscale": {
           "diverging": [
            [
             0,
             "#8e0152"
            ],
            [
             0.1,
             "#c51b7d"
            ],
            [
             0.2,
             "#de77ae"
            ],
            [
             0.3,
             "#f1b6da"
            ],
            [
             0.4,
             "#fde0ef"
            ],
            [
             0.5,
             "#f7f7f7"
            ],
            [
             0.6,
             "#e6f5d0"
            ],
            [
             0.7,
             "#b8e186"
            ],
            [
             0.8,
             "#7fbc41"
            ],
            [
             0.9,
             "#4d9221"
            ],
            [
             1,
             "#276419"
            ]
           ],
           "sequential": [
            [
             0,
             "#0d0887"
            ],
            [
             0.1111111111111111,
             "#46039f"
            ],
            [
             0.2222222222222222,
             "#7201a8"
            ],
            [
             0.3333333333333333,
             "#9c179e"
            ],
            [
             0.4444444444444444,
             "#bd3786"
            ],
            [
             0.5555555555555556,
             "#d8576b"
            ],
            [
             0.6666666666666666,
             "#ed7953"
            ],
            [
             0.7777777777777778,
             "#fb9f3a"
            ],
            [
             0.8888888888888888,
             "#fdca26"
            ],
            [
             1,
             "#f0f921"
            ]
           ],
           "sequentialminus": [
            [
             0,
             "#0d0887"
            ],
            [
             0.1111111111111111,
             "#46039f"
            ],
            [
             0.2222222222222222,
             "#7201a8"
            ],
            [
             0.3333333333333333,
             "#9c179e"
            ],
            [
             0.4444444444444444,
             "#bd3786"
            ],
            [
             0.5555555555555556,
             "#d8576b"
            ],
            [
             0.6666666666666666,
             "#ed7953"
            ],
            [
             0.7777777777777778,
             "#fb9f3a"
            ],
            [
             0.8888888888888888,
             "#fdca26"
            ],
            [
             1,
             "#f0f921"
            ]
           ]
          },
          "colorway": [
           "#636efa",
           "#EF553B",
           "#00cc96",
           "#ab63fa",
           "#FFA15A",
           "#19d3f3",
           "#FF6692",
           "#B6E880",
           "#FF97FF",
           "#FECB52"
          ],
          "font": {
           "color": "#2a3f5f"
          },
          "geo": {
           "bgcolor": "white",
           "lakecolor": "white",
           "landcolor": "#E5ECF6",
           "showlakes": true,
           "showland": true,
           "subunitcolor": "white"
          },
          "hoverlabel": {
           "align": "left"
          },
          "hovermode": "closest",
          "mapbox": {
           "style": "light"
          },
          "paper_bgcolor": "white",
          "plot_bgcolor": "#E5ECF6",
          "polar": {
           "angularaxis": {
            "gridcolor": "white",
            "linecolor": "white",
            "ticks": ""
           },
           "bgcolor": "#E5ECF6",
           "radialaxis": {
            "gridcolor": "white",
            "linecolor": "white",
            "ticks": ""
           }
          },
          "scene": {
           "xaxis": {
            "backgroundcolor": "#E5ECF6",
            "gridcolor": "white",
            "gridwidth": 2,
            "linecolor": "white",
            "showbackground": true,
            "ticks": "",
            "zerolinecolor": "white"
           },
           "yaxis": {
            "backgroundcolor": "#E5ECF6",
            "gridcolor": "white",
            "gridwidth": 2,
            "linecolor": "white",
            "showbackground": true,
            "ticks": "",
            "zerolinecolor": "white"
           },
           "zaxis": {
            "backgroundcolor": "#E5ECF6",
            "gridcolor": "white",
            "gridwidth": 2,
            "linecolor": "white",
            "showbackground": true,
            "ticks": "",
            "zerolinecolor": "white"
           }
          },
          "shapedefaults": {
           "line": {
            "color": "#2a3f5f"
           }
          },
          "ternary": {
           "aaxis": {
            "gridcolor": "white",
            "linecolor": "white",
            "ticks": ""
           },
           "baxis": {
            "gridcolor": "white",
            "linecolor": "white",
            "ticks": ""
           },
           "bgcolor": "#E5ECF6",
           "caxis": {
            "gridcolor": "white",
            "linecolor": "white",
            "ticks": ""
           }
          },
          "title": {
           "x": 0.05
          },
          "xaxis": {
           "automargin": true,
           "gridcolor": "white",
           "linecolor": "white",
           "ticks": "",
           "title": {
            "standoff": 15
           },
           "zerolinecolor": "white",
           "zerolinewidth": 2
          },
          "yaxis": {
           "automargin": true,
           "gridcolor": "white",
           "linecolor": "white",
           "ticks": "",
           "title": {
            "standoff": 15
           },
           "zerolinecolor": "white",
           "zerolinewidth": 2
          }
         }
        },
        "title": {
         "text": "Gain / (Loss) Total Return vs S&P 500"
        },
        "xaxis": {
         "title": {
          "text": "Ticker"
         }
        },
        "yaxis": {
         "title": {
          "text": "Gain / (Loss) ($)"
         }
        },
        "yaxis2": {
         "overlaying": "y",
         "side": "right",
         "tickformat": ".2%",
         "title": {
          "text": "Ticker Return"
         }
        }
       }
      },
      "text/html": [
       "<div>\n",
       "        \n",
       "        \n",
       "            <div id=\"f68cec17-bd61-4b0b-886d-d343434ae032\" class=\"plotly-graph-div\" style=\"height:525px; width:100%;\"></div>\n",
       "            <script type=\"text/javascript\">\n",
       "                require([\"plotly\"], function(Plotly) {\n",
       "                    window.PLOTLYENV=window.PLOTLYENV || {};\n",
       "                    \n",
       "                if (document.getElementById(\"f68cec17-bd61-4b0b-886d-d343434ae032\")) {\n",
       "                    Plotly.newPlot(\n",
       "                        'f68cec17-bd61-4b0b-886d-d343434ae032',\n",
       "                        [{\"name\": \"Ticker Total Return ($)\", \"type\": \"bar\", \"x\": [\"AAPL\", \"FB\", \"JNJ\", \"MCD\", \"MTCH\", \"NFLX\", \"TWTR\", \"WMT\"], \"y\": [25231.25, 22247.999908447266, 5559.000549316405, 10948.999572753906, 34110.002014160156, 15446.250274658203, -1230.7500343322763, 6348.749542236328]}, {\"name\": \"SP 500 Total Return ($)\", \"type\": \"bar\", \"x\": [\"AAPL\", \"FB\", \"JNJ\", \"MCD\", \"MTCH\", \"NFLX\", \"TWTR\", \"WMT\"], \"y\": [8836.84656790827, 6152.439720063114, 5683.032534352086, 7864.5626120852885, 4526.103496965538, 5172.102516969789, 4538.8129147575755, 7373.426462232328]}, {\"name\": \"Ticker Total Return %\", \"type\": \"scatter\", \"x\": [\"AAPL\", \"FB\", \"JNJ\", \"MCD\", \"MTCH\", \"NFLX\", \"TWTR\", \"WMT\"], \"y\": [3.086391437308868, 2.7816954124090105, 0.6787546458261788, 1.2882691578719738, 4.170946687962846, 1.8944899610165522, -0.15035734339164086, 0.7436309859134793], \"yaxis\": \"y2\"}],\n",
       "                        {\"barmode\": \"group\", \"legend\": {\"x\": 0.75, \"y\": 1}, \"template\": {\"data\": {\"bar\": [{\"error_x\": {\"color\": \"#2a3f5f\"}, \"error_y\": {\"color\": \"#2a3f5f\"}, \"marker\": {\"line\": {\"color\": \"#E5ECF6\", \"width\": 0.5}}, \"type\": \"bar\"}], \"barpolar\": [{\"marker\": {\"line\": {\"color\": \"#E5ECF6\", \"width\": 0.5}}, \"type\": \"barpolar\"}], \"carpet\": [{\"aaxis\": {\"endlinecolor\": \"#2a3f5f\", \"gridcolor\": \"white\", \"linecolor\": \"white\", \"minorgridcolor\": \"white\", \"startlinecolor\": \"#2a3f5f\"}, \"baxis\": {\"endlinecolor\": \"#2a3f5f\", \"gridcolor\": \"white\", \"linecolor\": \"white\", \"minorgridcolor\": \"white\", \"startlinecolor\": \"#2a3f5f\"}, \"type\": \"carpet\"}], \"choropleth\": [{\"colorbar\": {\"outlinewidth\": 0, \"ticks\": \"\"}, \"type\": \"choropleth\"}], \"contour\": [{\"colorbar\": {\"outlinewidth\": 0, \"ticks\": \"\"}, \"colorscale\": [[0.0, \"#0d0887\"], [0.1111111111111111, \"#46039f\"], [0.2222222222222222, \"#7201a8\"], [0.3333333333333333, \"#9c179e\"], [0.4444444444444444, \"#bd3786\"], [0.5555555555555556, \"#d8576b\"], [0.6666666666666666, \"#ed7953\"], [0.7777777777777778, \"#fb9f3a\"], [0.8888888888888888, \"#fdca26\"], [1.0, \"#f0f921\"]], \"type\": \"contour\"}], \"contourcarpet\": [{\"colorbar\": {\"outlinewidth\": 0, \"ticks\": \"\"}, \"type\": \"contourcarpet\"}], \"heatmap\": [{\"colorbar\": {\"outlinewidth\": 0, \"ticks\": \"\"}, \"colorscale\": [[0.0, \"#0d0887\"], [0.1111111111111111, \"#46039f\"], [0.2222222222222222, \"#7201a8\"], [0.3333333333333333, \"#9c179e\"], [0.4444444444444444, \"#bd3786\"], [0.5555555555555556, \"#d8576b\"], [0.6666666666666666, \"#ed7953\"], [0.7777777777777778, \"#fb9f3a\"], [0.8888888888888888, \"#fdca26\"], [1.0, \"#f0f921\"]], \"type\": \"heatmap\"}], \"heatmapgl\": [{\"colorbar\": {\"outlinewidth\": 0, \"ticks\": \"\"}, \"colorscale\": [[0.0, \"#0d0887\"], [0.1111111111111111, \"#46039f\"], [0.2222222222222222, \"#7201a8\"], [0.3333333333333333, \"#9c179e\"], [0.4444444444444444, \"#bd3786\"], [0.5555555555555556, \"#d8576b\"], [0.6666666666666666, \"#ed7953\"], [0.7777777777777778, \"#fb9f3a\"], [0.8888888888888888, \"#fdca26\"], [1.0, \"#f0f921\"]], \"type\": \"heatmapgl\"}], \"histogram\": [{\"marker\": {\"colorbar\": {\"outlinewidth\": 0, \"ticks\": \"\"}}, \"type\": \"histogram\"}], \"histogram2d\": [{\"colorbar\": {\"outlinewidth\": 0, \"ticks\": \"\"}, \"colorscale\": [[0.0, \"#0d0887\"], [0.1111111111111111, \"#46039f\"], [0.2222222222222222, \"#7201a8\"], [0.3333333333333333, \"#9c179e\"], [0.4444444444444444, \"#bd3786\"], [0.5555555555555556, \"#d8576b\"], [0.6666666666666666, \"#ed7953\"], [0.7777777777777778, \"#fb9f3a\"], [0.8888888888888888, \"#fdca26\"], [1.0, \"#f0f921\"]], \"type\": \"histogram2d\"}], \"histogram2dcontour\": [{\"colorbar\": {\"outlinewidth\": 0, \"ticks\": \"\"}, \"colorscale\": [[0.0, \"#0d0887\"], [0.1111111111111111, \"#46039f\"], [0.2222222222222222, \"#7201a8\"], [0.3333333333333333, \"#9c179e\"], [0.4444444444444444, \"#bd3786\"], [0.5555555555555556, \"#d8576b\"], [0.6666666666666666, \"#ed7953\"], [0.7777777777777778, \"#fb9f3a\"], [0.8888888888888888, \"#fdca26\"], [1.0, \"#f0f921\"]], \"type\": \"histogram2dcontour\"}], \"mesh3d\": [{\"colorbar\": {\"outlinewidth\": 0, \"ticks\": \"\"}, \"type\": \"mesh3d\"}], \"parcoords\": [{\"line\": {\"colorbar\": {\"outlinewidth\": 0, \"ticks\": \"\"}}, \"type\": \"parcoords\"}], \"pie\": [{\"automargin\": true, \"type\": \"pie\"}], \"scatter\": [{\"marker\": {\"colorbar\": {\"outlinewidth\": 0, \"ticks\": \"\"}}, \"type\": \"scatter\"}], \"scatter3d\": [{\"line\": {\"colorbar\": {\"outlinewidth\": 0, \"ticks\": \"\"}}, \"marker\": {\"colorbar\": {\"outlinewidth\": 0, \"ticks\": \"\"}}, \"type\": \"scatter3d\"}], \"scattercarpet\": [{\"marker\": {\"colorbar\": {\"outlinewidth\": 0, \"ticks\": \"\"}}, \"type\": \"scattercarpet\"}], \"scattergeo\": [{\"marker\": {\"colorbar\": {\"outlinewidth\": 0, \"ticks\": \"\"}}, \"type\": \"scattergeo\"}], \"scattergl\": [{\"marker\": {\"colorbar\": {\"outlinewidth\": 0, \"ticks\": \"\"}}, \"type\": \"scattergl\"}], \"scattermapbox\": [{\"marker\": {\"colorbar\": {\"outlinewidth\": 0, \"ticks\": \"\"}}, \"type\": \"scattermapbox\"}], \"scatterpolar\": [{\"marker\": {\"colorbar\": {\"outlinewidth\": 0, \"ticks\": \"\"}}, \"type\": \"scatterpolar\"}], \"scatterpolargl\": [{\"marker\": {\"colorbar\": {\"outlinewidth\": 0, \"ticks\": \"\"}}, \"type\": \"scatterpolargl\"}], \"scatterternary\": [{\"marker\": {\"colorbar\": {\"outlinewidth\": 0, \"ticks\": \"\"}}, \"type\": \"scatterternary\"}], \"surface\": [{\"colorbar\": {\"outlinewidth\": 0, \"ticks\": \"\"}, \"colorscale\": [[0.0, \"#0d0887\"], [0.1111111111111111, \"#46039f\"], [0.2222222222222222, \"#7201a8\"], [0.3333333333333333, \"#9c179e\"], [0.4444444444444444, \"#bd3786\"], [0.5555555555555556, \"#d8576b\"], [0.6666666666666666, \"#ed7953\"], [0.7777777777777778, \"#fb9f3a\"], [0.8888888888888888, \"#fdca26\"], [1.0, \"#f0f921\"]], \"type\": \"surface\"}], \"table\": [{\"cells\": {\"fill\": {\"color\": \"#EBF0F8\"}, \"line\": {\"color\": \"white\"}}, \"header\": {\"fill\": {\"color\": \"#C8D4E3\"}, \"line\": {\"color\": \"white\"}}, \"type\": \"table\"}]}, \"layout\": {\"annotationdefaults\": {\"arrowcolor\": \"#2a3f5f\", \"arrowhead\": 0, \"arrowwidth\": 1}, \"coloraxis\": {\"colorbar\": {\"outlinewidth\": 0, \"ticks\": \"\"}}, \"colorscale\": {\"diverging\": [[0, \"#8e0152\"], [0.1, \"#c51b7d\"], [0.2, \"#de77ae\"], [0.3, \"#f1b6da\"], [0.4, \"#fde0ef\"], [0.5, \"#f7f7f7\"], [0.6, \"#e6f5d0\"], [0.7, \"#b8e186\"], [0.8, \"#7fbc41\"], [0.9, \"#4d9221\"], [1, \"#276419\"]], \"sequential\": [[0.0, \"#0d0887\"], [0.1111111111111111, \"#46039f\"], [0.2222222222222222, \"#7201a8\"], [0.3333333333333333, \"#9c179e\"], [0.4444444444444444, \"#bd3786\"], [0.5555555555555556, \"#d8576b\"], [0.6666666666666666, \"#ed7953\"], [0.7777777777777778, \"#fb9f3a\"], [0.8888888888888888, \"#fdca26\"], [1.0, \"#f0f921\"]], \"sequentialminus\": [[0.0, \"#0d0887\"], [0.1111111111111111, \"#46039f\"], [0.2222222222222222, \"#7201a8\"], [0.3333333333333333, \"#9c179e\"], [0.4444444444444444, \"#bd3786\"], [0.5555555555555556, \"#d8576b\"], [0.6666666666666666, \"#ed7953\"], [0.7777777777777778, \"#fb9f3a\"], [0.8888888888888888, \"#fdca26\"], [1.0, \"#f0f921\"]]}, \"colorway\": [\"#636efa\", \"#EF553B\", \"#00cc96\", \"#ab63fa\", \"#FFA15A\", \"#19d3f3\", \"#FF6692\", \"#B6E880\", \"#FF97FF\", \"#FECB52\"], \"font\": {\"color\": \"#2a3f5f\"}, \"geo\": {\"bgcolor\": \"white\", \"lakecolor\": \"white\", \"landcolor\": \"#E5ECF6\", \"showlakes\": true, \"showland\": true, \"subunitcolor\": \"white\"}, \"hoverlabel\": {\"align\": \"left\"}, \"hovermode\": \"closest\", \"mapbox\": {\"style\": \"light\"}, \"paper_bgcolor\": \"white\", \"plot_bgcolor\": \"#E5ECF6\", \"polar\": {\"angularaxis\": {\"gridcolor\": \"white\", \"linecolor\": \"white\", \"ticks\": \"\"}, \"bgcolor\": \"#E5ECF6\", \"radialaxis\": {\"gridcolor\": \"white\", \"linecolor\": \"white\", \"ticks\": \"\"}}, \"scene\": {\"xaxis\": {\"backgroundcolor\": \"#E5ECF6\", \"gridcolor\": \"white\", \"gridwidth\": 2, \"linecolor\": \"white\", \"showbackground\": true, \"ticks\": \"\", \"zerolinecolor\": \"white\"}, \"yaxis\": {\"backgroundcolor\": \"#E5ECF6\", \"gridcolor\": \"white\", \"gridwidth\": 2, \"linecolor\": \"white\", \"showbackground\": true, \"ticks\": \"\", \"zerolinecolor\": \"white\"}, \"zaxis\": {\"backgroundcolor\": \"#E5ECF6\", \"gridcolor\": \"white\", \"gridwidth\": 2, \"linecolor\": \"white\", \"showbackground\": true, \"ticks\": \"\", \"zerolinecolor\": \"white\"}}, \"shapedefaults\": {\"line\": {\"color\": \"#2a3f5f\"}}, \"ternary\": {\"aaxis\": {\"gridcolor\": \"white\", \"linecolor\": \"white\", \"ticks\": \"\"}, \"baxis\": {\"gridcolor\": \"white\", \"linecolor\": \"white\", \"ticks\": \"\"}, \"bgcolor\": \"#E5ECF6\", \"caxis\": {\"gridcolor\": \"white\", \"linecolor\": \"white\", \"ticks\": \"\"}}, \"title\": {\"x\": 0.05}, \"xaxis\": {\"automargin\": true, \"gridcolor\": \"white\", \"linecolor\": \"white\", \"ticks\": \"\", \"title\": {\"standoff\": 15}, \"zerolinecolor\": \"white\", \"zerolinewidth\": 2}, \"yaxis\": {\"automargin\": true, \"gridcolor\": \"white\", \"linecolor\": \"white\", \"ticks\": \"\", \"title\": {\"standoff\": 15}, \"zerolinecolor\": \"white\", \"zerolinewidth\": 2}}}, \"title\": {\"text\": \"Gain / (Loss) Total Return vs S&P 500\"}, \"xaxis\": {\"title\": {\"text\": \"Ticker\"}}, \"yaxis\": {\"title\": {\"text\": \"Gain / (Loss) ($)\"}}, \"yaxis2\": {\"overlaying\": \"y\", \"side\": \"right\", \"tickformat\": \".2%\", \"title\": {\"text\": \"Ticker Return\"}}},\n",
       "                        {\"responsive\": true}\n",
       "                    ).then(function(){\n",
       "                            \n",
       "var gd = document.getElementById('f68cec17-bd61-4b0b-886d-d343434ae032');\n",
       "var x = new MutationObserver(function (mutations, observer) {{\n",
       "        var display = window.getComputedStyle(gd).display;\n",
       "        if (!display || display === 'none') {{\n",
       "            console.log([gd, 'removed!']);\n",
       "            Plotly.purge(gd);\n",
       "            observer.disconnect();\n",
       "        }}\n",
       "}});\n",
       "\n",
       "// Listen for the removal of the full notebook cells\n",
       "var notebookContainer = gd.closest('#notebook-container');\n",
       "if (notebookContainer) {{\n",
       "    x.observe(notebookContainer, {childList: true});\n",
       "}}\n",
       "\n",
       "// Listen for the clearing of the current output cell\n",
       "var outputEl = gd.closest('.output');\n",
       "if (outputEl) {{\n",
       "    x.observe(outputEl, {childList: true});\n",
       "}}\n",
       "\n",
       "                        })\n",
       "                };\n",
       "                });\n",
       "            </script>\n",
       "        </div>"
      ]
     },
     "metadata": {},
     "output_type": "display_data"
    }
   ],
   "source": [
    "trace1 = go.Bar(\n",
    "    x = merged_portfolio_sp_latest_YTD_sp_closing_high['Ticker'][0:10],\n",
    "    y = merged_portfolio_sp_latest_YTD_sp_closing_high['Stock Gain / (Loss)'][0:10],\n",
    "    name = 'Ticker Total Return ($)')\n",
    "\n",
    "trace2 = go.Bar(\n",
    "    x = merged_portfolio_sp_latest_YTD_sp_closing_high['Ticker'][0:10],\n",
    "    y = merged_portfolio_sp_latest_YTD_sp_closing_high['SP 500 Gain / (Loss)'][0:10],\n",
    "    name = 'SP 500 Total Return ($)')\n",
    "\n",
    "trace3 = go.Scatter(\n",
    "    x = merged_portfolio_sp_latest_YTD_sp_closing_high['Ticker'][0:10],\n",
    "    y = merged_portfolio_sp_latest_YTD_sp_closing_high['ticker return'][0:10],\n",
    "    name = 'Ticker Total Return %',\n",
    "    yaxis='y2')\n",
    "\n",
    "data = [trace1, trace2, trace3]\n",
    "\n",
    "layout = go.Layout(title = 'Gain / (Loss) Total Return vs S&P 500'\n",
    "    , barmode = 'group'\n",
    "    , yaxis=dict(title='Gain / (Loss) ($)')\n",
    "    , yaxis2=dict(title='Ticker Return', overlaying='y', side='right', tickformat=\".2%\")\n",
    "    , xaxis=dict(title='Ticker')\n",
    "    , legend=dict(x=.75,y=1)\n",
    "    )\n",
    "\n",
    "fig = go.Figure(data=data, layout=layout)\n",
    "iplot(fig)"
   ]
  },
  {
   "cell_type": "code",
   "execution_count": 72,
   "metadata": {
    "scrolled": true
   },
   "outputs": [
    {
     "data": {
      "application/vnd.plotly.v1+json": {
       "config": {
        "linkText": "Export to plot.ly",
        "plotlyServerURL": "https://plot.ly",
        "showLink": false
       },
       "data": [
        {
         "name": "Cum Invst",
         "type": "bar",
         "x": [
          "AAPL",
          "FB",
          "JNJ",
          "MCD",
          "MTCH",
          "NFLX",
          "TWTR",
          "WMT"
         ],
         "y": [
          8175.000000000001,
          16173,
          24363,
          32862,
          41040,
          49193.25,
          57378.75,
          65916.25
         ]
        },
        {
         "name": "Cum SP500 Returns",
         "type": "bar",
         "x": [
          "AAPL",
          "FB",
          "JNJ",
          "MCD",
          "MTCH",
          "NFLX",
          "TWTR",
          "WMT"
         ],
         "y": [
          17011.84656790827,
          31162.286287971383,
          45035.31882232347,
          61398.88143440876,
          74102.9849313743,
          87428.33744834409,
          100152.65036310167,
          116063.57682533399
         ]
        },
        {
         "name": "Cum Ticker Returns",
         "type": "bar",
         "x": [
          "AAPL",
          "FB",
          "JNJ",
          "MCD",
          "MTCH",
          "NFLX",
          "TWTR",
          "WMT"
         ],
         "y": [
          33406.25,
          63652.249908447266,
          77401.25045776367,
          96849.25003051758,
          139137.25204467773,
          162736.75231933594,
          169691.50228500366,
          184577.75182724
         ]
        },
        {
         "name": "Cum ROI Mult",
         "type": "scatter",
         "x": [
          "AAPL",
          "FB",
          "JNJ",
          "MCD",
          "MTCH",
          "NFLX",
          "TWTR",
          "WMT"
         ],
         "y": [
          4.086391437308868,
          3.9357107468278776,
          3.17699997774345,
          2.947150204811563,
          3.3902839192172936,
          3.308111424216451,
          2.9573928028234087,
          2.800185869603322
         ],
         "yaxis": "y2"
        }
       ],
       "layout": {
        "barmode": "group",
        "legend": {
         "x": 0.4,
         "y": 1
        },
        "template": {
         "data": {
          "bar": [
           {
            "error_x": {
             "color": "#2a3f5f"
            },
            "error_y": {
             "color": "#2a3f5f"
            },
            "marker": {
             "line": {
              "color": "#E5ECF6",
              "width": 0.5
             }
            },
            "type": "bar"
           }
          ],
          "barpolar": [
           {
            "marker": {
             "line": {
              "color": "#E5ECF6",
              "width": 0.5
             }
            },
            "type": "barpolar"
           }
          ],
          "carpet": [
           {
            "aaxis": {
             "endlinecolor": "#2a3f5f",
             "gridcolor": "white",
             "linecolor": "white",
             "minorgridcolor": "white",
             "startlinecolor": "#2a3f5f"
            },
            "baxis": {
             "endlinecolor": "#2a3f5f",
             "gridcolor": "white",
             "linecolor": "white",
             "minorgridcolor": "white",
             "startlinecolor": "#2a3f5f"
            },
            "type": "carpet"
           }
          ],
          "choropleth": [
           {
            "colorbar": {
             "outlinewidth": 0,
             "ticks": ""
            },
            "type": "choropleth"
           }
          ],
          "contour": [
           {
            "colorbar": {
             "outlinewidth": 0,
             "ticks": ""
            },
            "colorscale": [
             [
              0,
              "#0d0887"
             ],
             [
              0.1111111111111111,
              "#46039f"
             ],
             [
              0.2222222222222222,
              "#7201a8"
             ],
             [
              0.3333333333333333,
              "#9c179e"
             ],
             [
              0.4444444444444444,
              "#bd3786"
             ],
             [
              0.5555555555555556,
              "#d8576b"
             ],
             [
              0.6666666666666666,
              "#ed7953"
             ],
             [
              0.7777777777777778,
              "#fb9f3a"
             ],
             [
              0.8888888888888888,
              "#fdca26"
             ],
             [
              1,
              "#f0f921"
             ]
            ],
            "type": "contour"
           }
          ],
          "contourcarpet": [
           {
            "colorbar": {
             "outlinewidth": 0,
             "ticks": ""
            },
            "type": "contourcarpet"
           }
          ],
          "heatmap": [
           {
            "colorbar": {
             "outlinewidth": 0,
             "ticks": ""
            },
            "colorscale": [
             [
              0,
              "#0d0887"
             ],
             [
              0.1111111111111111,
              "#46039f"
             ],
             [
              0.2222222222222222,
              "#7201a8"
             ],
             [
              0.3333333333333333,
              "#9c179e"
             ],
             [
              0.4444444444444444,
              "#bd3786"
             ],
             [
              0.5555555555555556,
              "#d8576b"
             ],
             [
              0.6666666666666666,
              "#ed7953"
             ],
             [
              0.7777777777777778,
              "#fb9f3a"
             ],
             [
              0.8888888888888888,
              "#fdca26"
             ],
             [
              1,
              "#f0f921"
             ]
            ],
            "type": "heatmap"
           }
          ],
          "heatmapgl": [
           {
            "colorbar": {
             "outlinewidth": 0,
             "ticks": ""
            },
            "colorscale": [
             [
              0,
              "#0d0887"
             ],
             [
              0.1111111111111111,
              "#46039f"
             ],
             [
              0.2222222222222222,
              "#7201a8"
             ],
             [
              0.3333333333333333,
              "#9c179e"
             ],
             [
              0.4444444444444444,
              "#bd3786"
             ],
             [
              0.5555555555555556,
              "#d8576b"
             ],
             [
              0.6666666666666666,
              "#ed7953"
             ],
             [
              0.7777777777777778,
              "#fb9f3a"
             ],
             [
              0.8888888888888888,
              "#fdca26"
             ],
             [
              1,
              "#f0f921"
             ]
            ],
            "type": "heatmapgl"
           }
          ],
          "histogram": [
           {
            "marker": {
             "colorbar": {
              "outlinewidth": 0,
              "ticks": ""
             }
            },
            "type": "histogram"
           }
          ],
          "histogram2d": [
           {
            "colorbar": {
             "outlinewidth": 0,
             "ticks": ""
            },
            "colorscale": [
             [
              0,
              "#0d0887"
             ],
             [
              0.1111111111111111,
              "#46039f"
             ],
             [
              0.2222222222222222,
              "#7201a8"
             ],
             [
              0.3333333333333333,
              "#9c179e"
             ],
             [
              0.4444444444444444,
              "#bd3786"
             ],
             [
              0.5555555555555556,
              "#d8576b"
             ],
             [
              0.6666666666666666,
              "#ed7953"
             ],
             [
              0.7777777777777778,
              "#fb9f3a"
             ],
             [
              0.8888888888888888,
              "#fdca26"
             ],
             [
              1,
              "#f0f921"
             ]
            ],
            "type": "histogram2d"
           }
          ],
          "histogram2dcontour": [
           {
            "colorbar": {
             "outlinewidth": 0,
             "ticks": ""
            },
            "colorscale": [
             [
              0,
              "#0d0887"
             ],
             [
              0.1111111111111111,
              "#46039f"
             ],
             [
              0.2222222222222222,
              "#7201a8"
             ],
             [
              0.3333333333333333,
              "#9c179e"
             ],
             [
              0.4444444444444444,
              "#bd3786"
             ],
             [
              0.5555555555555556,
              "#d8576b"
             ],
             [
              0.6666666666666666,
              "#ed7953"
             ],
             [
              0.7777777777777778,
              "#fb9f3a"
             ],
             [
              0.8888888888888888,
              "#fdca26"
             ],
             [
              1,
              "#f0f921"
             ]
            ],
            "type": "histogram2dcontour"
           }
          ],
          "mesh3d": [
           {
            "colorbar": {
             "outlinewidth": 0,
             "ticks": ""
            },
            "type": "mesh3d"
           }
          ],
          "parcoords": [
           {
            "line": {
             "colorbar": {
              "outlinewidth": 0,
              "ticks": ""
             }
            },
            "type": "parcoords"
           }
          ],
          "pie": [
           {
            "automargin": true,
            "type": "pie"
           }
          ],
          "scatter": [
           {
            "marker": {
             "colorbar": {
              "outlinewidth": 0,
              "ticks": ""
             }
            },
            "type": "scatter"
           }
          ],
          "scatter3d": [
           {
            "line": {
             "colorbar": {
              "outlinewidth": 0,
              "ticks": ""
             }
            },
            "marker": {
             "colorbar": {
              "outlinewidth": 0,
              "ticks": ""
             }
            },
            "type": "scatter3d"
           }
          ],
          "scattercarpet": [
           {
            "marker": {
             "colorbar": {
              "outlinewidth": 0,
              "ticks": ""
             }
            },
            "type": "scattercarpet"
           }
          ],
          "scattergeo": [
           {
            "marker": {
             "colorbar": {
              "outlinewidth": 0,
              "ticks": ""
             }
            },
            "type": "scattergeo"
           }
          ],
          "scattergl": [
           {
            "marker": {
             "colorbar": {
              "outlinewidth": 0,
              "ticks": ""
             }
            },
            "type": "scattergl"
           }
          ],
          "scattermapbox": [
           {
            "marker": {
             "colorbar": {
              "outlinewidth": 0,
              "ticks": ""
             }
            },
            "type": "scattermapbox"
           }
          ],
          "scatterpolar": [
           {
            "marker": {
             "colorbar": {
              "outlinewidth": 0,
              "ticks": ""
             }
            },
            "type": "scatterpolar"
           }
          ],
          "scatterpolargl": [
           {
            "marker": {
             "colorbar": {
              "outlinewidth": 0,
              "ticks": ""
             }
            },
            "type": "scatterpolargl"
           }
          ],
          "scatterternary": [
           {
            "marker": {
             "colorbar": {
              "outlinewidth": 0,
              "ticks": ""
             }
            },
            "type": "scatterternary"
           }
          ],
          "surface": [
           {
            "colorbar": {
             "outlinewidth": 0,
             "ticks": ""
            },
            "colorscale": [
             [
              0,
              "#0d0887"
             ],
             [
              0.1111111111111111,
              "#46039f"
             ],
             [
              0.2222222222222222,
              "#7201a8"
             ],
             [
              0.3333333333333333,
              "#9c179e"
             ],
             [
              0.4444444444444444,
              "#bd3786"
             ],
             [
              0.5555555555555556,
              "#d8576b"
             ],
             [
              0.6666666666666666,
              "#ed7953"
             ],
             [
              0.7777777777777778,
              "#fb9f3a"
             ],
             [
              0.8888888888888888,
              "#fdca26"
             ],
             [
              1,
              "#f0f921"
             ]
            ],
            "type": "surface"
           }
          ],
          "table": [
           {
            "cells": {
             "fill": {
              "color": "#EBF0F8"
             },
             "line": {
              "color": "white"
             }
            },
            "header": {
             "fill": {
              "color": "#C8D4E3"
             },
             "line": {
              "color": "white"
             }
            },
            "type": "table"
           }
          ]
         },
         "layout": {
          "annotationdefaults": {
           "arrowcolor": "#2a3f5f",
           "arrowhead": 0,
           "arrowwidth": 1
          },
          "coloraxis": {
           "colorbar": {
            "outlinewidth": 0,
            "ticks": ""
           }
          },
          "colorscale": {
           "diverging": [
            [
             0,
             "#8e0152"
            ],
            [
             0.1,
             "#c51b7d"
            ],
            [
             0.2,
             "#de77ae"
            ],
            [
             0.3,
             "#f1b6da"
            ],
            [
             0.4,
             "#fde0ef"
            ],
            [
             0.5,
             "#f7f7f7"
            ],
            [
             0.6,
             "#e6f5d0"
            ],
            [
             0.7,
             "#b8e186"
            ],
            [
             0.8,
             "#7fbc41"
            ],
            [
             0.9,
             "#4d9221"
            ],
            [
             1,
             "#276419"
            ]
           ],
           "sequential": [
            [
             0,
             "#0d0887"
            ],
            [
             0.1111111111111111,
             "#46039f"
            ],
            [
             0.2222222222222222,
             "#7201a8"
            ],
            [
             0.3333333333333333,
             "#9c179e"
            ],
            [
             0.4444444444444444,
             "#bd3786"
            ],
            [
             0.5555555555555556,
             "#d8576b"
            ],
            [
             0.6666666666666666,
             "#ed7953"
            ],
            [
             0.7777777777777778,
             "#fb9f3a"
            ],
            [
             0.8888888888888888,
             "#fdca26"
            ],
            [
             1,
             "#f0f921"
            ]
           ],
           "sequentialminus": [
            [
             0,
             "#0d0887"
            ],
            [
             0.1111111111111111,
             "#46039f"
            ],
            [
             0.2222222222222222,
             "#7201a8"
            ],
            [
             0.3333333333333333,
             "#9c179e"
            ],
            [
             0.4444444444444444,
             "#bd3786"
            ],
            [
             0.5555555555555556,
             "#d8576b"
            ],
            [
             0.6666666666666666,
             "#ed7953"
            ],
            [
             0.7777777777777778,
             "#fb9f3a"
            ],
            [
             0.8888888888888888,
             "#fdca26"
            ],
            [
             1,
             "#f0f921"
            ]
           ]
          },
          "colorway": [
           "#636efa",
           "#EF553B",
           "#00cc96",
           "#ab63fa",
           "#FFA15A",
           "#19d3f3",
           "#FF6692",
           "#B6E880",
           "#FF97FF",
           "#FECB52"
          ],
          "font": {
           "color": "#2a3f5f"
          },
          "geo": {
           "bgcolor": "white",
           "lakecolor": "white",
           "landcolor": "#E5ECF6",
           "showlakes": true,
           "showland": true,
           "subunitcolor": "white"
          },
          "hoverlabel": {
           "align": "left"
          },
          "hovermode": "closest",
          "mapbox": {
           "style": "light"
          },
          "paper_bgcolor": "white",
          "plot_bgcolor": "#E5ECF6",
          "polar": {
           "angularaxis": {
            "gridcolor": "white",
            "linecolor": "white",
            "ticks": ""
           },
           "bgcolor": "#E5ECF6",
           "radialaxis": {
            "gridcolor": "white",
            "linecolor": "white",
            "ticks": ""
           }
          },
          "scene": {
           "xaxis": {
            "backgroundcolor": "#E5ECF6",
            "gridcolor": "white",
            "gridwidth": 2,
            "linecolor": "white",
            "showbackground": true,
            "ticks": "",
            "zerolinecolor": "white"
           },
           "yaxis": {
            "backgroundcolor": "#E5ECF6",
            "gridcolor": "white",
            "gridwidth": 2,
            "linecolor": "white",
            "showbackground": true,
            "ticks": "",
            "zerolinecolor": "white"
           },
           "zaxis": {
            "backgroundcolor": "#E5ECF6",
            "gridcolor": "white",
            "gridwidth": 2,
            "linecolor": "white",
            "showbackground": true,
            "ticks": "",
            "zerolinecolor": "white"
           }
          },
          "shapedefaults": {
           "line": {
            "color": "#2a3f5f"
           }
          },
          "ternary": {
           "aaxis": {
            "gridcolor": "white",
            "linecolor": "white",
            "ticks": ""
           },
           "baxis": {
            "gridcolor": "white",
            "linecolor": "white",
            "ticks": ""
           },
           "bgcolor": "#E5ECF6",
           "caxis": {
            "gridcolor": "white",
            "linecolor": "white",
            "ticks": ""
           }
          },
          "title": {
           "x": 0.05
          },
          "xaxis": {
           "automargin": true,
           "gridcolor": "white",
           "linecolor": "white",
           "ticks": "",
           "title": {
            "standoff": 15
           },
           "zerolinecolor": "white",
           "zerolinewidth": 2
          },
          "yaxis": {
           "automargin": true,
           "gridcolor": "white",
           "linecolor": "white",
           "ticks": "",
           "title": {
            "standoff": 15
           },
           "zerolinecolor": "white",
           "zerolinewidth": 2
          }
         }
        },
        "title": {
         "text": "Total Cumulative Investments Over Time"
        },
        "xaxis": {
         "title": {
          "text": "Ticker"
         }
        },
        "yaxis": {
         "title": {
          "text": "Returns"
         }
        },
        "yaxis2": {
         "overlaying": "y",
         "side": "right",
         "title": {
          "text": "Cum ROI Mult"
         }
        }
       }
      },
      "text/html": [
       "<div>\n",
       "        \n",
       "        \n",
       "            <div id=\"61ba5c01-0b66-4b33-a535-18a0429a47c0\" class=\"plotly-graph-div\" style=\"height:525px; width:100%;\"></div>\n",
       "            <script type=\"text/javascript\">\n",
       "                require([\"plotly\"], function(Plotly) {\n",
       "                    window.PLOTLYENV=window.PLOTLYENV || {};\n",
       "                    \n",
       "                if (document.getElementById(\"61ba5c01-0b66-4b33-a535-18a0429a47c0\")) {\n",
       "                    Plotly.newPlot(\n",
       "                        '61ba5c01-0b66-4b33-a535-18a0429a47c0',\n",
       "                        [{\"name\": \"Cum Invst\", \"type\": \"bar\", \"x\": [\"AAPL\", \"FB\", \"JNJ\", \"MCD\", \"MTCH\", \"NFLX\", \"TWTR\", \"WMT\"], \"y\": [8175.000000000001, 16173.0, 24363.0, 32862.0, 41040.0, 49193.25, 57378.75, 65916.25]}, {\"name\": \"Cum SP500 Returns\", \"type\": \"bar\", \"x\": [\"AAPL\", \"FB\", \"JNJ\", \"MCD\", \"MTCH\", \"NFLX\", \"TWTR\", \"WMT\"], \"y\": [17011.84656790827, 31162.286287971383, 45035.31882232347, 61398.88143440876, 74102.9849313743, 87428.33744834409, 100152.65036310167, 116063.57682533399]}, {\"name\": \"Cum Ticker Returns\", \"type\": \"bar\", \"x\": [\"AAPL\", \"FB\", \"JNJ\", \"MCD\", \"MTCH\", \"NFLX\", \"TWTR\", \"WMT\"], \"y\": [33406.25, 63652.249908447266, 77401.25045776367, 96849.25003051758, 139137.25204467773, 162736.75231933594, 169691.50228500366, 184577.75182724]}, {\"name\": \"Cum ROI Mult\", \"type\": \"scatter\", \"x\": [\"AAPL\", \"FB\", \"JNJ\", \"MCD\", \"MTCH\", \"NFLX\", \"TWTR\", \"WMT\"], \"y\": [4.086391437308868, 3.9357107468278776, 3.17699997774345, 2.947150204811563, 3.3902839192172936, 3.308111424216451, 2.9573928028234087, 2.800185869603322], \"yaxis\": \"y2\"}],\n",
       "                        {\"barmode\": \"group\", \"legend\": {\"x\": 0.4, \"y\": 1}, \"template\": {\"data\": {\"bar\": [{\"error_x\": {\"color\": \"#2a3f5f\"}, \"error_y\": {\"color\": \"#2a3f5f\"}, \"marker\": {\"line\": {\"color\": \"#E5ECF6\", \"width\": 0.5}}, \"type\": \"bar\"}], \"barpolar\": [{\"marker\": {\"line\": {\"color\": \"#E5ECF6\", \"width\": 0.5}}, \"type\": \"barpolar\"}], \"carpet\": [{\"aaxis\": {\"endlinecolor\": \"#2a3f5f\", \"gridcolor\": \"white\", \"linecolor\": \"white\", \"minorgridcolor\": \"white\", \"startlinecolor\": \"#2a3f5f\"}, \"baxis\": {\"endlinecolor\": \"#2a3f5f\", \"gridcolor\": \"white\", \"linecolor\": \"white\", \"minorgridcolor\": \"white\", \"startlinecolor\": \"#2a3f5f\"}, \"type\": \"carpet\"}], \"choropleth\": [{\"colorbar\": {\"outlinewidth\": 0, \"ticks\": \"\"}, \"type\": \"choropleth\"}], \"contour\": [{\"colorbar\": {\"outlinewidth\": 0, \"ticks\": \"\"}, \"colorscale\": [[0.0, \"#0d0887\"], [0.1111111111111111, \"#46039f\"], [0.2222222222222222, \"#7201a8\"], [0.3333333333333333, \"#9c179e\"], [0.4444444444444444, \"#bd3786\"], [0.5555555555555556, \"#d8576b\"], [0.6666666666666666, \"#ed7953\"], [0.7777777777777778, \"#fb9f3a\"], [0.8888888888888888, \"#fdca26\"], [1.0, \"#f0f921\"]], \"type\": \"contour\"}], \"contourcarpet\": [{\"colorbar\": {\"outlinewidth\": 0, \"ticks\": \"\"}, \"type\": \"contourcarpet\"}], \"heatmap\": [{\"colorbar\": {\"outlinewidth\": 0, \"ticks\": \"\"}, \"colorscale\": [[0.0, \"#0d0887\"], [0.1111111111111111, \"#46039f\"], [0.2222222222222222, \"#7201a8\"], [0.3333333333333333, \"#9c179e\"], [0.4444444444444444, \"#bd3786\"], [0.5555555555555556, \"#d8576b\"], [0.6666666666666666, \"#ed7953\"], [0.7777777777777778, \"#fb9f3a\"], [0.8888888888888888, \"#fdca26\"], [1.0, \"#f0f921\"]], \"type\": \"heatmap\"}], \"heatmapgl\": [{\"colorbar\": {\"outlinewidth\": 0, \"ticks\": \"\"}, \"colorscale\": [[0.0, \"#0d0887\"], [0.1111111111111111, \"#46039f\"], [0.2222222222222222, \"#7201a8\"], [0.3333333333333333, \"#9c179e\"], [0.4444444444444444, \"#bd3786\"], [0.5555555555555556, \"#d8576b\"], [0.6666666666666666, \"#ed7953\"], [0.7777777777777778, \"#fb9f3a\"], [0.8888888888888888, \"#fdca26\"], [1.0, \"#f0f921\"]], \"type\": \"heatmapgl\"}], \"histogram\": [{\"marker\": {\"colorbar\": {\"outlinewidth\": 0, \"ticks\": \"\"}}, \"type\": \"histogram\"}], \"histogram2d\": [{\"colorbar\": {\"outlinewidth\": 0, \"ticks\": \"\"}, \"colorscale\": [[0.0, \"#0d0887\"], [0.1111111111111111, \"#46039f\"], [0.2222222222222222, \"#7201a8\"], [0.3333333333333333, \"#9c179e\"], [0.4444444444444444, \"#bd3786\"], [0.5555555555555556, \"#d8576b\"], [0.6666666666666666, \"#ed7953\"], [0.7777777777777778, \"#fb9f3a\"], [0.8888888888888888, \"#fdca26\"], [1.0, \"#f0f921\"]], \"type\": \"histogram2d\"}], \"histogram2dcontour\": [{\"colorbar\": {\"outlinewidth\": 0, \"ticks\": \"\"}, \"colorscale\": [[0.0, \"#0d0887\"], [0.1111111111111111, \"#46039f\"], [0.2222222222222222, \"#7201a8\"], [0.3333333333333333, \"#9c179e\"], [0.4444444444444444, \"#bd3786\"], [0.5555555555555556, \"#d8576b\"], [0.6666666666666666, \"#ed7953\"], [0.7777777777777778, \"#fb9f3a\"], [0.8888888888888888, \"#fdca26\"], [1.0, \"#f0f921\"]], \"type\": \"histogram2dcontour\"}], \"mesh3d\": [{\"colorbar\": {\"outlinewidth\": 0, \"ticks\": \"\"}, \"type\": \"mesh3d\"}], \"parcoords\": [{\"line\": {\"colorbar\": {\"outlinewidth\": 0, \"ticks\": \"\"}}, \"type\": \"parcoords\"}], \"pie\": [{\"automargin\": true, \"type\": \"pie\"}], \"scatter\": [{\"marker\": {\"colorbar\": {\"outlinewidth\": 0, \"ticks\": \"\"}}, \"type\": \"scatter\"}], \"scatter3d\": [{\"line\": {\"colorbar\": {\"outlinewidth\": 0, \"ticks\": \"\"}}, \"marker\": {\"colorbar\": {\"outlinewidth\": 0, \"ticks\": \"\"}}, \"type\": \"scatter3d\"}], \"scattercarpet\": [{\"marker\": {\"colorbar\": {\"outlinewidth\": 0, \"ticks\": \"\"}}, \"type\": \"scattercarpet\"}], \"scattergeo\": [{\"marker\": {\"colorbar\": {\"outlinewidth\": 0, \"ticks\": \"\"}}, \"type\": \"scattergeo\"}], \"scattergl\": [{\"marker\": {\"colorbar\": {\"outlinewidth\": 0, \"ticks\": \"\"}}, \"type\": \"scattergl\"}], \"scattermapbox\": [{\"marker\": {\"colorbar\": {\"outlinewidth\": 0, \"ticks\": \"\"}}, \"type\": \"scattermapbox\"}], \"scatterpolar\": [{\"marker\": {\"colorbar\": {\"outlinewidth\": 0, \"ticks\": \"\"}}, \"type\": \"scatterpolar\"}], \"scatterpolargl\": [{\"marker\": {\"colorbar\": {\"outlinewidth\": 0, \"ticks\": \"\"}}, \"type\": \"scatterpolargl\"}], \"scatterternary\": [{\"marker\": {\"colorbar\": {\"outlinewidth\": 0, \"ticks\": \"\"}}, \"type\": \"scatterternary\"}], \"surface\": [{\"colorbar\": {\"outlinewidth\": 0, \"ticks\": \"\"}, \"colorscale\": [[0.0, \"#0d0887\"], [0.1111111111111111, \"#46039f\"], [0.2222222222222222, \"#7201a8\"], [0.3333333333333333, \"#9c179e\"], [0.4444444444444444, \"#bd3786\"], [0.5555555555555556, \"#d8576b\"], [0.6666666666666666, \"#ed7953\"], [0.7777777777777778, \"#fb9f3a\"], [0.8888888888888888, \"#fdca26\"], [1.0, \"#f0f921\"]], \"type\": \"surface\"}], \"table\": [{\"cells\": {\"fill\": {\"color\": \"#EBF0F8\"}, \"line\": {\"color\": \"white\"}}, \"header\": {\"fill\": {\"color\": \"#C8D4E3\"}, \"line\": {\"color\": \"white\"}}, \"type\": \"table\"}]}, \"layout\": {\"annotationdefaults\": {\"arrowcolor\": \"#2a3f5f\", \"arrowhead\": 0, \"arrowwidth\": 1}, \"coloraxis\": {\"colorbar\": {\"outlinewidth\": 0, \"ticks\": \"\"}}, \"colorscale\": {\"diverging\": [[0, \"#8e0152\"], [0.1, \"#c51b7d\"], [0.2, \"#de77ae\"], [0.3, \"#f1b6da\"], [0.4, \"#fde0ef\"], [0.5, \"#f7f7f7\"], [0.6, \"#e6f5d0\"], [0.7, \"#b8e186\"], [0.8, \"#7fbc41\"], [0.9, \"#4d9221\"], [1, \"#276419\"]], \"sequential\": [[0.0, \"#0d0887\"], [0.1111111111111111, \"#46039f\"], [0.2222222222222222, \"#7201a8\"], [0.3333333333333333, \"#9c179e\"], [0.4444444444444444, \"#bd3786\"], [0.5555555555555556, \"#d8576b\"], [0.6666666666666666, \"#ed7953\"], [0.7777777777777778, \"#fb9f3a\"], [0.8888888888888888, \"#fdca26\"], [1.0, \"#f0f921\"]], \"sequentialminus\": [[0.0, \"#0d0887\"], [0.1111111111111111, \"#46039f\"], [0.2222222222222222, \"#7201a8\"], [0.3333333333333333, \"#9c179e\"], [0.4444444444444444, \"#bd3786\"], [0.5555555555555556, \"#d8576b\"], [0.6666666666666666, \"#ed7953\"], [0.7777777777777778, \"#fb9f3a\"], [0.8888888888888888, \"#fdca26\"], [1.0, \"#f0f921\"]]}, \"colorway\": [\"#636efa\", \"#EF553B\", \"#00cc96\", \"#ab63fa\", \"#FFA15A\", \"#19d3f3\", \"#FF6692\", \"#B6E880\", \"#FF97FF\", \"#FECB52\"], \"font\": {\"color\": \"#2a3f5f\"}, \"geo\": {\"bgcolor\": \"white\", \"lakecolor\": \"white\", \"landcolor\": \"#E5ECF6\", \"showlakes\": true, \"showland\": true, \"subunitcolor\": \"white\"}, \"hoverlabel\": {\"align\": \"left\"}, \"hovermode\": \"closest\", \"mapbox\": {\"style\": \"light\"}, \"paper_bgcolor\": \"white\", \"plot_bgcolor\": \"#E5ECF6\", \"polar\": {\"angularaxis\": {\"gridcolor\": \"white\", \"linecolor\": \"white\", \"ticks\": \"\"}, \"bgcolor\": \"#E5ECF6\", \"radialaxis\": {\"gridcolor\": \"white\", \"linecolor\": \"white\", \"ticks\": \"\"}}, \"scene\": {\"xaxis\": {\"backgroundcolor\": \"#E5ECF6\", \"gridcolor\": \"white\", \"gridwidth\": 2, \"linecolor\": \"white\", \"showbackground\": true, \"ticks\": \"\", \"zerolinecolor\": \"white\"}, \"yaxis\": {\"backgroundcolor\": \"#E5ECF6\", \"gridcolor\": \"white\", \"gridwidth\": 2, \"linecolor\": \"white\", \"showbackground\": true, \"ticks\": \"\", \"zerolinecolor\": \"white\"}, \"zaxis\": {\"backgroundcolor\": \"#E5ECF6\", \"gridcolor\": \"white\", \"gridwidth\": 2, \"linecolor\": \"white\", \"showbackground\": true, \"ticks\": \"\", \"zerolinecolor\": \"white\"}}, \"shapedefaults\": {\"line\": {\"color\": \"#2a3f5f\"}}, \"ternary\": {\"aaxis\": {\"gridcolor\": \"white\", \"linecolor\": \"white\", \"ticks\": \"\"}, \"baxis\": {\"gridcolor\": \"white\", \"linecolor\": \"white\", \"ticks\": \"\"}, \"bgcolor\": \"#E5ECF6\", \"caxis\": {\"gridcolor\": \"white\", \"linecolor\": \"white\", \"ticks\": \"\"}}, \"title\": {\"x\": 0.05}, \"xaxis\": {\"automargin\": true, \"gridcolor\": \"white\", \"linecolor\": \"white\", \"ticks\": \"\", \"title\": {\"standoff\": 15}, \"zerolinecolor\": \"white\", \"zerolinewidth\": 2}, \"yaxis\": {\"automargin\": true, \"gridcolor\": \"white\", \"linecolor\": \"white\", \"ticks\": \"\", \"title\": {\"standoff\": 15}, \"zerolinecolor\": \"white\", \"zerolinewidth\": 2}}}, \"title\": {\"text\": \"Total Cumulative Investments Over Time\"}, \"xaxis\": {\"title\": {\"text\": \"Ticker\"}}, \"yaxis\": {\"title\": {\"text\": \"Returns\"}}, \"yaxis2\": {\"overlaying\": \"y\", \"side\": \"right\", \"title\": {\"text\": \"Cum ROI Mult\"}}},\n",
       "                        {\"responsive\": true}\n",
       "                    ).then(function(){\n",
       "                            \n",
       "var gd = document.getElementById('61ba5c01-0b66-4b33-a535-18a0429a47c0');\n",
       "var x = new MutationObserver(function (mutations, observer) {{\n",
       "        var display = window.getComputedStyle(gd).display;\n",
       "        if (!display || display === 'none') {{\n",
       "            console.log([gd, 'removed!']);\n",
       "            Plotly.purge(gd);\n",
       "            observer.disconnect();\n",
       "        }}\n",
       "}});\n",
       "\n",
       "// Listen for the removal of the full notebook cells\n",
       "var notebookContainer = gd.closest('#notebook-container');\n",
       "if (notebookContainer) {{\n",
       "    x.observe(notebookContainer, {childList: true});\n",
       "}}\n",
       "\n",
       "// Listen for the clearing of the current output cell\n",
       "var outputEl = gd.closest('.output');\n",
       "if (outputEl) {{\n",
       "    x.observe(outputEl, {childList: true});\n",
       "}}\n",
       "\n",
       "                        })\n",
       "                };\n",
       "                });\n",
       "            </script>\n",
       "        </div>"
      ]
     },
     "metadata": {},
     "output_type": "display_data"
    }
   ],
   "source": [
    "trace1 = go.Bar(\n",
    "    x = merged_portfolio_sp_latest_YTD_sp_closing_high['Ticker'],\n",
    "    y = merged_portfolio_sp_latest_YTD_sp_closing_high['Cum Invst'],\n",
    "    # mode = 'lines+markers',\n",
    "    name = 'Cum Invst')\n",
    "\n",
    "trace2 = go.Bar(\n",
    "    x = merged_portfolio_sp_latest_YTD_sp_closing_high['Ticker'],\n",
    "    y = merged_portfolio_sp_latest_YTD_sp_closing_high['Cum SP Returns'],\n",
    "    # mode = 'lines+markers',\n",
    "    name = 'Cum SP500 Returns')\n",
    "\n",
    "trace3 = go.Bar(\n",
    "    x = merged_portfolio_sp_latest_YTD_sp_closing_high['Ticker'],\n",
    "    y = merged_portfolio_sp_latest_YTD_sp_closing_high['Cum Ticker Returns'],\n",
    "    # mode = 'lines+markers',\n",
    "    name = 'Cum Ticker Returns')\n",
    "\n",
    "trace4 = go.Scatter(\n",
    "    x = merged_portfolio_sp_latest_YTD_sp_closing_high['Ticker'],\n",
    "    y = merged_portfolio_sp_latest_YTD_sp_closing_high['Cum Ticker ROI Mult'],\n",
    "    # mode = 'lines+markers',\n",
    "    name = 'Cum ROI Mult'\n",
    "    , yaxis='y2')\n",
    "\n",
    "\n",
    "data = [trace1, trace2, trace3, trace4]\n",
    "\n",
    "layout = go.Layout(title = 'Total Cumulative Investments Over Time'\n",
    "    , barmode = 'group'\n",
    "    , yaxis=dict(title='Returns')\n",
    "    , xaxis=dict(title='Ticker')\n",
    "    , legend=dict(x=.4,y=1)\n",
    "    , yaxis2=dict(title='Cum ROI Mult', overlaying='y', side='right')               \n",
    "    )\n",
    "\n",
    "fig = go.Figure(data=data, layout=layout)\n",
    "iplot(fig)"
   ]
  },
  {
   "cell_type": "code",
   "execution_count": null,
   "metadata": {},
   "outputs": [],
   "source": []
  }
 ],
 "metadata": {
  "kernelspec": {
   "display_name": "Python 3",
   "language": "python",
   "name": "python3"
  },
  "language_info": {
   "codemirror_mode": {
    "name": "ipython",
    "version": 3
   },
   "file_extension": ".py",
   "mimetype": "text/x-python",
   "name": "python",
   "nbconvert_exporter": "python",
   "pygments_lexer": "ipython3",
   "version": "3.7.4"
  }
 },
 "nbformat": 4,
 "nbformat_minor": 2
}
